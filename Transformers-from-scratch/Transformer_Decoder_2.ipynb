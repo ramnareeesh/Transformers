{
 "cells": [
  {
   "cell_type": "code",
   "execution_count": 19,
   "id": "initial_id",
   "metadata": {
    "ExecuteTime": {
     "end_time": "2025-01-22T17:05:18.614084Z",
     "start_time": "2025-01-22T17:05:18.610621Z"
    },
    "collapsed": true,
    "jupyter": {
     "outputs_hidden": true
    }
   },
   "outputs": [],
   "source": [
    "import tensorflow as tf\n",
    "import random\n",
    "import numpy as np\n",
    "from keras.layers import LayerNormalization, Layer, Dense, ReLU, Dropout,TextVectorization, Embedding\n",
    "from keras.backend import softmax \n",
    "from tensorflow import math, matmul, reshape, shape, transpose, cast, float32"
   ]
  },
  {
   "cell_type": "code",
   "execution_count": 20,
   "id": "f0651c35b87d7087",
   "metadata": {
    "ExecuteTime": {
     "end_time": "2025-01-22T17:05:18.703224Z",
     "start_time": "2025-01-22T17:05:18.697574Z"
    }
   },
   "outputs": [
    {
     "data": {
      "text/plain": [
       "'2.15.0'"
      ]
     },
     "execution_count": 20,
     "metadata": {},
     "output_type": "execute_result"
    }
   ],
   "source": [
    "tf.__version__"
   ]
  },
  {
   "cell_type": "code",
   "execution_count": 21,
   "id": "6c2a7caef1efa30a",
   "metadata": {
    "ExecuteTime": {
     "end_time": "2025-01-22T17:05:18.721641Z",
     "start_time": "2025-01-22T17:05:18.715509Z"
    }
   },
   "outputs": [],
   "source": [
    "# tf.keras.__version__"
   ]
  },
  {
   "cell_type": "code",
   "execution_count": 22,
   "id": "b78d3f825005a533",
   "metadata": {
    "ExecuteTime": {
     "end_time": "2025-01-22T17:05:18.740420Z",
     "start_time": "2025-01-22T17:05:18.737691Z"
    }
   },
   "outputs": [
    {
     "data": {
      "text/plain": [
       "'2.15.0'"
      ]
     },
     "execution_count": 22,
     "metadata": {},
     "output_type": "execute_result"
    }
   ],
   "source": [
    "import keras\n",
    "keras.__version__"
   ]
  },
  {
   "cell_type": "markdown",
   "id": "c8eedbd527817ae",
   "metadata": {
    "collapsed": false,
    "jupyter": {
     "outputs_hidden": false
    }
   },
   "source": [
    "### Positional embedding"
   ]
  },
  {
   "cell_type": "code",
   "execution_count": 23,
   "id": "4d541c35d3d8ae5b",
   "metadata": {
    "ExecuteTime": {
     "end_time": "2025-01-22T17:05:18.766771Z",
     "start_time": "2025-01-22T17:05:18.763114Z"
    },
    "collapsed": false,
    "jupyter": {
     "outputs_hidden": false
    }
   },
   "outputs": [],
   "source": [
    "class PositionEmbeddingFixedWeights(Layer):\n",
    "    def __init__(self, seq_length, vocab_size, output_dim, **kwargs):\n",
    "        super().__init__(**kwargs)\n",
    "        word_embedding_matrix = self.get_position_encoding(vocab_size, output_dim)\n",
    "        pos_embedding_matrix = self.get_position_encoding(seq_length, output_dim)\n",
    "        self.word_embedding_layer = Embedding(input_dim=vocab_size, output_dim=output_dim,weights=[word_embedding_matrix],trainable=False)\n",
    "        self.position_embedding_layer = Embedding(input_dim=seq_length, output_dim=output_dim,weights=[pos_embedding_matrix],trainable=False)\n",
    "    \n",
    "    def get_position_encoding(self, seq_len, d, n=10000):\n",
    "        P = np.zeros((seq_len, d))\n",
    "        for k in range(seq_len):\n",
    "            for i in np.arange(int(d/2)):\n",
    "                denominator = np.power(n, 2*i/d)\n",
    "                P[k, 2*i] = np.sin(k/denominator)\n",
    "                P[k, 2*i+1] = np.cos(k/denominator)\n",
    "        return P\n",
    "    \n",
    "    \n",
    "    def call(self, inputs):\n",
    "        position_indices = tf.range(tf.shape(inputs)[-1])\n",
    "        embedded_words = self.word_embedding_layer(inputs)\n",
    "        embedded_indices = self.position_embedding_layer(position_indices)\n",
    "        return embedded_words + embedded_indices"
   ]
  },
  {
   "cell_type": "markdown",
   "id": "4feb726f4448ab0b",
   "metadata": {
    "collapsed": false,
    "jupyter": {
     "outputs_hidden": false
    }
   },
   "source": [
    "### Single headed Self Attention"
   ]
  },
  {
   "cell_type": "code",
   "execution_count": 24,
   "id": "d70074e3fcc0f604",
   "metadata": {
    "ExecuteTime": {
     "end_time": "2025-01-22T17:05:18.772122Z",
     "start_time": "2025-01-22T17:05:18.768266Z"
    },
    "collapsed": false,
    "jupyter": {
     "outputs_hidden": false
    }
   },
   "outputs": [],
   "source": [
    "class DotProductAttention(Layer):\n",
    "    def __init__(self,**kwargs):\n",
    "        super().__init__(**kwargs)\n",
    "    \n",
    "    def call(self,queries,keys,values,d_k,mask = None):\n",
    "        \n",
    "        # Scoring the queries against the keys after transposing the latter, and scaling\n",
    "        scores = matmul(queries, keys, transpose_b=True) / math.sqrt(cast(d_k, float32))\n",
    "        \n",
    "        # Apply mask to the attention scores\n",
    "        if mask is not None:\n",
    "            scores += -1e9 * mask\n",
    "        \n",
    "        # Computing the weights by a softmax operation\n",
    "        weights = softmax(scores)\n",
    "        \n",
    "        # Computing the attention by a weighted sum of the value vectors\n",
    "        return matmul(weights, values)\n",
    "        \n",
    "    "
   ]
  },
  {
   "cell_type": "markdown",
   "id": "1d3c0f68500a54a6",
   "metadata": {
    "collapsed": false,
    "jupyter": {
     "outputs_hidden": false
    }
   },
   "source": [
    "### Multi - headed self attention"
   ]
  },
  {
   "cell_type": "code",
   "execution_count": 25,
   "id": "509bfc0c5150ec2a",
   "metadata": {
    "ExecuteTime": {
     "end_time": "2025-01-22T17:05:18.795910Z",
     "start_time": "2025-01-22T17:05:18.788167Z"
    },
    "collapsed": false,
    "jupyter": {
     "outputs_hidden": false
    }
   },
   "outputs": [],
   "source": [
    "class MultiHeadAttention(Layer):\n",
    "    def __init__(self, h, d_k, d_v, d_model, **kwargs):\n",
    "        super().__init__(**kwargs)\n",
    "        self.attention = DotProductAttention() # Scaled dot product attention\n",
    "        self.heads = h # Number of attention heads to use\n",
    "        self.d_k = d_k # Dimensionality of the linearly projected queries and keys\n",
    "        self.d_v = d_v # Dimensionality of the linearly projected values\n",
    "        self.d_model = d_model # Dimensionality of the model\n",
    "        self.W_q = Dense(d_k) # Learned projection matrix for the queries\n",
    "        self.W_k = Dense(d_k) # Learned projection matrix for the keys\n",
    "        self.W_v = Dense(d_v) # Learned projection matrix for the values\n",
    "        self.W_o = Dense(d_model) # Learned projection matrix for the multi-head output\n",
    "    def reshape_tensor(self, x, heads, flag):\n",
    "        if flag:\n",
    "            # Tensor shape after reshaping and transposing:\n",
    "            # (batch_size, heads, seq_length, -1)\n",
    "            x = reshape(x, shape=(shape(x)[0], shape(x)[1], heads, -1))\n",
    "            x = transpose(x, perm=(0, 2, 1, 3))\n",
    "        else:\n",
    "            # Reverting the reshaping and transposing operations:\n",
    "            # (batch_size, seq_length, d_k)\n",
    "            x = transpose(x, perm=(0, 2, 1, 3))\n",
    "            x = reshape(x, shape=(shape(x)[0], shape(x)[1], self.d_k))\n",
    "        return x\n",
    "    \n",
    "    def call(self, queries, keys, values, mask=None):\n",
    "        # Rearrange the queries to be able to compute all heads in parallel\n",
    "        q_reshaped = self.reshape_tensor(self.W_q(queries), self.heads, True)\n",
    "        # Resulting tensor shape: (batch_size, heads, input_seq_length, -1)\n",
    "        # Rearrange the keys to be able to compute all heads in parallel\n",
    "        k_reshaped = self.reshape_tensor(self.W_k(keys), self.heads, True)\n",
    "        # Resulting tensor shape: (batch_size, heads, input_seq_length, -1)\n",
    "        # Rearrange the values to be able to compute all heads in parallel\n",
    "        v_reshaped = self.reshape_tensor(self.W_v(values), self.heads, True)\n",
    "        # Resulting tensor shape: (batch_size, heads, input_seq_length, -1)\n",
    "        # Compute the multi-head attention output using the reshaped queries,\n",
    "        # keys, and values\n",
    "        o_reshaped = self.attention(q_reshaped, k_reshaped, v_reshaped, self.d_k, mask)\n",
    "        # Resulting tensor shape: (batch_size, heads, input_seq_length, -1)\n",
    "        # Rearrange back the output into concatenated form\n",
    "        output = self.reshape_tensor(o_reshaped, self.heads, False)\n",
    "        # Resulting tensor shape: (batch_size, input_seq_length, d_v)\n",
    "        # Apply one final linear projection to the output to generate the multi-head\n",
    "        # attention. Resulting tensor shape: (batch_size, input_seq_length, d_model)\n",
    "        return self.W_o(output)"
   ]
  },
  {
   "cell_type": "markdown",
   "id": "7bfcd918e2ea99af",
   "metadata": {
    "collapsed": false,
    "jupyter": {
     "outputs_hidden": false
    }
   },
   "source": [
    "### Normalization layer"
   ]
  },
  {
   "cell_type": "code",
   "execution_count": 26,
   "id": "9e21c6cd2173a129",
   "metadata": {
    "ExecuteTime": {
     "end_time": "2025-01-22T17:05:18.816801Z",
     "start_time": "2025-01-22T17:05:18.814010Z"
    },
    "collapsed": false,
    "jupyter": {
     "outputs_hidden": false
    }
   },
   "outputs": [],
   "source": [
    "# Implementing the Add & Norm Layer\n",
    "class AddNormalization(Layer):\n",
    "    def __init__(self, **kwargs):\n",
    "        super().__init__(**kwargs)\n",
    "        self.layer_norm = LayerNormalization() # Layer normalization layer\n",
    "    def call(self, x, sublayer_x):\n",
    "        # The sublayer input and output need to be of the same shape to be summed\n",
    "        add = x + sublayer_x\n",
    "        # Apply layer normalization to the sum\n",
    "        return self.layer_norm(add)\n"
   ]
  },
  {
   "cell_type": "markdown",
   "id": "55755539e20295e0",
   "metadata": {
    "collapsed": false,
    "jupyter": {
     "outputs_hidden": false
    }
   },
   "source": [
    "### Feed forward layer"
   ]
  },
  {
   "cell_type": "code",
   "execution_count": 27,
   "id": "d656aceea94273d5",
   "metadata": {
    "ExecuteTime": {
     "end_time": "2025-01-22T17:05:18.827532Z",
     "start_time": "2025-01-22T17:05:18.819232Z"
    },
    "collapsed": false,
    "jupyter": {
     "outputs_hidden": false
    }
   },
   "outputs": [],
   "source": [
    "# Implementing the Feed-Forward Layer\n",
    "class FeedForward(Layer):\n",
    "    def __init__(self, d_ff, d_model, **kwargs):\n",
    "        super().__init__(**kwargs)\n",
    "        self.fully_connected1 = Dense(d_ff) # First fully connected layer\n",
    "        self.fully_connected2 = Dense(d_model) # Second fully connected layer\n",
    "        self.activation = ReLU() # ReLU activation layer\n",
    "        \n",
    "    def call(self, x):\n",
    "        # The input is passed into the two fully-connected layers, with a ReLU in between\n",
    "        x_fc1 = self.fully_connected1(x)\n",
    "        return self.fully_connected2(self.activation(x_fc1))"
   ]
  },
  {
   "cell_type": "markdown",
   "id": "359ea7129f25aaa3",
   "metadata": {
    "collapsed": false,
    "jupyter": {
     "outputs_hidden": false
    }
   },
   "source": [
    "### A single decoder layer"
   ]
  },
  {
   "cell_type": "code",
   "execution_count": 28,
   "id": "1b155ac7fc3e94d5",
   "metadata": {
    "ExecuteTime": {
     "end_time": "2025-01-22T17:05:18.849266Z",
     "start_time": "2025-01-22T17:05:18.844831Z"
    },
    "collapsed": false,
    "jupyter": {
     "outputs_hidden": false
    }
   },
   "outputs": [],
   "source": [
    "class DecoderLayer(Layer):\n",
    "    def __init__(self, h, d_k, d_v, d_model, d_ff, rate, **kwargs):\n",
    "        super().__init__(**kwargs)\n",
    "        self.multihead_attention1 = MultiHeadAttention(h, d_k, d_v, d_model)\n",
    "        self.dropout1 = Dropout(rate)\n",
    "        self.add_norm1 = AddNormalization()\n",
    "        self.multihead_attention2 = MultiHeadAttention(h, d_k, d_v, d_model)\n",
    "        self.dropout2 = Dropout(rate)\n",
    "        self.add_norm2 = AddNormalization()\n",
    "        self.feed_forward = FeedForward(d_ff, d_model)\n",
    "        self.dropout3 = Dropout(rate)\n",
    "        self.add_norm3 = AddNormalization()\n",
    "    \n",
    "    \n",
    "    def call(self, x, encoder_output, lookahead_mask, padding_mask, training):\n",
    "        # Multi-head attention layer\n",
    "        multihead_output1 = self.multihead_attention1(x, x, x, lookahead_mask)\n",
    "         \n",
    "        # Expected output shape = (batch_size, sequence_length, d_model)\n",
    "        # Add in a dropout layer\n",
    "        multihead_output1 = self.dropout1(multihead_output1, training=training)\n",
    "        # Followed by an Add & Norm layer\n",
    "        addnorm_output1 = self.add_norm1(x, multihead_output1)\n",
    "        # Expected output shape = (batch_size, sequence_length, d_model)\n",
    "        # Followed by another multi-head attention layer\n",
    "        multihead_output2 = self.multihead_attention2(addnorm_output1, encoder_output,encoder_output, padding_mask)\n",
    "         \n",
    "        # Add in another dropout layer\n",
    "        multihead_output2 = self.dropout2(multihead_output2, training=training)\n",
    "        \n",
    "        # Followed by another Add & Norm layer\n",
    "        addnorm_output2 = self.add_norm1(addnorm_output1, multihead_output2)\n",
    "        \n",
    "        # Followed by a fully connected layer\n",
    "        feedforward_output = self.feed_forward(addnorm_output2)\n",
    "        # Expected output shape = (batch_size, sequence_length, d_model)\n",
    "        \n",
    "        # Add in another dropout layer\n",
    "        feedforward_output = self.dropout3(feedforward_output, training=training)\n",
    "        \n",
    "        # Followed by another Add & Norm layer\n",
    "        return self.add_norm3(addnorm_output2, feedforward_output)"
   ]
  },
  {
   "cell_type": "markdown",
   "id": "d34dcaf58a81a352",
   "metadata": {
    "collapsed": false,
    "jupyter": {
     "outputs_hidden": false
    }
   },
   "source": [
    "### Decoder construct"
   ]
  },
  {
   "cell_type": "code",
   "execution_count": 29,
   "id": "1042d92555ff92ff",
   "metadata": {
    "ExecuteTime": {
     "end_time": "2025-01-22T17:05:18.883187Z",
     "start_time": "2025-01-22T17:05:18.874958Z"
    },
    "collapsed": false,
    "jupyter": {
     "outputs_hidden": false
    }
   },
   "outputs": [],
   "source": [
    "class Decoder(Layer):\n",
    "    def __init__(self, vocab_size, sequence_length, h, d_k, d_v, d_model, d_ff, n, rate,**kwargs):\n",
    "        super().__init__(**kwargs)\n",
    "        self.pos_encoding = PositionEmbeddingFixedWeights(sequence_length, vocab_size,d_model)\n",
    "        self.dropout = Dropout(rate)\n",
    "        self.decoder_layer = [DecoderLayer(h, d_k, d_v, d_model, d_ff, rate) for _ in range(n)]\n",
    "        \n",
    "    \n",
    "    def call(self, output_target, encoder_output, lookahead_mask, padding_mask, training):\n",
    "        # Generate the positional encoding\n",
    "        pos_encoding_output = self.pos_encoding(output_target)\n",
    "        # Expected output shape = (number of sentences, sequence_length, d_model)\n",
    "        # Add in a dropout layer\n",
    "        x = self.dropout(pos_encoding_output, training=training)\n",
    "        # Pass on the positional encoded values to each encoder layer\n",
    "        for i, layer in enumerate(self.decoder_layer):\n",
    "            x = layer(x, encoder_output, lookahead_mask, padding_mask, training)\n",
    "        return x"
   ]
  },
  {
   "cell_type": "code",
   "execution_count": 30,
   "id": "6aeed9fdb72b3bf8",
   "metadata": {
    "ExecuteTime": {
     "end_time": "2025-01-22T17:05:18.910399Z",
     "start_time": "2025-01-22T17:05:18.906465Z"
    },
    "collapsed": false,
    "jupyter": {
     "outputs_hidden": false
    }
   },
   "outputs": [],
   "source": [
    "h = 8 # Number of self-attention heads\n",
    "d_k = 64 # Dimensionality of the linearly projected queries and keys\n",
    "d_v = 64 # Dimensionality of the linearly projected values\n",
    "d_ff = 2048 # Dimensionality of the inner fully connected layer\n",
    "d_model = 512 # Dimensionality of the model sub-layers' outputs\n",
    "n = 6 # Number of layers in the encoder stack\n",
    "batch_size = 64 # Batch size from the training process\n",
    "dropout_rate = 0.1 # Frequency of dropping the input units in the dropout layers"
   ]
  },
  {
   "cell_type": "code",
   "execution_count": 31,
   "id": "bd7ade4077f7665b",
   "metadata": {
    "ExecuteTime": {
     "end_time": "2025-01-22T17:05:18.921525Z",
     "start_time": "2025-01-22T17:05:18.917014Z"
    },
    "collapsed": false,
    "jupyter": {
     "outputs_hidden": false
    }
   },
   "outputs": [],
   "source": [
    "dec_vocab_size = 20 # Vocabulary size for the decoder\n",
    "input_seq_length = 5 # Maximum length of the input sequence\n",
    "input_seq = np.random.rand(batch_size, input_seq_length)\n",
    "enc_output = np.random.rand(batch_size, input_seq_length, d_model)"
   ]
  },
  {
   "cell_type": "code",
   "execution_count": 32,
   "id": "7475e17b5afc0035",
   "metadata": {
    "ExecuteTime": {
     "end_time": "2025-01-22T17:05:18.971348Z",
     "start_time": "2025-01-22T17:05:18.965050Z"
    },
    "collapsed": false,
    "jupyter": {
     "outputs_hidden": false
    }
   },
   "outputs": [
    {
     "data": {
      "text/plain": [
       "array([[0.23813781, 0.42660844, 0.13588108, 0.69869822, 0.15502572],\n",
       "       [0.54423014, 0.72538066, 0.96723151, 0.50507157, 0.37427433],\n",
       "       [0.26311723, 0.4107038 , 0.18986037, 0.04716535, 0.11306036],\n",
       "       [0.77567514, 0.50454637, 0.86204885, 0.32113565, 0.12107299],\n",
       "       [0.86997978, 0.6966864 , 0.69174761, 0.42036661, 0.87675345],\n",
       "       [0.60359937, 0.91711472, 0.7754632 , 0.59363341, 0.28111298],\n",
       "       [0.6206492 , 0.3163445 , 0.58198378, 0.70812806, 0.54572353],\n",
       "       [0.49704156, 0.36933219, 0.30878125, 0.436825  , 0.73380636],\n",
       "       [0.44149429, 0.40475286, 0.1570381 , 0.8534246 , 0.84651119],\n",
       "       [0.31217915, 0.90187771, 0.72047894, 0.16132092, 0.63965084],\n",
       "       [0.38533828, 0.47631031, 0.93778978, 0.83679139, 0.45861227],\n",
       "       [0.03710763, 0.4883284 , 0.42453325, 0.30148008, 0.5892237 ],\n",
       "       [0.96776412, 0.32441958, 0.42511626, 0.20273241, 0.20243375],\n",
       "       [0.63239289, 0.8651447 , 0.09875595, 0.02418938, 0.00638857],\n",
       "       [0.9661999 , 0.85020729, 0.44876639, 0.56700672, 0.65236593],\n",
       "       [0.74597926, 0.57996988, 0.00280926, 0.64069616, 0.2753963 ],\n",
       "       [0.53709144, 0.79664784, 0.88949055, 0.69145   , 0.70068985],\n",
       "       [0.65599972, 0.76056954, 0.83631362, 0.16470215, 0.16724266],\n",
       "       [0.70330547, 0.66117414, 0.4199987 , 0.98522351, 0.77465103],\n",
       "       [0.55697191, 0.1194671 , 0.3845136 , 0.98749641, 0.80843988],\n",
       "       [0.55290971, 0.25182277, 0.00277443, 0.137261  , 0.83322028],\n",
       "       [0.03761045, 0.50162195, 0.49943848, 0.7367766 , 0.31607419],\n",
       "       [0.03921095, 0.10722481, 0.6032214 , 0.61358634, 0.18410271],\n",
       "       [0.66104635, 0.72727717, 0.98359448, 0.22074344, 0.60801368],\n",
       "       [0.77593091, 0.39491896, 0.31640702, 0.38344213, 0.26551571],\n",
       "       [0.60992428, 0.21333871, 0.74158201, 0.88564362, 0.7327363 ],\n",
       "       [0.90239629, 0.64974658, 0.07870297, 0.75816058, 0.62801625],\n",
       "       [0.56267183, 0.49815121, 0.3495179 , 0.76270761, 0.53530244],\n",
       "       [0.87302353, 0.94363032, 0.74884016, 0.71467828, 0.57090716],\n",
       "       [0.21866278, 0.91228925, 0.13434099, 0.89105084, 0.96226383],\n",
       "       [0.09234108, 0.46809726, 0.09256957, 0.10471781, 0.99314106],\n",
       "       [0.33594153, 0.08798094, 0.01184823, 0.77172079, 0.74965783],\n",
       "       [0.35935897, 0.56155227, 0.73116951, 0.77783412, 0.45890781],\n",
       "       [0.47602484, 0.00503649, 0.53913213, 0.12274158, 0.067661  ],\n",
       "       [0.01822137, 0.23038489, 0.19784839, 0.27382733, 0.76375861],\n",
       "       [0.97699027, 0.75575095, 0.31320669, 0.21948584, 0.63734646],\n",
       "       [0.0653719 , 0.49711104, 0.16535982, 0.35588864, 0.21012531],\n",
       "       [0.33650955, 0.41187541, 0.65180836, 0.40015435, 0.44217084],\n",
       "       [0.01876517, 0.48866164, 0.60266723, 0.65993748, 0.27334506],\n",
       "       [0.87360788, 0.81783416, 0.22774978, 0.2940545 , 0.86948904],\n",
       "       [0.4601933 , 0.9193915 , 0.21437624, 0.47972959, 0.39008346],\n",
       "       [0.97876415, 0.27865841, 0.95518163, 0.01929711, 0.6196269 ],\n",
       "       [0.47193218, 0.774383  , 0.50437115, 0.169067  , 0.55203836],\n",
       "       [0.44745405, 0.83710916, 0.12563798, 0.4054668 , 0.50903116],\n",
       "       [0.41705201, 0.94363661, 0.95845825, 0.79399551, 0.98925422],\n",
       "       [0.68598991, 0.93818388, 0.83357971, 0.78481871, 0.08148112],\n",
       "       [0.21099945, 0.70812571, 0.80547571, 0.72599036, 0.81281344],\n",
       "       [0.87773993, 0.96814904, 0.57230287, 0.46552773, 0.42325462],\n",
       "       [0.60496047, 0.98498267, 0.41976677, 0.38697382, 0.93863159],\n",
       "       [0.50926531, 0.42532718, 0.23115687, 0.42351527, 0.621633  ],\n",
       "       [0.46325633, 0.86635182, 0.5337255 , 0.15547732, 0.10831377],\n",
       "       [0.78865843, 0.36818084, 0.32362745, 0.44210345, 0.65646332],\n",
       "       [0.38442535, 0.87312382, 0.48360528, 0.35114383, 0.71574573],\n",
       "       [0.45346709, 0.58547026, 0.27354594, 0.9677031 , 0.46133692],\n",
       "       [0.68951599, 0.88265057, 0.55117812, 0.52784073, 0.06296644],\n",
       "       [0.22995424, 0.90490078, 0.89210237, 0.87706181, 0.36417766],\n",
       "       [0.94046512, 0.24822855, 0.54367643, 0.18297615, 0.77422406],\n",
       "       [0.15697311, 0.49069499, 0.16604534, 0.95342179, 0.90020516],\n",
       "       [0.1468163 , 0.96949281, 0.79392019, 0.83049479, 0.12274637],\n",
       "       [0.78434046, 0.18128251, 0.86810568, 0.2919178 , 0.31565686],\n",
       "       [0.62029185, 0.99158535, 0.84983112, 0.59880585, 0.21436448],\n",
       "       [0.32510994, 0.46182985, 0.56489157, 0.01492745, 0.76680648],\n",
       "       [0.95727627, 0.12410384, 0.70632534, 0.18782836, 0.85490424],\n",
       "       [0.52652832, 0.53901223, 0.29626681, 0.72508967, 0.70764338]])"
      ]
     },
     "execution_count": 32,
     "metadata": {},
     "output_type": "execute_result"
    }
   ],
   "source": [
    "input_seq"
   ]
  },
  {
   "cell_type": "code",
   "execution_count": 33,
   "id": "1cb5486f2d723270",
   "metadata": {
    "ExecuteTime": {
     "end_time": "2025-01-22T17:05:19.024378Z",
     "start_time": "2025-01-22T17:05:19.019450Z"
    },
    "collapsed": false,
    "jupyter": {
     "outputs_hidden": false
    }
   },
   "outputs": [
    {
     "data": {
      "text/plain": [
       "(64, 5, 512)"
      ]
     },
     "execution_count": 33,
     "metadata": {},
     "output_type": "execute_result"
    }
   ],
   "source": [
    "enc_output.shape"
   ]
  },
  {
   "cell_type": "code",
   "execution_count": 34,
   "id": "7eb2ce593ae43fb8",
   "metadata": {
    "ExecuteTime": {
     "end_time": "2025-01-22T17:05:22.041573Z",
     "start_time": "2025-01-22T17:05:19.038038Z"
    },
    "collapsed": false,
    "jupyter": {
     "outputs_hidden": false
    }
   },
   "outputs": [
    {
     "name": "stderr",
     "output_type": "stream",
     "text": [
      "2025-01-22 22:35:19.292079: I metal_plugin/src/device/metal_device.cc:1154] Metal device set to: Apple M2 Pro\n",
      "2025-01-22 22:35:19.292155: I metal_plugin/src/device/metal_device.cc:296] systemMemory: 16.00 GB\n",
      "2025-01-22 22:35:19.292186: I metal_plugin/src/device/metal_device.cc:313] maxCacheSize: 5.33 GB\n",
      "2025-01-22 22:35:19.292272: I tensorflow/core/common_runtime/pluggable_device/pluggable_device_factory.cc:306] Could not identify NUMA node of platform GPU ID 0, defaulting to 0. Your kernel may not have been built with NUMA support.\n",
      "2025-01-22 22:35:19.292334: I tensorflow/core/common_runtime/pluggable_device/pluggable_device_factory.cc:272] Created TensorFlow device (/job:localhost/replica:0/task:0/device:GPU:0 with 0 MB memory) -> physical PluggableDevice (device: 0, name: METAL, pci bus id: <undefined>)\n"
     ]
    }
   ],
   "source": [
    "decoder = Decoder(dec_vocab_size, input_seq_length, h, d_k, d_v, d_model, d_ff, n, dropout_rate)\n",
    "res = decoder(input_seq, enc_output, None, True)"
   ]
  },
  {
   "cell_type": "code",
   "execution_count": 35,
   "id": "3c0786747a8cdf51",
   "metadata": {
    "collapsed": false,
    "jupyter": {
     "outputs_hidden": false
    }
   },
   "outputs": [
    {
     "data": {
      "text/plain": [
       "TensorShape([64, 5, 512])"
      ]
     },
     "execution_count": 35,
     "metadata": {},
     "output_type": "execute_result"
    }
   ],
   "source": [
    "res.shape"
   ]
  },
  {
   "cell_type": "code",
   "execution_count": 36,
   "id": "b0ed8d4a6bd11171",
   "metadata": {
    "ExecuteTime": {
     "end_time": "2025-01-22T17:05:22.059645Z",
     "start_time": "2025-01-22T17:05:22.052569Z"
    },
    "collapsed": false,
    "jupyter": {
     "outputs_hidden": false
    }
   },
   "outputs": [
    {
     "data": {
      "text/plain": [
       "<tf.Tensor: shape=(64, 5, 512), dtype=float32, numpy=\n",
       "array([[[-0.31399804,  0.3582848 ,  0.9608977 , ...,  0.7796432 ,\n",
       "         -0.17132258,  0.6318447 ],\n",
       "        [-0.16476522,  0.26555887,  1.1058702 , ...,  0.7995784 ,\n",
       "         -0.21809655,  0.60369086],\n",
       "        [-0.16110751,  0.12419628,  1.1247411 , ...,  0.8273342 ,\n",
       "         -0.23887831,  0.58821464],\n",
       "        [-0.33306292,  0.08242546,  0.9983434 , ...,  0.84448594,\n",
       "         -0.24468735,  0.59599435],\n",
       "        [-0.5300367 ,  0.1823957 ,  0.80842257, ...,  0.86645854,\n",
       "         -0.22730008,  0.60720867]],\n",
       "\n",
       "       [[-0.2937455 , -0.01389704,  0.9137147 , ...,  0.9045331 ,\n",
       "         -0.21043386,  0.84684753],\n",
       "        [-0.15168926, -0.09704671,  1.0583394 , ...,  0.9050211 ,\n",
       "         -0.24323916,  0.8080223 ],\n",
       "        [-0.13834375, -0.22642714,  1.0986501 , ...,  0.90665746,\n",
       "         -0.2700992 ,  0.77882814],\n",
       "        [-0.29970443, -0.28521848,  0.9809275 , ...,  0.9209179 ,\n",
       "         -0.26641336,  0.7722647 ],\n",
       "        [-0.47807658, -0.19900392,  0.80034125, ...,  0.9560077 ,\n",
       "         -0.2320629 ,  0.7511581 ]],\n",
       "\n",
       "       [[-0.24258602,  0.05368471,  1.1762135 , ...,  1.0388627 ,\n",
       "         -0.00778281,  0.36005953],\n",
       "        [-0.10772   , -0.02856874,  1.3212432 , ...,  1.0462494 ,\n",
       "         -0.05441938,  0.33825263],\n",
       "        [-0.10109072, -0.15244666,  1.3669668 , ...,  1.0478737 ,\n",
       "         -0.07235848,  0.33196825],\n",
       "        [-0.2492928 , -0.20276596,  1.2561568 , ...,  1.0708116 ,\n",
       "         -0.04851021,  0.33904615],\n",
       "        [-0.41997507, -0.12499827,  1.0788188 , ...,  1.1042316 ,\n",
       "         -0.02418073,  0.31958765]],\n",
       "\n",
       "       ...,\n",
       "\n",
       "       [[-0.31463665,  0.13311262,  1.0493466 , ...,  0.93544894,\n",
       "         -0.04861211,  0.60020924],\n",
       "        [-0.16088323,  0.02658148,  1.1972946 , ...,  0.958423  ,\n",
       "         -0.07103601,  0.5815789 ],\n",
       "        [-0.1352262 , -0.11254004,  1.2443868 , ...,  0.97611296,\n",
       "         -0.08608214,  0.5729284 ],\n",
       "        [-0.2694537 , -0.16040306,  1.1495167 , ...,  0.98635304,\n",
       "         -0.07134548,  0.5857232 ],\n",
       "        [-0.45334217, -0.08354153,  0.96413326, ...,  1.0103958 ,\n",
       "         -0.04871267,  0.59953594]],\n",
       "\n",
       "       [[-0.17280686,  0.07210309,  0.94567597, ...,  0.5644664 ,\n",
       "         -0.14946096,  0.68548584],\n",
       "        [-0.0683868 , -0.0250882 ,  1.0727733 , ...,  0.54631203,\n",
       "         -0.16371198,  0.6678801 ],\n",
       "        [-0.08006749, -0.16568221,  1.1065089 , ...,  0.53875494,\n",
       "         -0.17368372,  0.6305103 ],\n",
       "        [-0.24601516, -0.22117873,  1.0069919 , ...,  0.5521985 ,\n",
       "         -0.16031684,  0.63603646],\n",
       "        [-0.4005615 , -0.12792099,  0.85518265, ...,  0.59206206,\n",
       "         -0.1382616 ,  0.6400467 ]],\n",
       "\n",
       "       [[-0.20832737,  0.3027756 ,  1.1465516 , ...,  0.95910835,\n",
       "         -0.1828324 ,  0.6709762 ],\n",
       "        [-0.06987299,  0.19546951,  1.294952  , ...,  0.99812096,\n",
       "         -0.21927205,  0.6446619 ],\n",
       "        [-0.0778338 ,  0.04916321,  1.3310988 , ...,  1.0204526 ,\n",
       "         -0.2163056 ,  0.629426  ],\n",
       "        [-0.23462544,  0.00852592,  1.2021458 , ...,  1.0224743 ,\n",
       "         -0.18860814,  0.631301  ],\n",
       "        [-0.41351622,  0.10368996,  1.0140024 , ...,  1.042827  ,\n",
       "         -0.15144072,  0.62206244]]], dtype=float32)>"
      ]
     },
     "execution_count": 36,
     "metadata": {},
     "output_type": "execute_result"
    }
   ],
   "source": [
    "res"
   ]
  },
  {
   "cell_type": "code",
   "execution_count": 1,
   "id": "4ede4c1e90269b36",
   "metadata": {
    "ExecuteTime": {
     "end_time": "2025-01-22T17:13:32.084573Z",
     "start_time": "2025-01-22T17:13:31.498345Z"
    },
    "collapsed": false,
    "jupyter": {
     "outputs_hidden": false
    }
   },
   "outputs": [
    {
     "name": "stdout",
     "output_type": "stream",
     "text": [
      "\n",
      "# conda environments:\n",
      "#\n",
      "base                   /Users/ramnaresh/anaconda3\n",
      "ComputerVision         /Users/ramnaresh/anaconda3/envs/ComputerVision\n",
      "Lam-Research           /Users/ramnaresh/anaconda3/envs/Lam-Research\n",
      "LamResearch            /Users/ramnaresh/anaconda3/envs/LamResearch\n",
      "MachineLearning        /Users/ramnaresh/anaconda3/envs/MachineLearning\n",
      "MetalTensorFlow        /Users/ramnaresh/anaconda3/envs/MetalTensorFlow\n",
      "MetalTensorflow        /Users/ramnaresh/anaconda3/envs/MetalTensorflow\n",
      "Transformers         * /Users/ramnaresh/anaconda3/envs/Transformers\n",
      "mlx                    /Users/ramnaresh/anaconda3/envs/mlx\n",
      "\n",
      "\n"
     ]
    }
   ],
   "source": [
    "import subprocess\n",
    "\n",
    "# Run the conda info --envs command\n",
    "conda_envs = subprocess.run(['conda', 'info', '--envs'], capture_output=True, text=True)\n",
    "\n",
    "# Print the output\n",
    "print(conda_envs.stdout)"
   ]
  },
  {
   "cell_type": "code",
   "execution_count": null,
   "id": "b487e089f241b47b",
   "metadata": {},
   "outputs": [],
   "source": []
  }
 ],
 "metadata": {
  "kernelspec": {
   "display_name": "Python 3 (ipykernel)",
   "language": "python",
   "name": "python3"
  },
  "language_info": {
   "codemirror_mode": {
    "name": "ipython",
    "version": 3
   },
   "file_extension": ".py",
   "mimetype": "text/x-python",
   "name": "python",
   "nbconvert_exporter": "python",
   "pygments_lexer": "ipython3",
   "version": "3.11.10"
  }
 },
 "nbformat": 4,
 "nbformat_minor": 5
}
