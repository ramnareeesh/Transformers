{
 "cells": [
  {
   "cell_type": "code",
   "execution_count": 1,
   "outputs": [],
   "source": [
    "import numpy as np\n",
    "import math\n",
    "from gensim.models import Word2Vec\n",
    "from sklearn.metrics.pairwise import cosine_similarity\n",
    "from nltk.tokenize import sent_tokenize,word_tokenize"
   ],
   "metadata": {
    "collapsed": false,
    "ExecuteTime": {
     "end_time": "2024-09-26T02:27:56.775439Z",
     "start_time": "2024-09-26T02:27:55.082708Z"
    }
   },
   "id": "3e6f0055478e6868"
  },
  {
   "cell_type": "code",
   "execution_count": 2,
   "outputs": [],
   "source": [
    "input = open(\"text.txt\",\"r\")"
   ],
   "metadata": {
    "collapsed": false,
    "ExecuteTime": {
     "end_time": "2024-09-26T02:27:56.781016Z",
     "start_time": "2024-09-26T02:27:56.775642Z"
    }
   },
   "id": "6f64216e2a814a85"
  },
  {
   "cell_type": "code",
   "execution_count": 3,
   "outputs": [],
   "source": [
    "#input = \"The orange cat sat on the blue couch and the black dog slept on the rug. The cat did not cross the street because it was too wet.\""
   ],
   "metadata": {
    "collapsed": false,
    "ExecuteTime": {
     "end_time": "2024-09-26T02:27:56.781359Z",
     "start_time": "2024-09-26T02:27:56.777576Z"
    }
   },
   "id": "a2dc05eaec16d303"
  },
  {
   "cell_type": "code",
   "execution_count": 4,
   "outputs": [],
   "source": [
    "s = input.read()\n",
    "f = s.replace(\"\\n\", \" \") "
   ],
   "metadata": {
    "collapsed": false,
    "ExecuteTime": {
     "end_time": "2024-09-26T02:27:56.782360Z",
     "start_time": "2024-09-26T02:27:56.780466Z"
    }
   },
   "id": "ab26b60afc547633"
  },
  {
   "cell_type": "code",
   "execution_count": 5,
   "outputs": [
    {
     "data": {
      "text/plain": "'The black cat sat on the couch and the brown dog slept on the rug.The cat did not cross the street because it was too wet.The dog sat on the couch near the rug.The black cat sat on the couch and the brown dog slept on the rug.The cat did not cross the street because it was too wet.The dog sat on the couch near the rug. The black cat sat on the couch and the brown dog slept on the rug.The cat did not cross the street because it was too wet.The dog sat on the couch near the rug. The black cat sat on the couch and the brown dog slept on the rug.The cat did not cross the street because it was too wet.The dog sat on the couch near the rug. The black cat sat on the couch and the brown dog slept on the rug.The cat did not cross the street because it was too wet.The dog sat on the couch near the rug. The black cat sat on the couch and the brown dog slept on the rug.The cat did not cross the street because it was too wet.The dog sat on the couch near the rug. The black cat sat on the couch and the brown dog slept on the rug.The cat did not cross the street because it was too wet.The dog sat on the couch near the rug. The black cat sat on the couch and the brown dog slept on the rug.The cat did not cross the street because it was too wet.The dog sat on the couch near the rug. The black cat sat on the couch and the brown dog slept on the rug.The cat did not cross the street because it was too wet.The dog sat on the couch near the rug. The black cat sat on the couch and the brown dog slept on the rug.The cat did not cross the street because it was too wet.The dog sat on the couch near the rug. The black cat sat on the couch and the brown dog slept on the rug.The cat did not cross the street because it was too wet.The dog sat on the couch near the rug. The black cat sat on the couch and the brown dog slept on the rug.The cat did not cross the street because it was too wet.The dog sat on the couch near the rug. The black cat sat on the couch and the brown dog slept on the rug.The cat did not cross the street because it was too wet.The dog sat on the couch near the rug. The black cat sat on the couch and the brown dog slept on the rug.The cat did not cross the street because it was too wet.The dog sat on the couch near the rug. The black cat sat on the couch and the brown dog slept on the rug.The cat did not cross the street because it was too wet.The dog sat on the couch near the rug. The black cat sat on the couch and the brown dog slept on the rug.The cat did not cross the street because it was too wet.The dog sat on the couch near the rug. The black cat sat on the couch and the brown dog slept on the rug.The cat did not cross the street because it was too wet.The dog sat on the couch near the rug. The black cat sat on the couch and the brown dog slept on the rug.The cat did not cross the street because it was too wet.The dog sat on the couch near the rug. The black cat sat on the couch and the brown dog slept on the rug.The cat did not cross the street because it was too wet.The dog sat on the couch near the rug. The black cat sat on the couch and the brown dog slept on the rug.The cat did not cross the street because it was too wet.The dog sat on the couch near the rug. The black cat sat on the couch and the brown dog slept on the rug.The cat did not cross the street because it was too wet.The dog sat on the couch near the rug. The black cat sat on the couch and the brown dog slept on the rug.The cat did not cross the street because it was too wet.The dog sat on the couch near the rug. The black cat sat on the couch and the brown dog slept on the rug.The cat did not cross the street because it was too wet.The dog sat on the couch near the rug. The black cat sat on the couch and the brown dog slept on the rug.The cat did not cross the street because it was too wet.The dog sat on the couch near the rug. The black cat sat on the couch and the brown dog slept on the rug.The cat did not cross the street because it was too wet.The dog sat on the couch near the rug. The black cat sat on the couch and the brown dog slept on the rug.The cat did not cross the street because it was too wet.The dog sat on the couch near the rug. The black cat sat on the couch and the brown dog slept on the rug.The cat did not cross the street because it was too wet.The dog sat on the couch near the rug. The black cat sat on the couch and the brown dog slept on the rug.The cat did not cross the street because it was too wet.The dog sat on the couch near the rug. The black cat sat on the couch and the brown dog slept on the rug.The cat did not cross the street because it was too wet.The dog sat on the couch near the rug. The black cat sat on the couch and the brown dog slept on the rug.The cat did not cross the street because it was too wet.The dog sat on the couch near the rug. The black cat sat on the couch and the brown dog slept on the rug.The cat did not cross the street because it was too wet.The dog sat on the couch near the rug. The black cat sat on the couch and the brown dog slept on the rug.The cat did not cross the street because it was too wet.The dog sat on the couch near the rug. The black cat sat on the couch and the brown dog slept on the rug.The cat did not cross the street because it was too wet.The dog sat on the couch near the rug. The black cat sat on the couch and the brown dog slept on the rug.The cat did not cross the street because it was too wet.The dog sat on the couch near the rug. The black cat sat on the couch and the brown dog slept on the rug.The cat did not cross the street because it was too wet.The dog sat on the couch near the rug. The black cat sat on the couch and the brown dog slept on the rug.The cat did not cross the street because it was too wet.The dog sat on the couch near the rug. The black cat sat on the couch and the brown dog slept on the rug.The cat did not cross the street because it was too wet.The dog sat on the couch near the rug. The black cat sat on the couch and the brown dog slept on the rug.The cat did not cross the street because it was too wet.The dog sat on the couch near the rug. The black cat sat on the couch and the brown dog slept on the rug.The cat did not cross the street because it was too wet.The dog sat on the couch near the rug. The black cat sat on the couch and the brown dog slept on the rug.The cat did not cross the street because it was too wet.The dog sat on the couch near the rug. The black cat sat on the couch and the brown dog slept on the rug.The cat did not cross the street because it was too wet.The dog sat on the couch near the rug. The black cat sat on the couch and the brown dog slept on the rug.The cat did not cross the street because it was too wet.The dog sat on the couch near the rug. The black cat sat on the couch and the brown dog slept on the rug.The cat did not cross the street because it was too wet.The dog sat on the couch near the rug. The black cat sat on the couch and the brown dog slept on the rug.The cat did not cross the street because it was too wet.The dog sat on the couch near the rug. The black cat sat on the couch and the brown dog slept on the rug.The cat did not cross the street because it was too wet.The dog sat on the couch near the rug. The black cat sat on the couch and the brown dog slept on the rug.The cat did not cross the street because it was too wet.The dog sat on the couch near the rug. The black cat sat on the couch and the brown dog slept on the rug.The cat did not cross the street because it was too wet.The dog sat on the couch near the rug. The black cat sat on the couch and the brown dog slept on the rug.The cat did not cross the street because it was too wet.The dog sat on the couch near the rug. The black cat sat on the couch and the brown dog slept on the rug.The cat did not cross the street because it was too wet.The dog sat on the couch near the rug. The black cat sat on the couch and the brown dog slept on the rug.The cat did not cross the street because it was too wet.The dog sat on the couch near the rug. The black cat sat on the couch and the brown dog slept on the rug.The cat did not cross the street because it was too wet.The dog sat on the couch near the rug. The black cat sat on the couch and the brown dog slept on the rug.The cat did not cross the street because it was too wet.The dog sat on the couch near the rug. The black cat sat on the couch and the brown dog slept on the rug.The cat did not cross the street because it was too wet.The dog sat on the couch near the rug. The black cat sat on the couch and the brown dog slept on the rug.The cat did not cross the street because it was too wet.The dog sat on the couch near the rug. The black cat sat on the couch and the brown dog slept on the rug.The cat did not cross the street because it was too wet.The dog sat on the couch near the rug. The black cat sat on the couch and the brown dog slept on the rug.The cat did not cross the street because it was too wet.The dog sat on the couch near the rug. The black cat sat on the couch and the brown dog slept on the rug.The cat did not cross the street because it was too wet.The dog sat on the couch near the rug. The black cat sat on the couch and the brown dog slept on the rug.The cat did not cross the street because it was too wet.The dog sat on the couch near the rug. The black cat sat on the couch and the brown dog slept on the rug.The cat did not cross the street because it was too wet.The dog sat on the couch near the rug. The black cat sat on the couch and the brown dog slept on the rug.The cat did not cross the street because it was too wet.The dog sat on the couch near the rug. The black cat sat on the couch and the brown dog slept on the rug.The cat did not cross the street because it was too wet.The dog sat on the couch near the rug. The black cat sat on the couch and the brown dog slept on the rug.The cat did not cross the street because it was too wet.The dog sat on the couch near the rug. The black cat sat on the couch and the brown dog slept on the rug.The cat did not cross the street because it was too wet.The dog sat on the couch near the rug. The black cat sat on the couch and the brown dog slept on the rug.The cat did not cross the street because it was too wet.The dog sat on the couch near the rug. The black cat sat on the couch and the brown dog slept on the rug.The cat did not cross the street because it was too wet.The dog sat on the couch near the rug. The black cat sat on the couch and the brown dog slept on the rug.The cat did not cross the street because it was too wet.The dog sat on the couch near the rug. The black cat sat on the couch and the brown dog slept on the rug.The cat did not cross the street because it was too wet.The dog sat on the couch near the rug. The black cat sat on the couch and the brown dog slept on the rug.The cat did not cross the street because it was too wet.The dog sat on the couch near the rug. The black cat sat on the couch and the brown dog slept on the rug.The cat did not cross the street because it was too wet.The dog sat on the couch near the rug. The black cat sat on the couch and the brown dog slept on the rug.The cat did not cross the street because it was too wet.The dog sat on the couch near the rug. The black cat sat on the couch and the brown dog slept on the rug.The cat did not cross the street because it was too wet.The dog sat on the couch near the rug. The black cat sat on the couch and the brown dog slept on the rug.The cat did not cross the street because it was too wet.The dog sat on the couch near the rug. The black cat sat on the couch and the brown dog slept on the rug.The cat did not cross the street because it was too wet.The dog sat on the couch near the rug. The black cat sat on the couch and the brown dog slept on the rug.The cat did not cross the street because it was too wet.The dog sat on the couch near the rug. The black cat sat on the couch and the brown dog slept on the rug.The cat did not cross the street because it was too wet.The dog sat on the couch near the rug. The black cat sat on the couch and the brown dog slept on the rug.The cat did not cross the street because it was too wet.The dog sat on the couch near the rug. The black cat sat on the couch and the brown dog slept on the rug.The cat did not cross the street because it was too wet.The dog sat on the couch near the rug. The black cat sat on the couch and the brown dog slept on the rug.The cat did not cross the street because it was too wet.The dog sat on the couch near the rug. The black cat sat on the couch and the brown dog slept on the rug.The cat did not cross the street because it was too wet.The dog sat on the couch near the rug. The black cat sat on the couch and the brown dog slept on the rug.The cat did not cross the street because it was too wet.The dog sat on the couch near the rug. The black cat sat on the couch and the brown dog slept on the rug.The cat did not cross the street because it was too wet.The dog sat on the couch near the rug. The black cat sat on the couch and the brown dog slept on the rug.The cat did not cross the street because it was too wet.The dog sat on the couch near the rug. The black cat sat on the couch and the brown dog slept on the rug.The cat did not cross the street because it was too wet.The dog sat on the couch near the rug. The black cat sat on the couch and the brown dog slept on the rug.The cat did not cross the street because it was too wet.The dog sat on the couch near the rug. The black cat sat on the couch and the brown dog slept on the rug.The cat did not cross the street because it was too wet.The dog sat on the couch near the rug. The black cat sat on the couch and the brown dog slept on the rug.The cat did not cross the street because it was too wet.The dog sat on the couch near the rug. The black cat sat on the couch and the brown dog slept on the rug.The cat did not cross the street because it was too wet.The dog sat on the couch near the rug. The black cat sat on the couch and the brown dog slept on the rug.The cat did not cross the street because it was too wet.The dog sat on the couch near the rug. The black cat sat on the couch and the brown dog slept on the rug.The cat did not cross the street because it was too wet.The dog sat on the couch near the rug. The black cat sat on the couch and the brown dog slept on the rug.The cat did not cross the street because it was too wet.The dog sat on the couch near the rug. The black cat sat on the couch and the brown dog slept on the rug.The cat did not cross the street because it was too wet.The dog sat on the couch near the rug. The black cat sat on the couch and the brown dog slept on the rug.The cat did not cross the street because it was too wet.The dog sat on the couch near the rug. The black cat sat on the couch and the brown dog slept on the rug.The cat did not cross the street because it was too wet.The dog sat on the couch near the rug. The black cat sat on the couch and the brown dog slept on the rug.The cat did not cross the street because it was too wet.The dog sat on the couch near the rug. The black cat sat on the couch and the brown dog slept on the rug.The cat did not cross the street because it was too wet.The dog sat on the couch near the rug. The black cat sat on the couch and the brown dog slept on the rug.The cat did not cross the street because it was too wet.The dog sat on the couch near the rug. The black cat sat on the couch and the brown dog slept on the rug.The cat did not cross the street because it was too wet.The dog sat on the couch near the rug. The black cat sat on the couch and the brown dog slept on the rug.The cat did not cross the street because it was too wet.The dog sat on the couch near the rug. The black cat sat on the couch and the brown dog slept on the rug.The cat did not cross the street because it was too wet.The dog sat on the couch near the rug. The black cat sat on the couch and the brown dog slept on the rug.The cat did not cross the street because it was too wet.The dog sat on the couch near the rug. The black cat sat on the couch and the brown dog slept on the rug.The cat did not cross the street because it was too wet.The dog sat on the couch near the rug. The black cat sat on the couch and the brown dog slept on the rug.The cat did not cross the street because it was too wet.The dog sat on the couch near the rug. The black cat sat on the couch and the brown dog slept on the rug.The cat did not cross the street because it was too wet.The dog sat on the couch near the rug. The black cat sat on the couch and the brown dog slept on the rug.The cat did not cross the street because it was too wet.The dog sat on the couch near the rug. The black cat sat on the couch and the brown dog slept on the rug.The cat did not cross the street because it was too wet.The dog sat on the couch near the rug. The black cat sat on the couch and the brown dog slept on the rug.The cat did not cross the street because it was too wet.The dog sat on the couch near the rug. The black cat sat on the couch and the brown dog slept on the rug.The cat did not cross the street because it was too wet.The dog sat on the couch near the rug. The black cat sat on the couch and the brown dog slept on the rug.The cat did not cross the street because it was too wet.The dog sat on the couch near the rug. The black cat sat on the couch and the brown dog slept on the rug.The cat did not cross the street because it was too wet.The dog sat on the couch near the rug. The black cat sat on the couch and the brown dog slept on the rug.The cat did not cross the street because it was too wet.The dog sat on the couch near the rug. The black cat sat on the couch and the brown dog slept on the rug.The cat did not cross the street because it was too wet.The dog sat on the couch near the rug. The black cat sat on the couch and the brown dog slept on the rug.The cat did not cross the street because it was too wet.The dog sat on the couch near the rug. The black cat sat on the couch and the brown dog slept on the rug.The cat did not cross the street because it was too wet.The dog sat on the couch near the rug. The black cat sat on the couch and the brown dog slept on the rug.The cat did not cross the street because it was too wet.The dog sat on the couch near the rug. The black cat sat on the couch and the brown dog slept on the rug.The cat did not cross the street because it was too wet.The dog sat on the couch near the rug. The black cat sat on the couch and the brown dog slept on the rug.The cat did not cross the street because it was too wet.The dog sat on the couch near the rug. The black cat sat on the couch and the brown dog slept on the rug.The cat did not cross the street because it was too wet.The dog sat on the couch near the rug. The black cat sat on the couch and the brown dog slept on the rug.The cat did not cross the street because it was too wet.The dog sat on the couch near the rug. The black cat sat on the couch and the brown dog slept on the rug.The cat did not cross the street because it was too wet.The dog sat on the couch near the rug. The black cat sat on the couch and the brown dog slept on the rug.The cat did not cross the street because it was too wet.The dog sat on the couch near the rug. The black cat sat on the couch and the brown dog slept on the rug.The cat did not cross the street because it was too wet.The dog sat on the couch near the rug. The black cat sat on the couch and the brown dog slept on the rug.The cat did not cross the street because it was too wet.The dog sat on the couch near the rug. The black cat sat on the couch and the brown dog slept on the rug.The cat did not cross the street because it was too wet.The dog sat on the couch near the rug. The black cat sat on the couch and the brown dog slept on the rug.The cat did not cross the street because it was too wet.The dog sat on the couch near the rug. The black cat sat on the couch and the brown dog slept on the rug.The cat did not cross the street because it was too wet.The dog sat on the couch near the rug. The black cat sat on the couch and the brown dog slept on the rug.The cat did not cross the street because it was too wet.The dog sat on the couch near the rug. The black cat sat on the couch and the brown dog slept on the rug.The cat did not cross the street because it was too wet.The dog sat on the couch near the rug. The black cat sat on the couch and the brown dog slept on the rug.The cat did not cross the street because it was too wet.The dog sat on the couch near the rug. The black cat sat on the couch and the brown dog slept on the rug.The cat did not cross the street because it was too wet.The dog sat on the couch near the rug. The black cat sat on the couch and the brown dog slept on the rug.The cat did not cross the street because it was too wet.The dog sat on the couch near the rug. The black cat sat on the couch and the brown dog slept on the rug.The cat did not cross the street because it was too wet.The dog sat on the couch near the rug. The black cat sat on the couch and the brown dog slept on the rug.The cat did not cross the street because it was too wet.The dog sat on the couch near the rug. The black cat sat on the couch and the brown dog slept on the rug.The cat did not cross the street because it was too wet.The dog sat on the couch near the rug. The black cat sat on the couch and the brown dog slept on the rug.The cat did not cross the street because it was too wet.The dog sat on the couch near the rug. The black cat sat on the couch and the brown dog slept on the rug.The cat did not cross the street because it was too wet.The dog sat on the couch near the rug. The black cat sat on the couch and the brown dog slept on the rug.The cat did not cross the street because it was too wet.The dog sat on the couch near the rug. The black cat sat on the couch and the brown dog slept on the rug.The cat did not cross the street because it was too wet.The dog sat on the couch near the rug. The black cat sat on the couch and the brown dog slept on the rug.The cat did not cross the street because it was too wet.The dog sat on the couch near the rug. The black cat sat on the couch and the brown dog slept on the rug.The cat did not cross the street because it was too wet.The dog sat on the couch near the rug. The black cat sat on the couch and the brown dog slept on the rug.The cat did not cross the street because it was too wet.The dog sat on the couch near the rug. The black cat sat on the couch and the brown dog slept on the rug.The cat did not cross the street because it was too wet.The dog sat on the couch near the rug. The black cat sat on the couch and the brown dog slept on the rug.The cat did not cross the street because it was too wet.The dog sat on the couch near the rug. The black cat sat on the couch and the brown dog slept on the rug.The cat did not cross the street because it was too wet.The dog sat on the couch near the rug. The black cat sat on the couch and the brown dog slept on the rug.The cat did not cross the street because it was too wet.The dog sat on the couch near the rug. The black cat sat on the couch and the brown dog slept on the rug.The cat did not cross the street because it was too wet.The dog sat on the couch near the rug. The black cat sat on the couch and the brown dog slept on the rug.The cat did not cross the street because it was too wet.The dog sat on the couch near the rug. The black cat sat on the couch and the brown dog slept on the rug.The cat did not cross the street because it was too wet.The dog sat on the couch near the rug. The black cat sat on the couch and the brown dog slept on the rug.The cat did not cross the street because it was too wet.The dog sat on the couch near the rug. The black cat sat on the couch and the brown dog slept on the rug.The cat did not cross the street because it was too wet.The dog sat on the couch near the rug. The black cat sat on the couch and the brown dog slept on the rug.The cat did not cross the street because it was too wet.The dog sat on the couch near the rug.   '"
     },
     "execution_count": 5,
     "metadata": {},
     "output_type": "execute_result"
    }
   ],
   "source": [
    "f"
   ],
   "metadata": {
    "collapsed": false,
    "ExecuteTime": {
     "end_time": "2024-09-26T02:27:56.788703Z",
     "start_time": "2024-09-26T02:27:56.783985Z"
    }
   },
   "id": "fbd51ec382ad3b64"
  },
  {
   "cell_type": "code",
   "execution_count": 6,
   "outputs": [],
   "source": [
    "#f = 'The black cat sat on the couch and the brown dog slept on the rug.The cat did not cross the street because it was too wet.'"
   ],
   "metadata": {
    "collapsed": false,
    "ExecuteTime": {
     "end_time": "2024-09-26T02:27:56.789666Z",
     "start_time": "2024-09-26T02:27:56.787639Z"
    }
   },
   "id": "cbc17320144500d0"
  },
  {
   "cell_type": "markdown",
   "source": [
    "### This is the step of tokenizing the text"
   ],
   "metadata": {
    "collapsed": false
   },
   "id": "62834697dd302f5e"
  },
  {
   "cell_type": "code",
   "execution_count": 7,
   "outputs": [
    {
     "name": "stdout",
     "output_type": "stream",
     "text": [
      "[['The', 'black', 'cat', 'sat', 'on', 'the', 'couch', 'and', 'the', 'brown', 'dog', 'slept', 'on', 'the', 'rug.The', 'cat', 'did', 'not', 'cross', 'the', 'street', 'because', 'it', 'was', 'too', 'wet.The', 'dog', 'sat', 'on', 'the', 'couch', 'near', 'the', 'rug.The', 'black', 'cat', 'sat', 'on', 'the', 'couch', 'and', 'the', 'brown', 'dog', 'slept', 'on', 'the', 'rug.The', 'cat', 'did', 'not', 'cross', 'the', 'street', 'because', 'it', 'was', 'too', 'wet.The', 'dog', 'sat', 'on', 'the', 'couch', 'near', 'the', 'rug', '.'], ['The', 'black', 'cat', 'sat', 'on', 'the', 'couch', 'and', 'the', 'brown', 'dog', 'slept', 'on', 'the', 'rug.The', 'cat', 'did', 'not', 'cross', 'the', 'street', 'because', 'it', 'was', 'too', 'wet.The', 'dog', 'sat', 'on', 'the', 'couch', 'near', 'the', 'rug', '.'], ['The', 'black', 'cat', 'sat', 'on', 'the', 'couch', 'and', 'the', 'brown', 'dog', 'slept', 'on', 'the', 'rug.The', 'cat', 'did', 'not', 'cross', 'the', 'street', 'because', 'it', 'was', 'too', 'wet.The', 'dog', 'sat', 'on', 'the', 'couch', 'near', 'the', 'rug', '.'], ['The', 'black', 'cat', 'sat', 'on', 'the', 'couch', 'and', 'the', 'brown', 'dog', 'slept', 'on', 'the', 'rug.The', 'cat', 'did', 'not', 'cross', 'the', 'street', 'because', 'it', 'was', 'too', 'wet.The', 'dog', 'sat', 'on', 'the', 'couch', 'near', 'the', 'rug', '.'], ['The', 'black', 'cat', 'sat', 'on', 'the', 'couch', 'and', 'the', 'brown', 'dog', 'slept', 'on', 'the', 'rug.The', 'cat', 'did', 'not', 'cross', 'the', 'street', 'because', 'it', 'was', 'too', 'wet.The', 'dog', 'sat', 'on', 'the', 'couch', 'near', 'the', 'rug', '.'], ['The', 'black', 'cat', 'sat', 'on', 'the', 'couch', 'and', 'the', 'brown', 'dog', 'slept', 'on', 'the', 'rug.The', 'cat', 'did', 'not', 'cross', 'the', 'street', 'because', 'it', 'was', 'too', 'wet.The', 'dog', 'sat', 'on', 'the', 'couch', 'near', 'the', 'rug', '.'], ['The', 'black', 'cat', 'sat', 'on', 'the', 'couch', 'and', 'the', 'brown', 'dog', 'slept', 'on', 'the', 'rug.The', 'cat', 'did', 'not', 'cross', 'the', 'street', 'because', 'it', 'was', 'too', 'wet.The', 'dog', 'sat', 'on', 'the', 'couch', 'near', 'the', 'rug', '.'], ['The', 'black', 'cat', 'sat', 'on', 'the', 'couch', 'and', 'the', 'brown', 'dog', 'slept', 'on', 'the', 'rug.The', 'cat', 'did', 'not', 'cross', 'the', 'street', 'because', 'it', 'was', 'too', 'wet.The', 'dog', 'sat', 'on', 'the', 'couch', 'near', 'the', 'rug', '.'], ['The', 'black', 'cat', 'sat', 'on', 'the', 'couch', 'and', 'the', 'brown', 'dog', 'slept', 'on', 'the', 'rug.The', 'cat', 'did', 'not', 'cross', 'the', 'street', 'because', 'it', 'was', 'too', 'wet.The', 'dog', 'sat', 'on', 'the', 'couch', 'near', 'the', 'rug', '.'], ['The', 'black', 'cat', 'sat', 'on', 'the', 'couch', 'and', 'the', 'brown', 'dog', 'slept', 'on', 'the', 'rug.The', 'cat', 'did', 'not', 'cross', 'the', 'street', 'because', 'it', 'was', 'too', 'wet.The', 'dog', 'sat', 'on', 'the', 'couch', 'near', 'the', 'rug', '.'], ['The', 'black', 'cat', 'sat', 'on', 'the', 'couch', 'and', 'the', 'brown', 'dog', 'slept', 'on', 'the', 'rug.The', 'cat', 'did', 'not', 'cross', 'the', 'street', 'because', 'it', 'was', 'too', 'wet.The', 'dog', 'sat', 'on', 'the', 'couch', 'near', 'the', 'rug', '.'], ['The', 'black', 'cat', 'sat', 'on', 'the', 'couch', 'and', 'the', 'brown', 'dog', 'slept', 'on', 'the', 'rug.The', 'cat', 'did', 'not', 'cross', 'the', 'street', 'because', 'it', 'was', 'too', 'wet.The', 'dog', 'sat', 'on', 'the', 'couch', 'near', 'the', 'rug', '.'], ['The', 'black', 'cat', 'sat', 'on', 'the', 'couch', 'and', 'the', 'brown', 'dog', 'slept', 'on', 'the', 'rug.The', 'cat', 'did', 'not', 'cross', 'the', 'street', 'because', 'it', 'was', 'too', 'wet.The', 'dog', 'sat', 'on', 'the', 'couch', 'near', 'the', 'rug', '.'], ['The', 'black', 'cat', 'sat', 'on', 'the', 'couch', 'and', 'the', 'brown', 'dog', 'slept', 'on', 'the', 'rug.The', 'cat', 'did', 'not', 'cross', 'the', 'street', 'because', 'it', 'was', 'too', 'wet.The', 'dog', 'sat', 'on', 'the', 'couch', 'near', 'the', 'rug', '.'], ['The', 'black', 'cat', 'sat', 'on', 'the', 'couch', 'and', 'the', 'brown', 'dog', 'slept', 'on', 'the', 'rug.The', 'cat', 'did', 'not', 'cross', 'the', 'street', 'because', 'it', 'was', 'too', 'wet.The', 'dog', 'sat', 'on', 'the', 'couch', 'near', 'the', 'rug', '.'], ['The', 'black', 'cat', 'sat', 'on', 'the', 'couch', 'and', 'the', 'brown', 'dog', 'slept', 'on', 'the', 'rug.The', 'cat', 'did', 'not', 'cross', 'the', 'street', 'because', 'it', 'was', 'too', 'wet.The', 'dog', 'sat', 'on', 'the', 'couch', 'near', 'the', 'rug', '.'], ['The', 'black', 'cat', 'sat', 'on', 'the', 'couch', 'and', 'the', 'brown', 'dog', 'slept', 'on', 'the', 'rug.The', 'cat', 'did', 'not', 'cross', 'the', 'street', 'because', 'it', 'was', 'too', 'wet.The', 'dog', 'sat', 'on', 'the', 'couch', 'near', 'the', 'rug', '.'], ['The', 'black', 'cat', 'sat', 'on', 'the', 'couch', 'and', 'the', 'brown', 'dog', 'slept', 'on', 'the', 'rug.The', 'cat', 'did', 'not', 'cross', 'the', 'street', 'because', 'it', 'was', 'too', 'wet.The', 'dog', 'sat', 'on', 'the', 'couch', 'near', 'the', 'rug', '.'], ['The', 'black', 'cat', 'sat', 'on', 'the', 'couch', 'and', 'the', 'brown', 'dog', 'slept', 'on', 'the', 'rug.The', 'cat', 'did', 'not', 'cross', 'the', 'street', 'because', 'it', 'was', 'too', 'wet.The', 'dog', 'sat', 'on', 'the', 'couch', 'near', 'the', 'rug', '.'], ['The', 'black', 'cat', 'sat', 'on', 'the', 'couch', 'and', 'the', 'brown', 'dog', 'slept', 'on', 'the', 'rug.The', 'cat', 'did', 'not', 'cross', 'the', 'street', 'because', 'it', 'was', 'too', 'wet.The', 'dog', 'sat', 'on', 'the', 'couch', 'near', 'the', 'rug', '.'], ['The', 'black', 'cat', 'sat', 'on', 'the', 'couch', 'and', 'the', 'brown', 'dog', 'slept', 'on', 'the', 'rug.The', 'cat', 'did', 'not', 'cross', 'the', 'street', 'because', 'it', 'was', 'too', 'wet.The', 'dog', 'sat', 'on', 'the', 'couch', 'near', 'the', 'rug', '.'], ['The', 'black', 'cat', 'sat', 'on', 'the', 'couch', 'and', 'the', 'brown', 'dog', 'slept', 'on', 'the', 'rug.The', 'cat', 'did', 'not', 'cross', 'the', 'street', 'because', 'it', 'was', 'too', 'wet.The', 'dog', 'sat', 'on', 'the', 'couch', 'near', 'the', 'rug', '.'], ['The', 'black', 'cat', 'sat', 'on', 'the', 'couch', 'and', 'the', 'brown', 'dog', 'slept', 'on', 'the', 'rug.The', 'cat', 'did', 'not', 'cross', 'the', 'street', 'because', 'it', 'was', 'too', 'wet.The', 'dog', 'sat', 'on', 'the', 'couch', 'near', 'the', 'rug', '.'], ['The', 'black', 'cat', 'sat', 'on', 'the', 'couch', 'and', 'the', 'brown', 'dog', 'slept', 'on', 'the', 'rug.The', 'cat', 'did', 'not', 'cross', 'the', 'street', 'because', 'it', 'was', 'too', 'wet.The', 'dog', 'sat', 'on', 'the', 'couch', 'near', 'the', 'rug', '.'], ['The', 'black', 'cat', 'sat', 'on', 'the', 'couch', 'and', 'the', 'brown', 'dog', 'slept', 'on', 'the', 'rug.The', 'cat', 'did', 'not', 'cross', 'the', 'street', 'because', 'it', 'was', 'too', 'wet.The', 'dog', 'sat', 'on', 'the', 'couch', 'near', 'the', 'rug', '.'], ['The', 'black', 'cat', 'sat', 'on', 'the', 'couch', 'and', 'the', 'brown', 'dog', 'slept', 'on', 'the', 'rug.The', 'cat', 'did', 'not', 'cross', 'the', 'street', 'because', 'it', 'was', 'too', 'wet.The', 'dog', 'sat', 'on', 'the', 'couch', 'near', 'the', 'rug', '.'], ['The', 'black', 'cat', 'sat', 'on', 'the', 'couch', 'and', 'the', 'brown', 'dog', 'slept', 'on', 'the', 'rug.The', 'cat', 'did', 'not', 'cross', 'the', 'street', 'because', 'it', 'was', 'too', 'wet.The', 'dog', 'sat', 'on', 'the', 'couch', 'near', 'the', 'rug', '.'], ['The', 'black', 'cat', 'sat', 'on', 'the', 'couch', 'and', 'the', 'brown', 'dog', 'slept', 'on', 'the', 'rug.The', 'cat', 'did', 'not', 'cross', 'the', 'street', 'because', 'it', 'was', 'too', 'wet.The', 'dog', 'sat', 'on', 'the', 'couch', 'near', 'the', 'rug', '.'], ['The', 'black', 'cat', 'sat', 'on', 'the', 'couch', 'and', 'the', 'brown', 'dog', 'slept', 'on', 'the', 'rug.The', 'cat', 'did', 'not', 'cross', 'the', 'street', 'because', 'it', 'was', 'too', 'wet.The', 'dog', 'sat', 'on', 'the', 'couch', 'near', 'the', 'rug', '.'], ['The', 'black', 'cat', 'sat', 'on', 'the', 'couch', 'and', 'the', 'brown', 'dog', 'slept', 'on', 'the', 'rug.The', 'cat', 'did', 'not', 'cross', 'the', 'street', 'because', 'it', 'was', 'too', 'wet.The', 'dog', 'sat', 'on', 'the', 'couch', 'near', 'the', 'rug', '.'], ['The', 'black', 'cat', 'sat', 'on', 'the', 'couch', 'and', 'the', 'brown', 'dog', 'slept', 'on', 'the', 'rug.The', 'cat', 'did', 'not', 'cross', 'the', 'street', 'because', 'it', 'was', 'too', 'wet.The', 'dog', 'sat', 'on', 'the', 'couch', 'near', 'the', 'rug', '.'], ['The', 'black', 'cat', 'sat', 'on', 'the', 'couch', 'and', 'the', 'brown', 'dog', 'slept', 'on', 'the', 'rug.The', 'cat', 'did', 'not', 'cross', 'the', 'street', 'because', 'it', 'was', 'too', 'wet.The', 'dog', 'sat', 'on', 'the', 'couch', 'near', 'the', 'rug', '.'], ['The', 'black', 'cat', 'sat', 'on', 'the', 'couch', 'and', 'the', 'brown', 'dog', 'slept', 'on', 'the', 'rug.The', 'cat', 'did', 'not', 'cross', 'the', 'street', 'because', 'it', 'was', 'too', 'wet.The', 'dog', 'sat', 'on', 'the', 'couch', 'near', 'the', 'rug', '.'], ['The', 'black', 'cat', 'sat', 'on', 'the', 'couch', 'and', 'the', 'brown', 'dog', 'slept', 'on', 'the', 'rug.The', 'cat', 'did', 'not', 'cross', 'the', 'street', 'because', 'it', 'was', 'too', 'wet.The', 'dog', 'sat', 'on', 'the', 'couch', 'near', 'the', 'rug', '.'], ['The', 'black', 'cat', 'sat', 'on', 'the', 'couch', 'and', 'the', 'brown', 'dog', 'slept', 'on', 'the', 'rug.The', 'cat', 'did', 'not', 'cross', 'the', 'street', 'because', 'it', 'was', 'too', 'wet.The', 'dog', 'sat', 'on', 'the', 'couch', 'near', 'the', 'rug', '.'], ['The', 'black', 'cat', 'sat', 'on', 'the', 'couch', 'and', 'the', 'brown', 'dog', 'slept', 'on', 'the', 'rug.The', 'cat', 'did', 'not', 'cross', 'the', 'street', 'because', 'it', 'was', 'too', 'wet.The', 'dog', 'sat', 'on', 'the', 'couch', 'near', 'the', 'rug', '.'], ['The', 'black', 'cat', 'sat', 'on', 'the', 'couch', 'and', 'the', 'brown', 'dog', 'slept', 'on', 'the', 'rug.The', 'cat', 'did', 'not', 'cross', 'the', 'street', 'because', 'it', 'was', 'too', 'wet.The', 'dog', 'sat', 'on', 'the', 'couch', 'near', 'the', 'rug', '.'], ['The', 'black', 'cat', 'sat', 'on', 'the', 'couch', 'and', 'the', 'brown', 'dog', 'slept', 'on', 'the', 'rug.The', 'cat', 'did', 'not', 'cross', 'the', 'street', 'because', 'it', 'was', 'too', 'wet.The', 'dog', 'sat', 'on', 'the', 'couch', 'near', 'the', 'rug', '.'], ['The', 'black', 'cat', 'sat', 'on', 'the', 'couch', 'and', 'the', 'brown', 'dog', 'slept', 'on', 'the', 'rug.The', 'cat', 'did', 'not', 'cross', 'the', 'street', 'because', 'it', 'was', 'too', 'wet.The', 'dog', 'sat', 'on', 'the', 'couch', 'near', 'the', 'rug', '.'], ['The', 'black', 'cat', 'sat', 'on', 'the', 'couch', 'and', 'the', 'brown', 'dog', 'slept', 'on', 'the', 'rug.The', 'cat', 'did', 'not', 'cross', 'the', 'street', 'because', 'it', 'was', 'too', 'wet.The', 'dog', 'sat', 'on', 'the', 'couch', 'near', 'the', 'rug', '.'], ['The', 'black', 'cat', 'sat', 'on', 'the', 'couch', 'and', 'the', 'brown', 'dog', 'slept', 'on', 'the', 'rug.The', 'cat', 'did', 'not', 'cross', 'the', 'street', 'because', 'it', 'was', 'too', 'wet.The', 'dog', 'sat', 'on', 'the', 'couch', 'near', 'the', 'rug', '.'], ['The', 'black', 'cat', 'sat', 'on', 'the', 'couch', 'and', 'the', 'brown', 'dog', 'slept', 'on', 'the', 'rug.The', 'cat', 'did', 'not', 'cross', 'the', 'street', 'because', 'it', 'was', 'too', 'wet.The', 'dog', 'sat', 'on', 'the', 'couch', 'near', 'the', 'rug', '.'], ['The', 'black', 'cat', 'sat', 'on', 'the', 'couch', 'and', 'the', 'brown', 'dog', 'slept', 'on', 'the', 'rug.The', 'cat', 'did', 'not', 'cross', 'the', 'street', 'because', 'it', 'was', 'too', 'wet.The', 'dog', 'sat', 'on', 'the', 'couch', 'near', 'the', 'rug', '.'], ['The', 'black', 'cat', 'sat', 'on', 'the', 'couch', 'and', 'the', 'brown', 'dog', 'slept', 'on', 'the', 'rug.The', 'cat', 'did', 'not', 'cross', 'the', 'street', 'because', 'it', 'was', 'too', 'wet.The', 'dog', 'sat', 'on', 'the', 'couch', 'near', 'the', 'rug', '.'], ['The', 'black', 'cat', 'sat', 'on', 'the', 'couch', 'and', 'the', 'brown', 'dog', 'slept', 'on', 'the', 'rug.The', 'cat', 'did', 'not', 'cross', 'the', 'street', 'because', 'it', 'was', 'too', 'wet.The', 'dog', 'sat', 'on', 'the', 'couch', 'near', 'the', 'rug', '.'], ['The', 'black', 'cat', 'sat', 'on', 'the', 'couch', 'and', 'the', 'brown', 'dog', 'slept', 'on', 'the', 'rug.The', 'cat', 'did', 'not', 'cross', 'the', 'street', 'because', 'it', 'was', 'too', 'wet.The', 'dog', 'sat', 'on', 'the', 'couch', 'near', 'the', 'rug', '.'], ['The', 'black', 'cat', 'sat', 'on', 'the', 'couch', 'and', 'the', 'brown', 'dog', 'slept', 'on', 'the', 'rug.The', 'cat', 'did', 'not', 'cross', 'the', 'street', 'because', 'it', 'was', 'too', 'wet.The', 'dog', 'sat', 'on', 'the', 'couch', 'near', 'the', 'rug', '.'], ['The', 'black', 'cat', 'sat', 'on', 'the', 'couch', 'and', 'the', 'brown', 'dog', 'slept', 'on', 'the', 'rug.The', 'cat', 'did', 'not', 'cross', 'the', 'street', 'because', 'it', 'was', 'too', 'wet.The', 'dog', 'sat', 'on', 'the', 'couch', 'near', 'the', 'rug', '.'], ['The', 'black', 'cat', 'sat', 'on', 'the', 'couch', 'and', 'the', 'brown', 'dog', 'slept', 'on', 'the', 'rug.The', 'cat', 'did', 'not', 'cross', 'the', 'street', 'because', 'it', 'was', 'too', 'wet.The', 'dog', 'sat', 'on', 'the', 'couch', 'near', 'the', 'rug', '.'], ['The', 'black', 'cat', 'sat', 'on', 'the', 'couch', 'and', 'the', 'brown', 'dog', 'slept', 'on', 'the', 'rug.The', 'cat', 'did', 'not', 'cross', 'the', 'street', 'because', 'it', 'was', 'too', 'wet.The', 'dog', 'sat', 'on', 'the', 'couch', 'near', 'the', 'rug', '.'], ['The', 'black', 'cat', 'sat', 'on', 'the', 'couch', 'and', 'the', 'brown', 'dog', 'slept', 'on', 'the', 'rug.The', 'cat', 'did', 'not', 'cross', 'the', 'street', 'because', 'it', 'was', 'too', 'wet.The', 'dog', 'sat', 'on', 'the', 'couch', 'near', 'the', 'rug', '.'], ['The', 'black', 'cat', 'sat', 'on', 'the', 'couch', 'and', 'the', 'brown', 'dog', 'slept', 'on', 'the', 'rug.The', 'cat', 'did', 'not', 'cross', 'the', 'street', 'because', 'it', 'was', 'too', 'wet.The', 'dog', 'sat', 'on', 'the', 'couch', 'near', 'the', 'rug', '.'], ['The', 'black', 'cat', 'sat', 'on', 'the', 'couch', 'and', 'the', 'brown', 'dog', 'slept', 'on', 'the', 'rug.The', 'cat', 'did', 'not', 'cross', 'the', 'street', 'because', 'it', 'was', 'too', 'wet.The', 'dog', 'sat', 'on', 'the', 'couch', 'near', 'the', 'rug', '.'], ['The', 'black', 'cat', 'sat', 'on', 'the', 'couch', 'and', 'the', 'brown', 'dog', 'slept', 'on', 'the', 'rug.The', 'cat', 'did', 'not', 'cross', 'the', 'street', 'because', 'it', 'was', 'too', 'wet.The', 'dog', 'sat', 'on', 'the', 'couch', 'near', 'the', 'rug', '.'], ['The', 'black', 'cat', 'sat', 'on', 'the', 'couch', 'and', 'the', 'brown', 'dog', 'slept', 'on', 'the', 'rug.The', 'cat', 'did', 'not', 'cross', 'the', 'street', 'because', 'it', 'was', 'too', 'wet.The', 'dog', 'sat', 'on', 'the', 'couch', 'near', 'the', 'rug', '.'], ['The', 'black', 'cat', 'sat', 'on', 'the', 'couch', 'and', 'the', 'brown', 'dog', 'slept', 'on', 'the', 'rug.The', 'cat', 'did', 'not', 'cross', 'the', 'street', 'because', 'it', 'was', 'too', 'wet.The', 'dog', 'sat', 'on', 'the', 'couch', 'near', 'the', 'rug', '.'], ['The', 'black', 'cat', 'sat', 'on', 'the', 'couch', 'and', 'the', 'brown', 'dog', 'slept', 'on', 'the', 'rug.The', 'cat', 'did', 'not', 'cross', 'the', 'street', 'because', 'it', 'was', 'too', 'wet.The', 'dog', 'sat', 'on', 'the', 'couch', 'near', 'the', 'rug', '.'], ['The', 'black', 'cat', 'sat', 'on', 'the', 'couch', 'and', 'the', 'brown', 'dog', 'slept', 'on', 'the', 'rug.The', 'cat', 'did', 'not', 'cross', 'the', 'street', 'because', 'it', 'was', 'too', 'wet.The', 'dog', 'sat', 'on', 'the', 'couch', 'near', 'the', 'rug', '.'], ['The', 'black', 'cat', 'sat', 'on', 'the', 'couch', 'and', 'the', 'brown', 'dog', 'slept', 'on', 'the', 'rug.The', 'cat', 'did', 'not', 'cross', 'the', 'street', 'because', 'it', 'was', 'too', 'wet.The', 'dog', 'sat', 'on', 'the', 'couch', 'near', 'the', 'rug', '.'], ['The', 'black', 'cat', 'sat', 'on', 'the', 'couch', 'and', 'the', 'brown', 'dog', 'slept', 'on', 'the', 'rug.The', 'cat', 'did', 'not', 'cross', 'the', 'street', 'because', 'it', 'was', 'too', 'wet.The', 'dog', 'sat', 'on', 'the', 'couch', 'near', 'the', 'rug', '.'], ['The', 'black', 'cat', 'sat', 'on', 'the', 'couch', 'and', 'the', 'brown', 'dog', 'slept', 'on', 'the', 'rug.The', 'cat', 'did', 'not', 'cross', 'the', 'street', 'because', 'it', 'was', 'too', 'wet.The', 'dog', 'sat', 'on', 'the', 'couch', 'near', 'the', 'rug', '.'], ['The', 'black', 'cat', 'sat', 'on', 'the', 'couch', 'and', 'the', 'brown', 'dog', 'slept', 'on', 'the', 'rug.The', 'cat', 'did', 'not', 'cross', 'the', 'street', 'because', 'it', 'was', 'too', 'wet.The', 'dog', 'sat', 'on', 'the', 'couch', 'near', 'the', 'rug', '.'], ['The', 'black', 'cat', 'sat', 'on', 'the', 'couch', 'and', 'the', 'brown', 'dog', 'slept', 'on', 'the', 'rug.The', 'cat', 'did', 'not', 'cross', 'the', 'street', 'because', 'it', 'was', 'too', 'wet.The', 'dog', 'sat', 'on', 'the', 'couch', 'near', 'the', 'rug', '.'], ['The', 'black', 'cat', 'sat', 'on', 'the', 'couch', 'and', 'the', 'brown', 'dog', 'slept', 'on', 'the', 'rug.The', 'cat', 'did', 'not', 'cross', 'the', 'street', 'because', 'it', 'was', 'too', 'wet.The', 'dog', 'sat', 'on', 'the', 'couch', 'near', 'the', 'rug', '.'], ['The', 'black', 'cat', 'sat', 'on', 'the', 'couch', 'and', 'the', 'brown', 'dog', 'slept', 'on', 'the', 'rug.The', 'cat', 'did', 'not', 'cross', 'the', 'street', 'because', 'it', 'was', 'too', 'wet.The', 'dog', 'sat', 'on', 'the', 'couch', 'near', 'the', 'rug', '.'], ['The', 'black', 'cat', 'sat', 'on', 'the', 'couch', 'and', 'the', 'brown', 'dog', 'slept', 'on', 'the', 'rug.The', 'cat', 'did', 'not', 'cross', 'the', 'street', 'because', 'it', 'was', 'too', 'wet.The', 'dog', 'sat', 'on', 'the', 'couch', 'near', 'the', 'rug', '.'], ['The', 'black', 'cat', 'sat', 'on', 'the', 'couch', 'and', 'the', 'brown', 'dog', 'slept', 'on', 'the', 'rug.The', 'cat', 'did', 'not', 'cross', 'the', 'street', 'because', 'it', 'was', 'too', 'wet.The', 'dog', 'sat', 'on', 'the', 'couch', 'near', 'the', 'rug', '.'], ['The', 'black', 'cat', 'sat', 'on', 'the', 'couch', 'and', 'the', 'brown', 'dog', 'slept', 'on', 'the', 'rug.The', 'cat', 'did', 'not', 'cross', 'the', 'street', 'because', 'it', 'was', 'too', 'wet.The', 'dog', 'sat', 'on', 'the', 'couch', 'near', 'the', 'rug', '.'], ['The', 'black', 'cat', 'sat', 'on', 'the', 'couch', 'and', 'the', 'brown', 'dog', 'slept', 'on', 'the', 'rug.The', 'cat', 'did', 'not', 'cross', 'the', 'street', 'because', 'it', 'was', 'too', 'wet.The', 'dog', 'sat', 'on', 'the', 'couch', 'near', 'the', 'rug', '.'], ['The', 'black', 'cat', 'sat', 'on', 'the', 'couch', 'and', 'the', 'brown', 'dog', 'slept', 'on', 'the', 'rug.The', 'cat', 'did', 'not', 'cross', 'the', 'street', 'because', 'it', 'was', 'too', 'wet.The', 'dog', 'sat', 'on', 'the', 'couch', 'near', 'the', 'rug', '.'], ['The', 'black', 'cat', 'sat', 'on', 'the', 'couch', 'and', 'the', 'brown', 'dog', 'slept', 'on', 'the', 'rug.The', 'cat', 'did', 'not', 'cross', 'the', 'street', 'because', 'it', 'was', 'too', 'wet.The', 'dog', 'sat', 'on', 'the', 'couch', 'near', 'the', 'rug', '.'], ['The', 'black', 'cat', 'sat', 'on', 'the', 'couch', 'and', 'the', 'brown', 'dog', 'slept', 'on', 'the', 'rug.The', 'cat', 'did', 'not', 'cross', 'the', 'street', 'because', 'it', 'was', 'too', 'wet.The', 'dog', 'sat', 'on', 'the', 'couch', 'near', 'the', 'rug', '.'], ['The', 'black', 'cat', 'sat', 'on', 'the', 'couch', 'and', 'the', 'brown', 'dog', 'slept', 'on', 'the', 'rug.The', 'cat', 'did', 'not', 'cross', 'the', 'street', 'because', 'it', 'was', 'too', 'wet.The', 'dog', 'sat', 'on', 'the', 'couch', 'near', 'the', 'rug', '.'], ['The', 'black', 'cat', 'sat', 'on', 'the', 'couch', 'and', 'the', 'brown', 'dog', 'slept', 'on', 'the', 'rug.The', 'cat', 'did', 'not', 'cross', 'the', 'street', 'because', 'it', 'was', 'too', 'wet.The', 'dog', 'sat', 'on', 'the', 'couch', 'near', 'the', 'rug', '.'], ['The', 'black', 'cat', 'sat', 'on', 'the', 'couch', 'and', 'the', 'brown', 'dog', 'slept', 'on', 'the', 'rug.The', 'cat', 'did', 'not', 'cross', 'the', 'street', 'because', 'it', 'was', 'too', 'wet.The', 'dog', 'sat', 'on', 'the', 'couch', 'near', 'the', 'rug', '.'], ['The', 'black', 'cat', 'sat', 'on', 'the', 'couch', 'and', 'the', 'brown', 'dog', 'slept', 'on', 'the', 'rug.The', 'cat', 'did', 'not', 'cross', 'the', 'street', 'because', 'it', 'was', 'too', 'wet.The', 'dog', 'sat', 'on', 'the', 'couch', 'near', 'the', 'rug', '.'], ['The', 'black', 'cat', 'sat', 'on', 'the', 'couch', 'and', 'the', 'brown', 'dog', 'slept', 'on', 'the', 'rug.The', 'cat', 'did', 'not', 'cross', 'the', 'street', 'because', 'it', 'was', 'too', 'wet.The', 'dog', 'sat', 'on', 'the', 'couch', 'near', 'the', 'rug', '.'], ['The', 'black', 'cat', 'sat', 'on', 'the', 'couch', 'and', 'the', 'brown', 'dog', 'slept', 'on', 'the', 'rug.The', 'cat', 'did', 'not', 'cross', 'the', 'street', 'because', 'it', 'was', 'too', 'wet.The', 'dog', 'sat', 'on', 'the', 'couch', 'near', 'the', 'rug', '.'], ['The', 'black', 'cat', 'sat', 'on', 'the', 'couch', 'and', 'the', 'brown', 'dog', 'slept', 'on', 'the', 'rug.The', 'cat', 'did', 'not', 'cross', 'the', 'street', 'because', 'it', 'was', 'too', 'wet.The', 'dog', 'sat', 'on', 'the', 'couch', 'near', 'the', 'rug', '.'], ['The', 'black', 'cat', 'sat', 'on', 'the', 'couch', 'and', 'the', 'brown', 'dog', 'slept', 'on', 'the', 'rug.The', 'cat', 'did', 'not', 'cross', 'the', 'street', 'because', 'it', 'was', 'too', 'wet.The', 'dog', 'sat', 'on', 'the', 'couch', 'near', 'the', 'rug', '.'], ['The', 'black', 'cat', 'sat', 'on', 'the', 'couch', 'and', 'the', 'brown', 'dog', 'slept', 'on', 'the', 'rug.The', 'cat', 'did', 'not', 'cross', 'the', 'street', 'because', 'it', 'was', 'too', 'wet.The', 'dog', 'sat', 'on', 'the', 'couch', 'near', 'the', 'rug', '.'], ['The', 'black', 'cat', 'sat', 'on', 'the', 'couch', 'and', 'the', 'brown', 'dog', 'slept', 'on', 'the', 'rug.The', 'cat', 'did', 'not', 'cross', 'the', 'street', 'because', 'it', 'was', 'too', 'wet.The', 'dog', 'sat', 'on', 'the', 'couch', 'near', 'the', 'rug', '.'], ['The', 'black', 'cat', 'sat', 'on', 'the', 'couch', 'and', 'the', 'brown', 'dog', 'slept', 'on', 'the', 'rug.The', 'cat', 'did', 'not', 'cross', 'the', 'street', 'because', 'it', 'was', 'too', 'wet.The', 'dog', 'sat', 'on', 'the', 'couch', 'near', 'the', 'rug', '.'], ['The', 'black', 'cat', 'sat', 'on', 'the', 'couch', 'and', 'the', 'brown', 'dog', 'slept', 'on', 'the', 'rug.The', 'cat', 'did', 'not', 'cross', 'the', 'street', 'because', 'it', 'was', 'too', 'wet.The', 'dog', 'sat', 'on', 'the', 'couch', 'near', 'the', 'rug', '.'], ['The', 'black', 'cat', 'sat', 'on', 'the', 'couch', 'and', 'the', 'brown', 'dog', 'slept', 'on', 'the', 'rug.The', 'cat', 'did', 'not', 'cross', 'the', 'street', 'because', 'it', 'was', 'too', 'wet.The', 'dog', 'sat', 'on', 'the', 'couch', 'near', 'the', 'rug', '.'], ['The', 'black', 'cat', 'sat', 'on', 'the', 'couch', 'and', 'the', 'brown', 'dog', 'slept', 'on', 'the', 'rug.The', 'cat', 'did', 'not', 'cross', 'the', 'street', 'because', 'it', 'was', 'too', 'wet.The', 'dog', 'sat', 'on', 'the', 'couch', 'near', 'the', 'rug', '.'], ['The', 'black', 'cat', 'sat', 'on', 'the', 'couch', 'and', 'the', 'brown', 'dog', 'slept', 'on', 'the', 'rug.The', 'cat', 'did', 'not', 'cross', 'the', 'street', 'because', 'it', 'was', 'too', 'wet.The', 'dog', 'sat', 'on', 'the', 'couch', 'near', 'the', 'rug', '.'], ['The', 'black', 'cat', 'sat', 'on', 'the', 'couch', 'and', 'the', 'brown', 'dog', 'slept', 'on', 'the', 'rug.The', 'cat', 'did', 'not', 'cross', 'the', 'street', 'because', 'it', 'was', 'too', 'wet.The', 'dog', 'sat', 'on', 'the', 'couch', 'near', 'the', 'rug', '.'], ['The', 'black', 'cat', 'sat', 'on', 'the', 'couch', 'and', 'the', 'brown', 'dog', 'slept', 'on', 'the', 'rug.The', 'cat', 'did', 'not', 'cross', 'the', 'street', 'because', 'it', 'was', 'too', 'wet.The', 'dog', 'sat', 'on', 'the', 'couch', 'near', 'the', 'rug', '.'], ['The', 'black', 'cat', 'sat', 'on', 'the', 'couch', 'and', 'the', 'brown', 'dog', 'slept', 'on', 'the', 'rug.The', 'cat', 'did', 'not', 'cross', 'the', 'street', 'because', 'it', 'was', 'too', 'wet.The', 'dog', 'sat', 'on', 'the', 'couch', 'near', 'the', 'rug', '.'], ['The', 'black', 'cat', 'sat', 'on', 'the', 'couch', 'and', 'the', 'brown', 'dog', 'slept', 'on', 'the', 'rug.The', 'cat', 'did', 'not', 'cross', 'the', 'street', 'because', 'it', 'was', 'too', 'wet.The', 'dog', 'sat', 'on', 'the', 'couch', 'near', 'the', 'rug', '.'], ['The', 'black', 'cat', 'sat', 'on', 'the', 'couch', 'and', 'the', 'brown', 'dog', 'slept', 'on', 'the', 'rug.The', 'cat', 'did', 'not', 'cross', 'the', 'street', 'because', 'it', 'was', 'too', 'wet.The', 'dog', 'sat', 'on', 'the', 'couch', 'near', 'the', 'rug', '.'], ['The', 'black', 'cat', 'sat', 'on', 'the', 'couch', 'and', 'the', 'brown', 'dog', 'slept', 'on', 'the', 'rug.The', 'cat', 'did', 'not', 'cross', 'the', 'street', 'because', 'it', 'was', 'too', 'wet.The', 'dog', 'sat', 'on', 'the', 'couch', 'near', 'the', 'rug', '.'], ['The', 'black', 'cat', 'sat', 'on', 'the', 'couch', 'and', 'the', 'brown', 'dog', 'slept', 'on', 'the', 'rug.The', 'cat', 'did', 'not', 'cross', 'the', 'street', 'because', 'it', 'was', 'too', 'wet.The', 'dog', 'sat', 'on', 'the', 'couch', 'near', 'the', 'rug', '.'], ['The', 'black', 'cat', 'sat', 'on', 'the', 'couch', 'and', 'the', 'brown', 'dog', 'slept', 'on', 'the', 'rug.The', 'cat', 'did', 'not', 'cross', 'the', 'street', 'because', 'it', 'was', 'too', 'wet.The', 'dog', 'sat', 'on', 'the', 'couch', 'near', 'the', 'rug', '.'], ['The', 'black', 'cat', 'sat', 'on', 'the', 'couch', 'and', 'the', 'brown', 'dog', 'slept', 'on', 'the', 'rug.The', 'cat', 'did', 'not', 'cross', 'the', 'street', 'because', 'it', 'was', 'too', 'wet.The', 'dog', 'sat', 'on', 'the', 'couch', 'near', 'the', 'rug', '.'], ['The', 'black', 'cat', 'sat', 'on', 'the', 'couch', 'and', 'the', 'brown', 'dog', 'slept', 'on', 'the', 'rug.The', 'cat', 'did', 'not', 'cross', 'the', 'street', 'because', 'it', 'was', 'too', 'wet.The', 'dog', 'sat', 'on', 'the', 'couch', 'near', 'the', 'rug', '.'], ['The', 'black', 'cat', 'sat', 'on', 'the', 'couch', 'and', 'the', 'brown', 'dog', 'slept', 'on', 'the', 'rug.The', 'cat', 'did', 'not', 'cross', 'the', 'street', 'because', 'it', 'was', 'too', 'wet.The', 'dog', 'sat', 'on', 'the', 'couch', 'near', 'the', 'rug', '.'], ['The', 'black', 'cat', 'sat', 'on', 'the', 'couch', 'and', 'the', 'brown', 'dog', 'slept', 'on', 'the', 'rug.The', 'cat', 'did', 'not', 'cross', 'the', 'street', 'because', 'it', 'was', 'too', 'wet.The', 'dog', 'sat', 'on', 'the', 'couch', 'near', 'the', 'rug', '.'], ['The', 'black', 'cat', 'sat', 'on', 'the', 'couch', 'and', 'the', 'brown', 'dog', 'slept', 'on', 'the', 'rug.The', 'cat', 'did', 'not', 'cross', 'the', 'street', 'because', 'it', 'was', 'too', 'wet.The', 'dog', 'sat', 'on', 'the', 'couch', 'near', 'the', 'rug', '.'], ['The', 'black', 'cat', 'sat', 'on', 'the', 'couch', 'and', 'the', 'brown', 'dog', 'slept', 'on', 'the', 'rug.The', 'cat', 'did', 'not', 'cross', 'the', 'street', 'because', 'it', 'was', 'too', 'wet.The', 'dog', 'sat', 'on', 'the', 'couch', 'near', 'the', 'rug', '.'], ['The', 'black', 'cat', 'sat', 'on', 'the', 'couch', 'and', 'the', 'brown', 'dog', 'slept', 'on', 'the', 'rug.The', 'cat', 'did', 'not', 'cross', 'the', 'street', 'because', 'it', 'was', 'too', 'wet.The', 'dog', 'sat', 'on', 'the', 'couch', 'near', 'the', 'rug', '.'], ['The', 'black', 'cat', 'sat', 'on', 'the', 'couch', 'and', 'the', 'brown', 'dog', 'slept', 'on', 'the', 'rug.The', 'cat', 'did', 'not', 'cross', 'the', 'street', 'because', 'it', 'was', 'too', 'wet.The', 'dog', 'sat', 'on', 'the', 'couch', 'near', 'the', 'rug', '.'], ['The', 'black', 'cat', 'sat', 'on', 'the', 'couch', 'and', 'the', 'brown', 'dog', 'slept', 'on', 'the', 'rug.The', 'cat', 'did', 'not', 'cross', 'the', 'street', 'because', 'it', 'was', 'too', 'wet.The', 'dog', 'sat', 'on', 'the', 'couch', 'near', 'the', 'rug', '.'], ['The', 'black', 'cat', 'sat', 'on', 'the', 'couch', 'and', 'the', 'brown', 'dog', 'slept', 'on', 'the', 'rug.The', 'cat', 'did', 'not', 'cross', 'the', 'street', 'because', 'it', 'was', 'too', 'wet.The', 'dog', 'sat', 'on', 'the', 'couch', 'near', 'the', 'rug', '.'], ['The', 'black', 'cat', 'sat', 'on', 'the', 'couch', 'and', 'the', 'brown', 'dog', 'slept', 'on', 'the', 'rug.The', 'cat', 'did', 'not', 'cross', 'the', 'street', 'because', 'it', 'was', 'too', 'wet.The', 'dog', 'sat', 'on', 'the', 'couch', 'near', 'the', 'rug', '.'], ['The', 'black', 'cat', 'sat', 'on', 'the', 'couch', 'and', 'the', 'brown', 'dog', 'slept', 'on', 'the', 'rug.The', 'cat', 'did', 'not', 'cross', 'the', 'street', 'because', 'it', 'was', 'too', 'wet.The', 'dog', 'sat', 'on', 'the', 'couch', 'near', 'the', 'rug', '.'], ['The', 'black', 'cat', 'sat', 'on', 'the', 'couch', 'and', 'the', 'brown', 'dog', 'slept', 'on', 'the', 'rug.The', 'cat', 'did', 'not', 'cross', 'the', 'street', 'because', 'it', 'was', 'too', 'wet.The', 'dog', 'sat', 'on', 'the', 'couch', 'near', 'the', 'rug', '.'], ['The', 'black', 'cat', 'sat', 'on', 'the', 'couch', 'and', 'the', 'brown', 'dog', 'slept', 'on', 'the', 'rug.The', 'cat', 'did', 'not', 'cross', 'the', 'street', 'because', 'it', 'was', 'too', 'wet.The', 'dog', 'sat', 'on', 'the', 'couch', 'near', 'the', 'rug', '.'], ['The', 'black', 'cat', 'sat', 'on', 'the', 'couch', 'and', 'the', 'brown', 'dog', 'slept', 'on', 'the', 'rug.The', 'cat', 'did', 'not', 'cross', 'the', 'street', 'because', 'it', 'was', 'too', 'wet.The', 'dog', 'sat', 'on', 'the', 'couch', 'near', 'the', 'rug', '.'], ['The', 'black', 'cat', 'sat', 'on', 'the', 'couch', 'and', 'the', 'brown', 'dog', 'slept', 'on', 'the', 'rug.The', 'cat', 'did', 'not', 'cross', 'the', 'street', 'because', 'it', 'was', 'too', 'wet.The', 'dog', 'sat', 'on', 'the', 'couch', 'near', 'the', 'rug', '.'], ['The', 'black', 'cat', 'sat', 'on', 'the', 'couch', 'and', 'the', 'brown', 'dog', 'slept', 'on', 'the', 'rug.The', 'cat', 'did', 'not', 'cross', 'the', 'street', 'because', 'it', 'was', 'too', 'wet.The', 'dog', 'sat', 'on', 'the', 'couch', 'near', 'the', 'rug', '.'], ['The', 'black', 'cat', 'sat', 'on', 'the', 'couch', 'and', 'the', 'brown', 'dog', 'slept', 'on', 'the', 'rug.The', 'cat', 'did', 'not', 'cross', 'the', 'street', 'because', 'it', 'was', 'too', 'wet.The', 'dog', 'sat', 'on', 'the', 'couch', 'near', 'the', 'rug', '.'], ['The', 'black', 'cat', 'sat', 'on', 'the', 'couch', 'and', 'the', 'brown', 'dog', 'slept', 'on', 'the', 'rug.The', 'cat', 'did', 'not', 'cross', 'the', 'street', 'because', 'it', 'was', 'too', 'wet.The', 'dog', 'sat', 'on', 'the', 'couch', 'near', 'the', 'rug', '.'], ['The', 'black', 'cat', 'sat', 'on', 'the', 'couch', 'and', 'the', 'brown', 'dog', 'slept', 'on', 'the', 'rug.The', 'cat', 'did', 'not', 'cross', 'the', 'street', 'because', 'it', 'was', 'too', 'wet.The', 'dog', 'sat', 'on', 'the', 'couch', 'near', 'the', 'rug', '.'], ['The', 'black', 'cat', 'sat', 'on', 'the', 'couch', 'and', 'the', 'brown', 'dog', 'slept', 'on', 'the', 'rug.The', 'cat', 'did', 'not', 'cross', 'the', 'street', 'because', 'it', 'was', 'too', 'wet.The', 'dog', 'sat', 'on', 'the', 'couch', 'near', 'the', 'rug', '.'], ['The', 'black', 'cat', 'sat', 'on', 'the', 'couch', 'and', 'the', 'brown', 'dog', 'slept', 'on', 'the', 'rug.The', 'cat', 'did', 'not', 'cross', 'the', 'street', 'because', 'it', 'was', 'too', 'wet.The', 'dog', 'sat', 'on', 'the', 'couch', 'near', 'the', 'rug', '.'], ['The', 'black', 'cat', 'sat', 'on', 'the', 'couch', 'and', 'the', 'brown', 'dog', 'slept', 'on', 'the', 'rug.The', 'cat', 'did', 'not', 'cross', 'the', 'street', 'because', 'it', 'was', 'too', 'wet.The', 'dog', 'sat', 'on', 'the', 'couch', 'near', 'the', 'rug', '.'], ['The', 'black', 'cat', 'sat', 'on', 'the', 'couch', 'and', 'the', 'brown', 'dog', 'slept', 'on', 'the', 'rug.The', 'cat', 'did', 'not', 'cross', 'the', 'street', 'because', 'it', 'was', 'too', 'wet.The', 'dog', 'sat', 'on', 'the', 'couch', 'near', 'the', 'rug', '.'], ['The', 'black', 'cat', 'sat', 'on', 'the', 'couch', 'and', 'the', 'brown', 'dog', 'slept', 'on', 'the', 'rug.The', 'cat', 'did', 'not', 'cross', 'the', 'street', 'because', 'it', 'was', 'too', 'wet.The', 'dog', 'sat', 'on', 'the', 'couch', 'near', 'the', 'rug', '.'], ['The', 'black', 'cat', 'sat', 'on', 'the', 'couch', 'and', 'the', 'brown', 'dog', 'slept', 'on', 'the', 'rug.The', 'cat', 'did', 'not', 'cross', 'the', 'street', 'because', 'it', 'was', 'too', 'wet.The', 'dog', 'sat', 'on', 'the', 'couch', 'near', 'the', 'rug', '.'], ['The', 'black', 'cat', 'sat', 'on', 'the', 'couch', 'and', 'the', 'brown', 'dog', 'slept', 'on', 'the', 'rug.The', 'cat', 'did', 'not', 'cross', 'the', 'street', 'because', 'it', 'was', 'too', 'wet.The', 'dog', 'sat', 'on', 'the', 'couch', 'near', 'the', 'rug', '.'], ['The', 'black', 'cat', 'sat', 'on', 'the', 'couch', 'and', 'the', 'brown', 'dog', 'slept', 'on', 'the', 'rug.The', 'cat', 'did', 'not', 'cross', 'the', 'street', 'because', 'it', 'was', 'too', 'wet.The', 'dog', 'sat', 'on', 'the', 'couch', 'near', 'the', 'rug', '.'], ['The', 'black', 'cat', 'sat', 'on', 'the', 'couch', 'and', 'the', 'brown', 'dog', 'slept', 'on', 'the', 'rug.The', 'cat', 'did', 'not', 'cross', 'the', 'street', 'because', 'it', 'was', 'too', 'wet.The', 'dog', 'sat', 'on', 'the', 'couch', 'near', 'the', 'rug', '.'], ['The', 'black', 'cat', 'sat', 'on', 'the', 'couch', 'and', 'the', 'brown', 'dog', 'slept', 'on', 'the', 'rug.The', 'cat', 'did', 'not', 'cross', 'the', 'street', 'because', 'it', 'was', 'too', 'wet.The', 'dog', 'sat', 'on', 'the', 'couch', 'near', 'the', 'rug', '.'], ['The', 'black', 'cat', 'sat', 'on', 'the', 'couch', 'and', 'the', 'brown', 'dog', 'slept', 'on', 'the', 'rug.The', 'cat', 'did', 'not', 'cross', 'the', 'street', 'because', 'it', 'was', 'too', 'wet.The', 'dog', 'sat', 'on', 'the', 'couch', 'near', 'the', 'rug', '.'], ['The', 'black', 'cat', 'sat', 'on', 'the', 'couch', 'and', 'the', 'brown', 'dog', 'slept', 'on', 'the', 'rug.The', 'cat', 'did', 'not', 'cross', 'the', 'street', 'because', 'it', 'was', 'too', 'wet.The', 'dog', 'sat', 'on', 'the', 'couch', 'near', 'the', 'rug', '.'], ['The', 'black', 'cat', 'sat', 'on', 'the', 'couch', 'and', 'the', 'brown', 'dog', 'slept', 'on', 'the', 'rug.The', 'cat', 'did', 'not', 'cross', 'the', 'street', 'because', 'it', 'was', 'too', 'wet.The', 'dog', 'sat', 'on', 'the', 'couch', 'near', 'the', 'rug', '.'], ['The', 'black', 'cat', 'sat', 'on', 'the', 'couch', 'and', 'the', 'brown', 'dog', 'slept', 'on', 'the', 'rug.The', 'cat', 'did', 'not', 'cross', 'the', 'street', 'because', 'it', 'was', 'too', 'wet.The', 'dog', 'sat', 'on', 'the', 'couch', 'near', 'the', 'rug', '.'], ['The', 'black', 'cat', 'sat', 'on', 'the', 'couch', 'and', 'the', 'brown', 'dog', 'slept', 'on', 'the', 'rug.The', 'cat', 'did', 'not', 'cross', 'the', 'street', 'because', 'it', 'was', 'too', 'wet.The', 'dog', 'sat', 'on', 'the', 'couch', 'near', 'the', 'rug', '.'], ['The', 'black', 'cat', 'sat', 'on', 'the', 'couch', 'and', 'the', 'brown', 'dog', 'slept', 'on', 'the', 'rug.The', 'cat', 'did', 'not', 'cross', 'the', 'street', 'because', 'it', 'was', 'too', 'wet.The', 'dog', 'sat', 'on', 'the', 'couch', 'near', 'the', 'rug', '.'], ['The', 'black', 'cat', 'sat', 'on', 'the', 'couch', 'and', 'the', 'brown', 'dog', 'slept', 'on', 'the', 'rug.The', 'cat', 'did', 'not', 'cross', 'the', 'street', 'because', 'it', 'was', 'too', 'wet.The', 'dog', 'sat', 'on', 'the', 'couch', 'near', 'the', 'rug', '.'], ['The', 'black', 'cat', 'sat', 'on', 'the', 'couch', 'and', 'the', 'brown', 'dog', 'slept', 'on', 'the', 'rug.The', 'cat', 'did', 'not', 'cross', 'the', 'street', 'because', 'it', 'was', 'too', 'wet.The', 'dog', 'sat', 'on', 'the', 'couch', 'near', 'the', 'rug', '.'], ['The', 'black', 'cat', 'sat', 'on', 'the', 'couch', 'and', 'the', 'brown', 'dog', 'slept', 'on', 'the', 'rug.The', 'cat', 'did', 'not', 'cross', 'the', 'street', 'because', 'it', 'was', 'too', 'wet.The', 'dog', 'sat', 'on', 'the', 'couch', 'near', 'the', 'rug', '.'], ['The', 'black', 'cat', 'sat', 'on', 'the', 'couch', 'and', 'the', 'brown', 'dog', 'slept', 'on', 'the', 'rug.The', 'cat', 'did', 'not', 'cross', 'the', 'street', 'because', 'it', 'was', 'too', 'wet.The', 'dog', 'sat', 'on', 'the', 'couch', 'near', 'the', 'rug', '.'], ['The', 'black', 'cat', 'sat', 'on', 'the', 'couch', 'and', 'the', 'brown', 'dog', 'slept', 'on', 'the', 'rug.The', 'cat', 'did', 'not', 'cross', 'the', 'street', 'because', 'it', 'was', 'too', 'wet.The', 'dog', 'sat', 'on', 'the', 'couch', 'near', 'the', 'rug', '.'], ['The', 'black', 'cat', 'sat', 'on', 'the', 'couch', 'and', 'the', 'brown', 'dog', 'slept', 'on', 'the', 'rug.The', 'cat', 'did', 'not', 'cross', 'the', 'street', 'because', 'it', 'was', 'too', 'wet.The', 'dog', 'sat', 'on', 'the', 'couch', 'near', 'the', 'rug', '.'], ['The', 'black', 'cat', 'sat', 'on', 'the', 'couch', 'and', 'the', 'brown', 'dog', 'slept', 'on', 'the', 'rug.The', 'cat', 'did', 'not', 'cross', 'the', 'street', 'because', 'it', 'was', 'too', 'wet.The', 'dog', 'sat', 'on', 'the', 'couch', 'near', 'the', 'rug', '.'], ['The', 'black', 'cat', 'sat', 'on', 'the', 'couch', 'and', 'the', 'brown', 'dog', 'slept', 'on', 'the', 'rug.The', 'cat', 'did', 'not', 'cross', 'the', 'street', 'because', 'it', 'was', 'too', 'wet.The', 'dog', 'sat', 'on', 'the', 'couch', 'near', 'the', 'rug', '.'], ['The', 'black', 'cat', 'sat', 'on', 'the', 'couch', 'and', 'the', 'brown', 'dog', 'slept', 'on', 'the', 'rug.The', 'cat', 'did', 'not', 'cross', 'the', 'street', 'because', 'it', 'was', 'too', 'wet.The', 'dog', 'sat', 'on', 'the', 'couch', 'near', 'the', 'rug', '.'], ['The', 'black', 'cat', 'sat', 'on', 'the', 'couch', 'and', 'the', 'brown', 'dog', 'slept', 'on', 'the', 'rug.The', 'cat', 'did', 'not', 'cross', 'the', 'street', 'because', 'it', 'was', 'too', 'wet.The', 'dog', 'sat', 'on', 'the', 'couch', 'near', 'the', 'rug', '.'], ['The', 'black', 'cat', 'sat', 'on', 'the', 'couch', 'and', 'the', 'brown', 'dog', 'slept', 'on', 'the', 'rug.The', 'cat', 'did', 'not', 'cross', 'the', 'street', 'because', 'it', 'was', 'too', 'wet.The', 'dog', 'sat', 'on', 'the', 'couch', 'near', 'the', 'rug', '.'], ['The', 'black', 'cat', 'sat', 'on', 'the', 'couch', 'and', 'the', 'brown', 'dog', 'slept', 'on', 'the', 'rug.The', 'cat', 'did', 'not', 'cross', 'the', 'street', 'because', 'it', 'was', 'too', 'wet.The', 'dog', 'sat', 'on', 'the', 'couch', 'near', 'the', 'rug', '.'], ['The', 'black', 'cat', 'sat', 'on', 'the', 'couch', 'and', 'the', 'brown', 'dog', 'slept', 'on', 'the', 'rug.The', 'cat', 'did', 'not', 'cross', 'the', 'street', 'because', 'it', 'was', 'too', 'wet.The', 'dog', 'sat', 'on', 'the', 'couch', 'near', 'the', 'rug', '.'], ['The', 'black', 'cat', 'sat', 'on', 'the', 'couch', 'and', 'the', 'brown', 'dog', 'slept', 'on', 'the', 'rug.The', 'cat', 'did', 'not', 'cross', 'the', 'street', 'because', 'it', 'was', 'too', 'wet.The', 'dog', 'sat', 'on', 'the', 'couch', 'near', 'the', 'rug', '.'], ['The', 'black', 'cat', 'sat', 'on', 'the', 'couch', 'and', 'the', 'brown', 'dog', 'slept', 'on', 'the', 'rug.The', 'cat', 'did', 'not', 'cross', 'the', 'street', 'because', 'it', 'was', 'too', 'wet.The', 'dog', 'sat', 'on', 'the', 'couch', 'near', 'the', 'rug', '.'], ['The', 'black', 'cat', 'sat', 'on', 'the', 'couch', 'and', 'the', 'brown', 'dog', 'slept', 'on', 'the', 'rug.The', 'cat', 'did', 'not', 'cross', 'the', 'street', 'because', 'it', 'was', 'too', 'wet.The', 'dog', 'sat', 'on', 'the', 'couch', 'near', 'the', 'rug', '.'], ['The', 'black', 'cat', 'sat', 'on', 'the', 'couch', 'and', 'the', 'brown', 'dog', 'slept', 'on', 'the', 'rug.The', 'cat', 'did', 'not', 'cross', 'the', 'street', 'because', 'it', 'was', 'too', 'wet.The', 'dog', 'sat', 'on', 'the', 'couch', 'near', 'the', 'rug', '.'], ['The', 'black', 'cat', 'sat', 'on', 'the', 'couch', 'and', 'the', 'brown', 'dog', 'slept', 'on', 'the', 'rug.The', 'cat', 'did', 'not', 'cross', 'the', 'street', 'because', 'it', 'was', 'too', 'wet.The', 'dog', 'sat', 'on', 'the', 'couch', 'near', 'the', 'rug', '.']]\n"
     ]
    }
   ],
   "source": [
    "data = []\n",
    "for i in sent_tokenize(f):\n",
    "    temp = []\n",
    "    for j in word_tokenize(i):\n",
    "        temp.append(j)\n",
    "    data.append(temp)\n",
    "print(data)"
   ],
   "metadata": {
    "collapsed": false,
    "ExecuteTime": {
     "end_time": "2024-09-26T02:27:56.832532Z",
     "start_time": "2024-09-26T02:27:56.790245Z"
    }
   },
   "id": "9cb1c045069391fa"
  },
  {
   "cell_type": "code",
   "execution_count": 8,
   "outputs": [],
   "source": [
    "model = Word2Vec(data,min_count=1,vector_size=512,window=5,sg = 1)"
   ],
   "metadata": {
    "collapsed": false,
    "ExecuteTime": {
     "end_time": "2024-09-26T02:27:56.840506Z",
     "start_time": "2024-09-26T02:27:56.810346Z"
    }
   },
   "id": "5d2588b8cbb73392"
  },
  {
   "cell_type": "code",
   "execution_count": 9,
   "outputs": [],
   "source": [
    "word1 = 'black'\n",
    "word2 = 'brown'"
   ],
   "metadata": {
    "collapsed": false,
    "ExecuteTime": {
     "end_time": "2024-09-26T02:27:56.845785Z",
     "start_time": "2024-09-26T02:27:56.841073Z"
    }
   },
   "id": "4a527f9172e9ece1"
  },
  {
   "cell_type": "code",
   "execution_count": 10,
   "outputs": [
    {
     "name": "stdout",
     "output_type": "stream",
     "text": [
      "Position of black :  2\n",
      "Position of brown :  10\n"
     ]
    }
   ],
   "source": [
    "pos1 = data[0].index(word1) + 1\n",
    "pos2 = data[0].index(word2) + 1\n",
    "print(f\"Position of {word1} : \",pos1)\n",
    "print(f\"Position of {word2} : \",pos2)"
   ],
   "metadata": {
    "collapsed": false,
    "ExecuteTime": {
     "end_time": "2024-09-26T02:27:56.874410Z",
     "start_time": "2024-09-26T02:27:56.847368Z"
    }
   },
   "id": "7997f37834b6788"
  },
  {
   "cell_type": "markdown",
   "source": [
    "The below code retrieves the vector embedding of the given words based upon the preferred size"
   ],
   "metadata": {
    "collapsed": false
   },
   "id": "21f1e685be22e37e"
  },
  {
   "cell_type": "code",
   "execution_count": 11,
   "outputs": [],
   "source": [
    "a = model.wv[word1]\n",
    "b = model.wv[word2]"
   ],
   "metadata": {
    "collapsed": false,
    "ExecuteTime": {
     "end_time": "2024-09-26T02:27:56.874939Z",
     "start_time": "2024-09-26T02:27:56.850749Z"
    }
   },
   "id": "f95a521d55e2c2fe"
  },
  {
   "cell_type": "code",
   "execution_count": 12,
   "outputs": [
    {
     "data": {
      "text/plain": "512"
     },
     "execution_count": 12,
     "metadata": {},
     "output_type": "execute_result"
    }
   ],
   "source": [
    "len(a)"
   ],
   "metadata": {
    "collapsed": false,
    "ExecuteTime": {
     "end_time": "2024-09-26T02:27:56.875584Z",
     "start_time": "2024-09-26T02:27:56.852871Z"
    }
   },
   "id": "19bbaaf6d38f180"
  },
  {
   "cell_type": "code",
   "execution_count": 13,
   "outputs": [
    {
     "data": {
      "text/plain": "array([-0.05441973, -0.0863547 , -0.0017514 ,  0.11042178, -0.02671809,\n        0.00457652,  0.04566022, -0.01850704, -0.01792296, -0.00872043,\n        0.00896509, -0.00510498,  0.01116247, -0.01365918, -0.0346489 ,\n       -0.00976884,  0.05941276,  0.10502399, -0.04968107, -0.04847107,\n        0.06232915, -0.01243717,  0.10425414,  0.0447627 , -0.01387237,\n       -0.00634105,  0.01926252,  0.08223861,  0.00835812, -0.10834222,\n       -0.04594817,  0.07841273,  0.07965474,  0.0018017 , -0.03013139,\n        0.00837232,  0.09535804, -0.03900802, -0.00375742, -0.01916074,\n       -0.07248831,  0.07123309, -0.06735796, -0.03755805,  0.04227541,\n        0.00210774,  0.0061413 ,  0.03753241,  0.08863604,  0.11066309,\n       -0.0420329 ,  0.01437524,  0.06062197,  0.11054992, -0.04825729,\n       -0.02884888,  0.03413361, -0.10415655,  0.01174006,  0.06670907,\n        0.06507768, -0.00791308,  0.03593346,  0.03220853, -0.01211906,\n       -0.02353419, -0.02792528,  0.03638556, -0.01453721, -0.00256193,\n       -0.00095234, -0.02665885, -0.01857009, -0.06642292,  0.02807457,\n        0.03070032,  0.02434063,  0.02870278, -0.01081031,  0.09973049,\n        0.06004501, -0.02470561,  0.04757721,  0.01937877,  0.02754914,\n       -0.0009658 ,  0.08767723, -0.08457333,  0.03914755,  0.05905829,\n        0.0018423 , -0.03928578,  0.04961568, -0.09451847,  0.09253234,\n       -0.01020577, -0.00898214, -0.01776655, -0.03626185, -0.01566574,\n       -0.06775193,  0.08209536, -0.03631185, -0.04490666,  0.00751473,\n        0.01184326, -0.05574872,  0.00750173,  0.01935665, -0.04436734,\n        0.04594084, -0.13405433,  0.01133378,  0.0547027 , -0.05703303,\n       -0.06499134,  0.0489446 ,  0.03151996, -0.00256959, -0.0426152 ,\n       -0.05822226, -0.04495495,  0.03126546, -0.027469  ,  0.02576884,\n       -0.01688256, -0.06457934, -0.02707232,  0.05172904, -0.01157667,\n        0.03499407, -0.07251415, -0.00423385,  0.02226144, -0.00017387,\n        0.02198287, -0.00150937,  0.04746621,  0.07935564, -0.00639313,\n       -0.02487655, -0.01833004,  0.01995194,  0.01200038, -0.10283012,\n       -0.02160922,  0.02618824, -0.09531156,  0.02776914,  0.0734846 ,\n        0.01938498, -0.08068165, -0.03905599,  0.0133462 , -0.05162871,\n        0.03910501,  0.10249827,  0.04441515, -0.00075922,  0.03734022,\n       -0.06831055,  0.05968418, -0.07335255, -0.04847162,  0.08041653,\n        0.02410534,  0.02851332, -0.03905816,  0.07422706,  0.00220853,\n       -0.00196157, -0.07131539, -0.00575902,  0.02581901, -0.03317504,\n       -0.06264075, -0.05898478,  0.02105091,  0.05826794, -0.05021118,\n       -0.02952149, -0.04786231,  0.04936552, -0.0355337 ,  0.05715984,\n       -0.04262217, -0.04742668, -0.03966874, -0.00678572, -0.10186991,\n        0.02433966, -0.07072475, -0.02948154, -0.04444296,  0.04480293,\n        0.0192433 ,  0.02493892, -0.04317589, -0.04647095,  0.05791344,\n       -0.06915975,  0.00961634, -0.10384303, -0.07720941,  0.03628944,\n        0.03867594, -0.08484301,  0.02906367, -0.05015843,  0.04005749,\n        0.02080809, -0.02074254,  0.10316914, -0.06210589,  0.02915098,\n       -0.01517414,  0.02755421,  0.08561802, -0.0533616 , -0.03556219,\n       -0.03933185, -0.02932892,  0.08025067, -0.0539187 ,  0.06103043,\n       -0.05513921, -0.01956326, -0.00426426,  0.01941546,  0.07552994,\n       -0.06878725, -0.07729238,  0.0322965 , -0.07326069, -0.07666016,\n        0.10553908,  0.03952554,  0.01132921,  0.04392624,  0.0351161 ,\n        0.00541458,  0.01578352,  0.02675035,  0.07386005, -0.10303942,\n        0.05404506,  0.05670584, -0.04531974, -0.00678115, -0.04292044,\n       -0.01659701,  0.01600058,  0.02522466, -0.02481608, -0.07185408,\n        0.05742032,  0.0302722 , -0.09228795,  0.02549406,  0.04134622,\n        0.07820737, -0.02764559,  0.03963682, -0.02444733, -0.0369388 ,\n        0.00538752,  0.0534186 ,  0.08547699, -0.04440927, -0.07332526,\n        0.02999818,  0.12230615,  0.08740133, -0.02222852, -0.06614938,\n        0.12685865,  0.02283584,  0.06986334, -0.08824081, -0.07303193,\n       -0.00957972, -0.01531097, -0.05233525,  0.0124925 , -0.00837336,\n       -0.0573563 , -0.01711577, -0.06387682,  0.02632929,  0.03774163,\n       -0.0635908 ,  0.11462599,  0.05541704, -0.02043446,  0.0972463 ,\n        0.00691872, -0.06992517,  0.0092173 ,  0.03262566, -0.04054862,\n        0.01617349,  0.03100171,  0.02303063, -0.01734498, -0.08012353,\n       -0.01492588,  0.03712128,  0.05630065,  0.06019099,  0.00989443,\n        0.06591824,  0.01756825,  0.0830509 , -0.04881907,  0.02476317,\n       -0.00154639, -0.02220302,  0.00213936, -0.06205109,  0.0522307 ,\n        0.03199055,  0.0388101 ,  0.05799163,  0.10236317, -0.09410071,\n        0.05022848,  0.10808703,  0.03230596, -0.03878593,  0.00311973,\n        0.00346407, -0.04051819, -0.10322132, -0.03173931,  0.04359146,\n        0.07284277,  0.02341989, -0.04884387, -0.01147416,  0.16401516,\n       -0.01089823,  0.05925112,  0.08083493, -0.06915187,  0.09230527,\n        0.02118907,  0.05290203, -0.05241384, -0.0198692 , -0.00691838,\n        0.06688746,  0.04904909, -0.05998784, -0.01696993, -0.0526894 ,\n       -0.02706245, -0.00122034,  0.00739558,  0.01786099,  0.01288262,\n        0.00216428,  0.04198151,  0.05718077, -0.06365528, -0.01123591,\n       -0.0440782 , -0.01843268,  0.02602259,  0.02089847, -0.05146682,\n        0.06200517, -0.04694677,  0.0641069 , -0.00449294, -0.01206781,\n       -0.0465371 ,  0.02824428, -0.01998435, -0.0005116 ,  0.02635539,\n       -0.00760615,  0.02559487,  0.05986487,  0.03947825, -0.01557965,\n       -0.07206913,  0.0571382 ,  0.08073761, -0.01257786, -0.0617338 ,\n       -0.09495896,  0.05464027, -0.02848309, -0.01532549,  0.05185804,\n        0.0083138 ,  0.01902582,  0.0449059 ,  0.07815678,  0.00071041,\n       -0.08700732,  0.02166274, -0.03982573, -0.0125133 ,  0.02647726,\n        0.08813803, -0.00800117, -0.04173613, -0.04429393, -0.00066178,\n       -0.08181857,  0.01149636,  0.030177  , -0.03981715, -0.1036773 ,\n       -0.02140871,  0.02538808,  0.05582694,  0.11886652, -0.00219021,\n        0.02918423, -0.05810174, -0.00558895,  0.06572069,  0.02841445,\n       -0.01536733,  0.04324097,  0.07245839,  0.0454151 ,  0.06324641,\n       -0.03097268,  0.03439588, -0.02326666, -0.04410804,  0.08426622,\n        0.03254745, -0.00995857,  0.00593896,  0.05088328,  0.11219062,\n        0.09226244,  0.08036809, -0.02526566,  0.0317857 , -0.0259881 ,\n        0.00732214,  0.11855078,  0.00862096,  0.09741707,  0.00329869,\n        0.03472105,  0.0221699 ,  0.07035319, -0.06854345,  0.00693063,\n       -0.0777169 , -0.17098606, -0.07871313,  0.04333328, -0.0981167 ,\n       -0.00929827, -0.0663481 , -0.03288529, -0.00048596, -0.04454803,\n        0.0070517 ,  0.07335487,  0.1181154 ,  0.02255185,  0.11114807,\n        0.00799183,  0.08586476,  0.03808051,  0.00220418,  0.01972689,\n       -0.03243341,  0.04717419,  0.06100908, -0.00099805, -0.06391046,\n       -0.05771578, -0.02339972, -0.0294704 , -0.02858118, -0.07086086,\n       -0.01860205,  0.04102468,  0.0668392 , -0.02997941, -0.00261716,\n        0.00224852, -0.01076516, -0.0418158 , -0.05418269,  0.03332684,\n       -0.08887416, -0.01186042,  0.05500162, -0.04759837,  0.00718728,\n        0.03770161,  0.01303495,  0.03400785, -0.0291514 , -0.07599635,\n        0.01151109, -0.08551382,  0.03713552, -0.0713618 , -0.01640806,\n       -0.05447046, -0.04645568], dtype=float32)"
     },
     "execution_count": 13,
     "metadata": {},
     "output_type": "execute_result"
    }
   ],
   "source": [
    "a"
   ],
   "metadata": {
    "collapsed": false,
    "ExecuteTime": {
     "end_time": "2024-09-26T02:27:56.876616Z",
     "start_time": "2024-09-26T02:27:56.856224Z"
    }
   },
   "id": "842297c08e81de6f"
  },
  {
   "cell_type": "code",
   "execution_count": 14,
   "outputs": [
    {
     "data": {
      "text/plain": "array([-5.51640391e-02, -8.69774222e-02, -2.55280826e-03,  1.10678732e-01,\n       -2.88184471e-02,  1.62754278e-03,  4.66233566e-02, -1.58642884e-02,\n       -1.76712498e-02, -9.78153571e-03,  8.77878908e-03, -6.02419348e-03,\n        1.18644405e-02, -1.23421224e-02, -3.51073444e-02, -1.06958728e-02,\n        5.77316284e-02,  1.06081612e-01, -5.16196638e-02, -4.80807796e-02,\n        6.13686591e-02, -1.09015312e-02,  1.02812327e-01,  4.46859561e-02,\n       -1.13885198e-02, -9.24560428e-03,  2.05191504e-02,  8.29336271e-02,\n        9.22461879e-03, -1.08102411e-01, -4.27965261e-02,  7.98422694e-02,\n        8.06094483e-02,  3.37520009e-03, -2.93049552e-02,  8.73496011e-03,\n        9.51124579e-02, -3.69399823e-02, -2.65092775e-03, -2.03795899e-02,\n       -7.57788569e-02,  7.33171552e-02, -6.98468834e-02, -3.78243588e-02,\n        4.29353788e-02,  7.83633790e-04,  6.16876502e-03,  3.65799963e-02,\n        8.90475512e-02,  1.14879340e-01, -3.93186770e-02,  1.54582029e-02,\n        5.84899373e-02,  1.10298663e-01, -5.09590469e-02, -2.94718184e-02,\n        3.38476300e-02, -1.04565546e-01,  1.27711622e-02,  6.64501190e-02,\n        6.51575401e-02, -6.75494689e-03,  3.69308628e-02,  3.01713608e-02,\n       -1.26605872e-02, -2.18773186e-02, -2.69189272e-02,  3.68285663e-02,\n       -1.42924823e-02, -8.93046090e-04, -2.01806077e-03, -2.49421876e-02,\n       -1.72714293e-02, -6.39256835e-02,  2.90050954e-02,  3.29725035e-02,\n        2.30127480e-02,  2.67834738e-02, -1.28774140e-02,  9.87736955e-02,\n        6.25925139e-02, -2.64023133e-02,  4.79134470e-02,  2.00613700e-02,\n        2.71908864e-02, -1.45854091e-03,  8.77336338e-02, -8.81739929e-02,\n        3.84724624e-02,  5.98197393e-02,  3.81092890e-03, -3.97610329e-02,\n        4.75569069e-02, -9.83906165e-02,  9.18273479e-02, -8.59593414e-03,\n       -1.21186469e-02, -1.74832344e-02, -3.72371562e-02, -1.64916143e-02,\n       -6.75892085e-02,  8.24374035e-02, -3.63970622e-02, -4.55976911e-02,\n        7.06163002e-03,  1.16029764e-02, -5.69681972e-02,  8.05445760e-03,\n        1.88592989e-02, -4.31653336e-02,  4.88751791e-02, -1.34474933e-01,\n        1.12174051e-02,  5.50203733e-02, -5.52028865e-02, -6.44011423e-02,\n        4.74964194e-02,  2.88573280e-02, -3.83565738e-03, -3.92951444e-02,\n       -5.80554120e-02, -4.25465442e-02,  3.14873345e-02, -3.00149806e-02,\n        2.97153313e-02, -1.70020331e-02, -6.31842688e-02, -2.74523441e-02,\n        5.29563427e-02, -1.36622200e-02,  3.59501466e-02, -7.44959339e-02,\n       -4.81764087e-03,  2.38768198e-02, -6.45940425e-04,  2.45644934e-02,\n       -3.81122180e-03,  5.00898324e-02,  7.77656063e-02, -7.09977606e-03,\n       -2.78432071e-02, -1.67110004e-02,  1.77799463e-02,  1.33723048e-02,\n       -1.02920324e-01, -1.77049767e-02,  2.76342519e-02, -9.63959917e-02,\n        2.60972194e-02,  7.52716810e-02,  1.85690690e-02, -8.37770551e-02,\n       -3.90524864e-02,  1.25709428e-02, -5.09656966e-02,  3.95387560e-02,\n        1.02488242e-01,  4.30226997e-02,  1.88881066e-03,  3.81372459e-02,\n       -6.83671534e-02,  6.16277978e-02, -7.57959336e-02, -4.93557565e-02,\n        8.38632062e-02,  2.59698499e-02,  2.93453373e-02, -3.92998271e-02,\n        7.65297636e-02,  5.09891659e-04, -2.30439313e-04, -7.13756308e-02,\n       -5.02935657e-03,  2.80325674e-02, -3.52593884e-02, -5.96116520e-02,\n       -6.08174726e-02,  2.12371051e-02,  5.91909923e-02, -5.04932702e-02,\n       -2.69846823e-02, -4.82905582e-02,  4.83386442e-02, -3.17619257e-02,\n        6.02654107e-02, -4.27585319e-02, -4.51747887e-02, -4.05849889e-02,\n       -8.86031333e-03, -1.01153776e-01,  2.35638805e-02, -6.85877576e-02,\n       -2.59550661e-02, -4.64333631e-02,  4.41586897e-02,  2.09848005e-02,\n        2.22173706e-02, -4.41877767e-02, -4.69511524e-02,  5.73358238e-02,\n       -6.88899532e-02,  9.80681553e-03, -1.06707364e-01, -7.62221143e-02,\n        3.53251807e-02,  3.70538235e-02, -8.36625099e-02,  2.94330176e-02,\n       -5.05079404e-02,  4.03392129e-02,  1.99040510e-02, -1.98633522e-02,\n        1.04389966e-01, -5.95441572e-02,  3.02631501e-02, -1.58786364e-02,\n        2.68285405e-02,  8.42458606e-02, -5.10226749e-02, -3.72260101e-02,\n       -4.11580652e-02, -2.82016844e-02,  7.79214725e-02, -5.25828414e-02,\n        6.28055036e-02, -5.58827929e-02, -1.89824756e-02, -4.28715209e-03,\n        2.09688693e-02,  7.67161027e-02, -6.97554424e-02, -7.82427415e-02,\n        3.43059339e-02, -7.37874582e-02, -7.68663958e-02,  1.06185980e-01,\n        3.73118557e-02,  1.06572686e-02,  4.66219969e-02,  3.35717574e-02,\n        3.85798234e-03,  1.97779480e-02,  2.95009408e-02,  7.34413117e-02,\n       -1.06841624e-01,  5.37481196e-02,  6.02305867e-02, -4.49130982e-02,\n       -4.08900110e-03, -4.37321737e-02, -1.37942331e-02,  1.46521209e-02,\n        2.62223911e-02, -2.30801925e-02, -7.26922452e-02,  5.81272319e-02,\n        2.84801293e-02, -9.29672122e-02,  2.81535462e-02,  4.03819010e-02,\n        7.96484649e-02, -2.86289062e-02,  4.21867520e-02, -2.72737183e-02,\n       -3.69637460e-02,  7.83117395e-03,  5.29063605e-02,  8.79256502e-02,\n       -4.60087396e-02, -7.51753673e-02,  3.03295329e-02,  1.21856406e-01,\n        8.96302015e-02, -2.44688690e-02, -6.58408776e-02,  1.27220780e-01,\n        2.43758094e-02,  6.99889585e-02, -8.92988741e-02, -7.39494860e-02,\n       -9.89733916e-03, -1.42419469e-02, -5.24890572e-02,  1.34017086e-02,\n       -4.88032587e-03, -6.08438291e-02, -1.66360307e-02, -6.47896677e-02,\n        2.61727907e-02,  3.82428840e-02, -6.13765568e-02,  1.13340050e-01,\n        5.63576557e-02, -1.92361604e-02,  1.01001941e-01,  9.32088494e-03,\n       -7.06462339e-02,  8.77807848e-03,  3.34021039e-02, -3.98347639e-02,\n        1.62031837e-02,  2.90755462e-02,  2.03384105e-02, -1.48677826e-02,\n       -7.86664635e-02, -1.80041045e-02,  3.75759937e-02,  5.77384904e-02,\n        5.90444617e-02,  1.06319441e-02,  6.87342733e-02,  1.86364017e-02,\n        8.33403841e-02, -4.95376959e-02,  2.40110680e-02, -3.47240781e-03,\n       -2.37421077e-02,  1.91469770e-03, -5.91244772e-02,  5.44141121e-02,\n        3.38290259e-02,  3.73554043e-02,  6.02387525e-02,  1.02665678e-01,\n       -9.29850489e-02,  5.21011986e-02,  1.07995868e-01,  3.55420373e-02,\n       -3.92491817e-02,  3.74118565e-03,  4.78539790e-04, -4.09727879e-02,\n       -1.04129516e-01, -3.13500799e-02,  4.35392261e-02,  7.42338076e-02,\n        2.27298383e-02, -4.83693480e-02, -1.04688527e-02,  1.66636020e-01,\n       -1.10678412e-02,  5.68709224e-02,  8.30770507e-02, -6.93721548e-02,\n        9.24211219e-02,  2.43591089e-02,  5.40194325e-02, -5.06635793e-02,\n       -2.13215947e-02, -8.55162460e-03,  6.85302317e-02,  4.78883907e-02,\n       -6.14923239e-02, -1.34583954e-02, -5.17741814e-02, -2.72612795e-02,\n        2.74653919e-03,  6.01237221e-03,  1.61946565e-02,  1.20462487e-02,\n        1.79450517e-03,  4.46982235e-02,  5.73184378e-02, -6.59665316e-02,\n       -1.32679287e-02, -4.23869491e-02, -1.78013444e-02,  2.97017377e-02,\n        2.12153811e-02, -5.19038625e-02,  6.27800599e-02, -4.83918227e-02,\n        6.69949055e-02, -3.90700251e-03, -1.02741318e-02, -4.72949184e-02,\n        2.95213088e-02, -1.93080474e-02,  1.45829981e-03,  2.33304556e-02,\n       -7.36265676e-03,  2.40278002e-02,  6.21746629e-02,  3.63407731e-02,\n       -1.66948903e-02, -7.35567138e-02,  5.76940402e-02,  8.08226317e-02,\n       -1.41595630e-02, -6.21459670e-02, -9.45623741e-02,  5.22733480e-02,\n       -3.07353605e-02, -1.49288075e-02,  5.06061427e-02,  9.69091523e-03,\n        2.08078101e-02,  4.64603566e-02,  7.88952410e-02,  9.53472685e-04,\n       -8.51826817e-02,  2.14134753e-02, -4.16241735e-02, -1.25245331e-02,\n        2.37367973e-02,  8.64152536e-02, -6.92948466e-03, -4.43923622e-02,\n       -4.45993878e-02,  1.21706107e-03, -8.16329569e-02,  1.24250147e-02,\n        2.94973757e-02, -3.62276994e-02, -1.01927638e-01, -2.10016556e-02,\n        2.28449665e-02,  5.41449487e-02,  1.17933884e-01, -4.16835910e-03,\n        2.80067939e-02, -5.68474531e-02, -7.83009920e-03,  6.45562410e-02,\n        2.66942047e-02, -1.72607638e-02,  4.35502939e-02,  7.40433782e-02,\n        4.74354811e-02,  6.35968521e-02, -3.18028964e-02,  3.30648609e-02,\n       -1.99726894e-02, -4.32890952e-02,  8.55266452e-02,  3.04735396e-02,\n       -9.86141618e-03,  5.33097284e-03,  5.19769490e-02,  1.12909652e-01,\n        9.48521793e-02,  8.29351097e-02, -2.81203743e-02,  3.36410291e-02,\n       -2.62176823e-02,  8.20731372e-03,  1.14816196e-01,  6.22981973e-03,\n        9.80134904e-02,  2.58291257e-03,  3.31363231e-02,  2.01013330e-02,\n        6.89039603e-02, -6.81066066e-02,  1.08084874e-02, -7.95237571e-02,\n       -1.68849677e-01, -8.12471807e-02,  4.59292531e-02, -9.76569653e-02,\n       -1.10985227e-02, -6.59054369e-02, -3.24234217e-02,  3.56770382e-04,\n       -4.49292138e-02,  1.06287133e-02,  7.31858537e-02,  1.20527215e-01,\n        2.21201479e-02,  1.15058087e-01,  7.70102534e-03,  8.64713266e-02,\n        3.74567732e-02,  3.76976165e-03,  1.83841065e-02, -2.94047743e-02,\n        5.07727303e-02,  6.24676757e-02,  9.30507027e-04, -6.24582879e-02,\n       -5.73880598e-02, -2.45508552e-02, -2.84366626e-02, -3.02152652e-02,\n       -7.40289241e-02, -1.76798627e-02,  4.01937999e-02,  6.68407083e-02,\n       -2.99512371e-02, -8.38480657e-04, -1.31744746e-04, -1.06995935e-02,\n       -3.91352251e-02, -5.21150082e-02,  3.32583524e-02, -8.82247537e-02,\n       -1.31011065e-02,  5.58643788e-02, -4.83220629e-02,  9.73364711e-03,\n        3.62670980e-02,  1.52522968e-02,  3.51910032e-02, -2.81279553e-02,\n       -7.35004991e-02,  1.38062965e-02, -8.72754455e-02,  3.62843573e-02,\n       -7.21585602e-02, -1.76567975e-02, -5.47513999e-02, -4.71720472e-02],\n      dtype=float32)"
     },
     "execution_count": 14,
     "metadata": {},
     "output_type": "execute_result"
    }
   ],
   "source": [
    "b"
   ],
   "metadata": {
    "collapsed": false,
    "ExecuteTime": {
     "end_time": "2024-09-26T02:27:56.877222Z",
     "start_time": "2024-09-26T02:27:56.860462Z"
    }
   },
   "id": "ff17e6be0dbba28d"
  },
  {
   "cell_type": "markdown",
   "source": [
    "### Next we calculate cosine similarity manually"
   ],
   "metadata": {
    "collapsed": false
   },
   "id": "c3e1b26c13baafd4"
  },
  {
   "cell_type": "markdown",
   "source": [
    "cos(theta) = A.B/||A||||B||"
   ],
   "metadata": {
    "collapsed": false
   },
   "id": "9953600bf9a35eb8"
  },
  {
   "cell_type": "code",
   "execution_count": 15,
   "outputs": [
    {
     "data": {
      "text/plain": "1.4310583"
     },
     "execution_count": 15,
     "metadata": {},
     "output_type": "execute_result"
    }
   ],
   "source": [
    "dot_product = np.dot(a,b)\n",
    "dot_product"
   ],
   "metadata": {
    "collapsed": false,
    "ExecuteTime": {
     "end_time": "2024-09-26T02:27:56.877402Z",
     "start_time": "2024-09-26T02:27:56.864160Z"
    }
   },
   "id": "e7604ea256302cf3"
  },
  {
   "cell_type": "code",
   "execution_count": 16,
   "outputs": [
    {
     "data": {
      "text/plain": "1.1934086"
     },
     "execution_count": 16,
     "metadata": {},
     "output_type": "execute_result"
    }
   ],
   "source": [
    "norm_a = np.linalg.norm(a)\n",
    "norm_a"
   ],
   "metadata": {
    "collapsed": false,
    "ExecuteTime": {
     "end_time": "2024-09-26T02:27:56.878021Z",
     "start_time": "2024-09-26T02:27:56.866675Z"
    }
   },
   "id": "7f8f50290812ef09"
  },
  {
   "cell_type": "code",
   "execution_count": 17,
   "outputs": [
    {
     "data": {
      "text/plain": "1.1997324"
     },
     "execution_count": 17,
     "metadata": {},
     "output_type": "execute_result"
    }
   ],
   "source": [
    "norm_b = np.linalg.norm(b)\n",
    "norm_b"
   ],
   "metadata": {
    "collapsed": false,
    "ExecuteTime": {
     "end_time": "2024-09-26T02:27:56.878201Z",
     "start_time": "2024-09-26T02:27:56.868247Z"
    }
   },
   "id": "4f8665f8bf5cde64"
  },
  {
   "cell_type": "code",
   "execution_count": 18,
   "outputs": [
    {
     "data": {
      "text/plain": "0.9995022"
     },
     "execution_count": 18,
     "metadata": {},
     "output_type": "execute_result"
    }
   ],
   "source": [
    "cos = dot_product/(norm_a*norm_b)\n",
    "cos"
   ],
   "metadata": {
    "collapsed": false,
    "ExecuteTime": {
     "end_time": "2024-09-26T02:27:56.878350Z",
     "start_time": "2024-09-26T02:27:56.871759Z"
    }
   },
   "id": "2459009070193741"
  },
  {
   "cell_type": "markdown",
   "source": [
    "### Next we calculate cosine similarity using libraries just to cross verify"
   ],
   "metadata": {
    "collapsed": false
   },
   "id": "878505b1713acfdd"
  },
  {
   "cell_type": "code",
   "execution_count": 19,
   "outputs": [
    {
     "name": "stdout",
     "output_type": "stream",
     "text": [
      "[0.99950206]\n"
     ]
    }
   ],
   "source": [
    "a_reshaped = a.reshape(1,512) \n",
    "b_reshaped = b.reshape(1,512)\n",
    "cos_lib = cosine_similarity(a_reshaped, b_reshaped)\n",
    "print(cos_lib[0])"
   ],
   "metadata": {
    "collapsed": false,
    "ExecuteTime": {
     "end_time": "2024-09-26T02:27:56.888718Z",
     "start_time": "2024-09-26T02:27:56.876531Z"
    }
   },
   "id": "258008c609799141"
  },
  {
   "cell_type": "markdown",
   "source": [
    "Hence we've verified that the cosine similarity that we calculated using libraries is equal to the cosine similarity calculated manually"
   ],
   "metadata": {
    "collapsed": false
   },
   "id": "3217c5a7564f94df"
  },
  {
   "cell_type": "markdown",
   "source": [
    "### Next we try to integrate sinusoidal positional encoding into the embedded word"
   ],
   "metadata": {
    "collapsed": false
   },
   "id": "3ea49a8c48fb5e20"
  },
  {
   "cell_type": "code",
   "execution_count": 20,
   "outputs": [],
   "source": [
    "pe1 = a_reshaped.copy()\n",
    "pe2 = b_reshaped.copy()\n",
    "paa = a_reshaped.copy()\n",
    "pba = b_reshaped.copy()\n",
    "d_model = 512"
   ],
   "metadata": {
    "collapsed": false,
    "ExecuteTime": {
     "end_time": "2024-09-26T02:27:56.888863Z",
     "start_time": "2024-09-26T02:27:56.879342Z"
    }
   },
   "id": "bf942085a636e4b1"
  },
  {
   "cell_type": "code",
   "execution_count": 21,
   "outputs": [],
   "source": [
    "for i in range(0, 512,2):\n",
    "                pe1[0][i] = math.sin(pos1 / (10000 ** ((2 * i)/d_model)))\n",
    "                paa[0][i] = (paa[0][i]*math.sqrt(d_model))+ pe1[0][i]\n",
    "                \n",
    "                pe1[0][i+1] = math.cos(pos1 / (10000 ** ((2 * i)/d_model)))\n",
    "                paa[0][i+1] = (paa[0][i+1]*math.sqrt(d_model))+pe1[0][i+1]\n"
   ],
   "metadata": {
    "collapsed": false,
    "ExecuteTime": {
     "end_time": "2024-09-26T02:27:56.888941Z",
     "start_time": "2024-09-26T02:27:56.883093Z"
    }
   },
   "id": "fcd63dd83eab7fa2"
  },
  {
   "cell_type": "code",
   "execution_count": 22,
   "outputs": [],
   "source": [
    "for i in range(0, 512,2):\n",
    "                pe2[0][i] = math.sin(pos2 / (10000 ** ((2 * i)/d_model)))\n",
    "                pba[0][i] = (pba[0][i]*math.sqrt(d_model))+ pe2[0][i]\n",
    "                \n",
    "                pe2[0][i+1] = math.cos(pos2 / (10000 ** ((2 * i)/d_model)))\n",
    "                pba[0][i+1] = (pba[0][i+1]*math.sqrt(d_model))+pe2[0][i+1]"
   ],
   "metadata": {
    "collapsed": false,
    "ExecuteTime": {
     "end_time": "2024-09-26T02:27:56.894053Z",
     "start_time": "2024-09-26T02:27:56.887586Z"
    }
   },
   "id": "9e1dc7fca754f6c0"
  },
  {
   "cell_type": "code",
   "execution_count": 23,
   "outputs": [
    {
     "name": "stdout",
     "output_type": "stream",
     "text": [
      "black   brown\n"
     ]
    }
   ],
   "source": [
    "print(word1,\" \",word2)"
   ],
   "metadata": {
    "collapsed": false,
    "ExecuteTime": {
     "end_time": "2024-09-26T02:27:56.948328Z",
     "start_time": "2024-09-26T02:27:56.889960Z"
    }
   },
   "id": "821ba97c26645b47"
  },
  {
   "cell_type": "code",
   "execution_count": 24,
   "outputs": [
    {
     "name": "stdout",
     "output_type": "stream",
     "text": [
      "[[0.99950206]] word similarity\n"
     ]
    }
   ],
   "source": [
    "cos_lib = cosine_similarity(a_reshaped, b_reshaped)\n",
    "print(cos_lib,\"word similarity\")"
   ],
   "metadata": {
    "collapsed": false,
    "ExecuteTime": {
     "end_time": "2024-09-26T02:27:56.954133Z",
     "start_time": "2024-09-26T02:27:56.892501Z"
    }
   },
   "id": "41901d2d60ef3113"
  },
  {
   "cell_type": "code",
   "execution_count": 25,
   "outputs": [
    {
     "name": "stdout",
     "output_type": "stream",
     "text": [
      "[[0.8600013]] positional similarity\n"
     ]
    }
   ],
   "source": [
    "\n",
    "cos_lib = cosine_similarity(pe1, pe2)\n",
    "print(cos_lib,\"positional similarity\")"
   ],
   "metadata": {
    "collapsed": false,
    "ExecuteTime": {
     "end_time": "2024-09-26T02:27:56.954955Z",
     "start_time": "2024-09-26T02:27:56.895794Z"
    }
   },
   "id": "56d5bf76168af253"
  },
  {
   "cell_type": "code",
   "execution_count": 26,
   "outputs": [
    {
     "name": "stdout",
     "output_type": "stream",
     "text": [
      "[[0.9639004]] positional encoding similarity\n"
     ]
    }
   ],
   "source": [
    "cos_lib = cosine_similarity(paa, pba)\n",
    "print(cos_lib,\"positional encoding similarity\")\n"
   ],
   "metadata": {
    "collapsed": false,
    "ExecuteTime": {
     "end_time": "2024-09-26T02:27:56.955416Z",
     "start_time": "2024-09-26T02:27:56.898425Z"
    }
   },
   "id": "f94c4fc61c4b681"
  },
  {
   "cell_type": "markdown",
   "source": [
    "### Sentence : The black cat sat on the couch and the brown dog slept on the rug.The cat did not cross the street because it was too wet.The dog sat on the couch near the rug."
   ],
   "metadata": {
    "collapsed": false
   },
   "id": "549aa47a77229c25"
  },
  {
   "cell_type": "markdown",
   "source": [
    "### Cosine similarity with only word embedding"
   ],
   "metadata": {
    "collapsed": false
   },
   "id": "dcd769ccdfd2ed62"
  },
  {
   "cell_type": "code",
   "execution_count": 28,
   "outputs": [
    {
     "data": {
      "text/plain": "array([[0.99950206]], dtype=float32)"
     },
     "execution_count": 28,
     "metadata": {},
     "output_type": "execute_result"
    }
   ],
   "source": [
    "cosine_similarity(a_reshaped,b_reshaped)"
   ],
   "metadata": {
    "collapsed": false,
    "ExecuteTime": {
     "end_time": "2024-09-26T02:28:38.372621Z",
     "start_time": "2024-09-26T02:28:38.369029Z"
    }
   },
   "id": "b992c213256eb1c9"
  },
  {
   "cell_type": "markdown",
   "source": [
    "### Cosine similarity with positional encoding implemented"
   ],
   "metadata": {
    "collapsed": false
   },
   "id": "83184c5abc843a9"
  },
  {
   "cell_type": "code",
   "execution_count": 29,
   "outputs": [
    {
     "data": {
      "text/plain": "array([[0.9639004]], dtype=float32)"
     },
     "execution_count": 29,
     "metadata": {},
     "output_type": "execute_result"
    }
   ],
   "source": [
    "cosine_similarity(paa,pba)"
   ],
   "metadata": {
    "collapsed": false,
    "ExecuteTime": {
     "end_time": "2024-09-26T02:28:52.545171Z",
     "start_time": "2024-09-26T02:28:52.523020Z"
    }
   },
   "id": "951c595147446c0d"
  },
  {
   "cell_type": "code",
   "execution_count": null,
   "outputs": [],
   "source": [],
   "metadata": {
    "collapsed": false
   },
   "id": "e48c473074585533"
  }
 ],
 "metadata": {
  "kernelspec": {
   "display_name": "Python 3",
   "language": "python",
   "name": "python3"
  },
  "language_info": {
   "codemirror_mode": {
    "name": "ipython",
    "version": 2
   },
   "file_extension": ".py",
   "mimetype": "text/x-python",
   "name": "python",
   "nbconvert_exporter": "python",
   "pygments_lexer": "ipython2",
   "version": "2.7.6"
  }
 },
 "nbformat": 4,
 "nbformat_minor": 5
}
