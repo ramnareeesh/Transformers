{
 "cells": [
  {
   "cell_type": "code",
   "execution_count": 1,
   "id": "initial_id",
   "metadata": {
    "collapsed": true,
    "ExecuteTime": {
     "end_time": "2025-01-05T16:34:29.718464Z",
     "start_time": "2025-01-05T16:34:16.517038Z"
    }
   },
   "outputs": [],
   "source": [
    "import tensorflow as tf\n",
    "import random\n",
    "import numpy as np\n",
    "from keras.layers import LayerNormalization, Layer, Dense, ReLU, Dropout,TextVectorization, Embedding\n",
    "from keras.backend import softmax \n",
    "from tensorflow import math, matmul, reshape, shape, transpose, cast, float32"
   ]
  },
  {
   "cell_type": "markdown",
   "source": [
    "### Positional embedding"
   ],
   "metadata": {
    "collapsed": false
   },
   "id": "c8eedbd527817ae"
  },
  {
   "cell_type": "code",
   "execution_count": 9,
   "outputs": [],
   "source": [
    "class PositionEmbeddingFixedWeights(Layer):\n",
    "    def __init__(self, seq_length, vocab_size, output_dim, **kwargs):\n",
    "        super().__init__(**kwargs)\n",
    "        word_embedding_matrix = self.get_position_encoding(vocab_size, output_dim)\n",
    "        pos_embedding_matrix = self.get_position_encoding(seq_length, output_dim)\n",
    "        self.word_embedding_layer = Embedding(input_dim=vocab_size, output_dim=output_dim,weights=[word_embedding_matrix],trainable=False)\n",
    "        self.position_embedding_layer = Embedding(input_dim=seq_length, output_dim=output_dim,weights=[pos_embedding_matrix],trainable=False)\n",
    "    \n",
    "    def get_position_encoding(self, seq_len, d, n=10000):\n",
    "        P = np.zeros((seq_len, d))\n",
    "        for k in range(seq_len):\n",
    "            for i in np.arange(int(d/2)):\n",
    "                denominator = np.power(n, 2*i/d)\n",
    "                P[k, 2*i] = np.sin(k/denominator)\n",
    "                P[k, 2*i+1] = np.cos(k/denominator)\n",
    "        return P\n",
    "    \n",
    "    \n",
    "    def call(self, inputs):\n",
    "        position_indices = tf.range(tf.shape(inputs)[-1])\n",
    "        embedded_words = self.word_embedding_layer(inputs)\n",
    "        embedded_indices = self.position_embedding_layer(position_indices)\n",
    "        return embedded_words + embedded_indices"
   ],
   "metadata": {
    "collapsed": false,
    "ExecuteTime": {
     "end_time": "2025-01-05T17:57:01.876609Z",
     "start_time": "2025-01-05T17:57:01.876289Z"
    }
   },
   "id": "4d541c35d3d8ae5b"
  },
  {
   "cell_type": "markdown",
   "source": [
    "### Single headed Self Attention"
   ],
   "metadata": {
    "collapsed": false
   },
   "id": "4feb726f4448ab0b"
  },
  {
   "cell_type": "code",
   "execution_count": 3,
   "outputs": [],
   "source": [
    "class DotProductAttention(Layer):\n",
    "    def __init__(self,**kwargs):\n",
    "        super().__init__(**kwargs)\n",
    "    \n",
    "    def call(self,queries,keys,values,d_k,mask = None):\n",
    "        \n",
    "        # Scoring the queries against the keys after transposing the latter, and scaling\n",
    "        scores = matmul(queries, keys, transpose_b=True) / math.sqrt(cast(d_k, float32))\n",
    "        \n",
    "        # Apply mask to the attention scores\n",
    "        if mask is not None:\n",
    "            scores += -1e9 * mask\n",
    "        \n",
    "        # Computing the weights by a softmax operation\n",
    "        weights = softmax(scores)\n",
    "        \n",
    "        # Computing the attention by a weighted sum of the value vectors\n",
    "        return matmul(weights, values)\n",
    "        \n",
    "    "
   ],
   "metadata": {
    "collapsed": false,
    "ExecuteTime": {
     "end_time": "2025-01-05T17:39:52.296147Z",
     "start_time": "2025-01-05T17:39:52.294762Z"
    }
   },
   "id": "d70074e3fcc0f604"
  },
  {
   "cell_type": "markdown",
   "source": [
    "### Multi - headed self attention"
   ],
   "metadata": {
    "collapsed": false
   },
   "id": "1d3c0f68500a54a6"
  },
  {
   "cell_type": "code",
   "execution_count": 4,
   "outputs": [],
   "source": [
    "class MultiHeadAttention(Layer):\n",
    "    def __init__(self, h, d_k, d_v, d_model, **kwargs):\n",
    "        super().__init__(**kwargs)\n",
    "        self.attention = DotProductAttention() # Scaled dot product attention\n",
    "        self.heads = h # Number of attention heads to use\n",
    "        self.d_k = d_k # Dimensionality of the linearly projected queries and keys\n",
    "        self.d_v = d_v # Dimensionality of the linearly projected values\n",
    "        self.d_model = d_model # Dimensionality of the model\n",
    "        self.W_q = Dense(d_k) # Learned projection matrix for the queries\n",
    "        self.W_k = Dense(d_k) # Learned projection matrix for the keys\n",
    "        self.W_v = Dense(d_v) # Learned projection matrix for the values\n",
    "        self.W_o = Dense(d_model) # Learned projection matrix for the multi-head output\n",
    "    def reshape_tensor(self, x, heads, flag):\n",
    "        if flag:\n",
    "            # Tensor shape after reshaping and transposing:\n",
    "            # (batch_size, heads, seq_length, -1)\n",
    "            x = reshape(x, shape=(shape(x)[0], shape(x)[1], heads, -1))\n",
    "            x = transpose(x, perm=(0, 2, 1, 3))\n",
    "        else:\n",
    "            # Reverting the reshaping and transposing operations:\n",
    "            # (batch_size, seq_length, d_k)\n",
    "            x = transpose(x, perm=(0, 2, 1, 3))\n",
    "            x = reshape(x, shape=(shape(x)[0], shape(x)[1], self.d_k))\n",
    "        return x\n",
    "    \n",
    "    def call(self, queries, keys, values, mask=None):\n",
    "        # Rearrange the queries to be able to compute all heads in parallel\n",
    "        q_reshaped = self.reshape_tensor(self.W_q(queries), self.heads, True)\n",
    "        # Resulting tensor shape: (batch_size, heads, input_seq_length, -1)\n",
    "        # Rearrange the keys to be able to compute all heads in parallel\n",
    "        k_reshaped = self.reshape_tensor(self.W_k(keys), self.heads, True)\n",
    "        # Resulting tensor shape: (batch_size, heads, input_seq_length, -1)\n",
    "        # Rearrange the values to be able to compute all heads in parallel\n",
    "        v_reshaped = self.reshape_tensor(self.W_v(values), self.heads, True)\n",
    "        # Resulting tensor shape: (batch_size, heads, input_seq_length, -1)\n",
    "        # Compute the multi-head attention output using the reshaped queries,\n",
    "        # keys, and values\n",
    "        o_reshaped = self.attention(q_reshaped, k_reshaped, v_reshaped, self.d_k, mask)\n",
    "        # Resulting tensor shape: (batch_size, heads, input_seq_length, -1)\n",
    "        # Rearrange back the output into concatenated form\n",
    "        output = self.reshape_tensor(o_reshaped, self.heads, False)\n",
    "        # Resulting tensor shape: (batch_size, input_seq_length, d_v)\n",
    "        # Apply one final linear projection to the output to generate the multi-head\n",
    "        # attention. Resulting tensor shape: (batch_size, input_seq_length, d_model)\n",
    "        return self.W_o(output)"
   ],
   "metadata": {
    "collapsed": false,
    "ExecuteTime": {
     "end_time": "2025-01-05T17:39:53.185151Z",
     "start_time": "2025-01-05T17:39:53.176083Z"
    }
   },
   "id": "509bfc0c5150ec2a"
  },
  {
   "cell_type": "markdown",
   "source": [
    "### Normalization layer"
   ],
   "metadata": {
    "collapsed": false
   },
   "id": "7bfcd918e2ea99af"
  },
  {
   "cell_type": "code",
   "execution_count": 7,
   "outputs": [],
   "source": [
    "# Implementing the Add & Norm Layer\n",
    "class AddNormalization(Layer):\n",
    "    def __init__(self, **kwargs):\n",
    "        super().__init__(**kwargs)\n",
    "        self.layer_norm = LayerNormalization() # Layer normalization layer\n",
    "    def call(self, x, sublayer_x):\n",
    "        # The sublayer input and output need to be of the same shape to be summed\n",
    "        add = x + sublayer_x\n",
    "        # Apply layer normalization to the sum\n",
    "        return self.layer_norm(add)\n"
   ],
   "metadata": {
    "collapsed": false,
    "ExecuteTime": {
     "end_time": "2025-01-05T17:46:49.917415Z",
     "start_time": "2025-01-05T17:46:49.913778Z"
    }
   },
   "id": "9e21c6cd2173a129"
  },
  {
   "cell_type": "markdown",
   "source": [
    "### Feed forward layer"
   ],
   "metadata": {
    "collapsed": false
   },
   "id": "55755539e20295e0"
  },
  {
   "cell_type": "code",
   "execution_count": 6,
   "outputs": [],
   "source": [
    "# Implementing the Feed-Forward Layer\n",
    "class FeedForward(Layer):\n",
    "    def __init__(self, d_ff, d_model, **kwargs):\n",
    "        super().__init__(**kwargs)\n",
    "        self.fully_connected1 = Dense(d_ff) # First fully connected layer\n",
    "        self.fully_connected2 = Dense(d_model) # Second fully connected layer\n",
    "        self.activation = ReLU() # ReLU activation layer\n",
    "        \n",
    "    def call(self, x):\n",
    "        # The input is passed into the two fully-connected layers, with a ReLU in between\n",
    "        x_fc1 = self.fully_connected1(x)\n",
    "        return self.fully_connected2(self.activation(x_fc1))"
   ],
   "metadata": {
    "collapsed": false,
    "ExecuteTime": {
     "end_time": "2025-01-05T17:46:48.299575Z",
     "start_time": "2025-01-05T17:46:48.292943Z"
    }
   },
   "id": "d656aceea94273d5"
  },
  {
   "cell_type": "markdown",
   "source": [
    "### A single decoder layer"
   ],
   "metadata": {
    "collapsed": false
   },
   "id": "359ea7129f25aaa3"
  },
  {
   "cell_type": "code",
   "execution_count": 16,
   "outputs": [],
   "source": [
    "class DecoderLayer(Layer):\n",
    "    def __init__(self, h, d_k, d_v, d_model, d_ff, rate, **kwargs):\n",
    "        super().__init__(**kwargs)\n",
    "        self.multihead_attention1 = MultiHeadAttention(h, d_k, d_v, d_model)\n",
    "        self.dropout1 = Dropout(rate)\n",
    "        self.add_norm1 = AddNormalization()\n",
    "        self.multihead_attention2 = MultiHeadAttention(h, d_k, d_v, d_model)\n",
    "        self.dropout2 = Dropout(rate)\n",
    "        self.add_norm2 = AddNormalization()\n",
    "        self.feed_forward = FeedForward(d_ff, d_model)\n",
    "        self.dropout3 = Dropout(rate)\n",
    "        self.add_norm3 = AddNormalization()\n",
    "    \n",
    "    \n",
    "    def call(self, x, encoder_output, lookahead_mask, padding_mask, training):\n",
    "        # Multi-head attention layer\n",
    "        multihead_output1 = self.multihead_attention1(x, x, x, lookahead_mask)\n",
    "         \n",
    "        # Expected output shape = (batch_size, sequence_length, d_model)\n",
    "        # Add in a dropout layer\n",
    "        multihead_output1 = self.dropout1(multihead_output1, training=training)\n",
    "        # Followed by an Add & Norm layer\n",
    "        addnorm_output1 = self.add_norm1(x, multihead_output1)\n",
    "        # Expected output shape = (batch_size, sequence_length, d_model)\n",
    "        # Followed by another multi-head attention layer\n",
    "        multihead_output2 = self.multihead_attention2(addnorm_output1, encoder_output,encoder_output, padding_mask)\n",
    "         \n",
    "        # Add in another dropout layer\n",
    "        multihead_output2 = self.dropout2(multihead_output2, training=training)\n",
    "        \n",
    "        # Followed by another Add & Norm layer\n",
    "        addnorm_output2 = self.add_norm1(addnorm_output1, multihead_output2)\n",
    "        \n",
    "        # Followed by a fully connected layer\n",
    "        feedforward_output = self.feed_forward(addnorm_output2)\n",
    "        # Expected output shape = (batch_size, sequence_length, d_model)\n",
    "        \n",
    "        # Add in another dropout layer\n",
    "        feedforward_output = self.dropout3(feedforward_output, training=training)\n",
    "        \n",
    "        # Followed by another Add & Norm layer\n",
    "        return self.add_norm3(addnorm_output2, feedforward_output)"
   ],
   "metadata": {
    "collapsed": false,
    "ExecuteTime": {
     "end_time": "2025-01-05T18:33:56.266857Z",
     "start_time": "2025-01-05T18:33:56.260220Z"
    }
   },
   "id": "1b155ac7fc3e94d5"
  },
  {
   "cell_type": "markdown",
   "source": [
    "### Decoder construct"
   ],
   "metadata": {
    "collapsed": false
   },
   "id": "d34dcaf58a81a352"
  },
  {
   "cell_type": "code",
   "execution_count": 17,
   "outputs": [],
   "source": [
    "class Decoder(Layer):\n",
    "    def __init__(self, vocab_size, sequence_length, h, d_k, d_v, d_model, d_ff, n, rate,**kwargs):\n",
    "        super().__init__(**kwargs)\n",
    "        self.pos_encoding = PositionEmbeddingFixedWeights(sequence_length, vocab_size,d_model)\n",
    "        self.dropout = Dropout(rate)\n",
    "        self.decoder_layer = [DecoderLayer(h, d_k, d_v, d_model, d_ff, rate) for _ in range(n)]\n",
    "        \n",
    "    \n",
    "    def call(self, output_target, encoder_output, lookahead_mask, padding_mask, training):\n",
    "        # Generate the positional encoding\n",
    "        pos_encoding_output = self.pos_encoding(output_target)\n",
    "        # Expected output shape = (number of sentences, sequence_length, d_model)\n",
    "        # Add in a dropout layer\n",
    "        x = self.dropout(pos_encoding_output, training=training)\n",
    "        # Pass on the positional encoded values to each encoder layer\n",
    "        for i, layer in enumerate(self.decoder_layer):\n",
    "            x = layer(x, encoder_output, lookahead_mask, padding_mask, training)\n",
    "        return x"
   ],
   "metadata": {
    "collapsed": false,
    "ExecuteTime": {
     "end_time": "2025-01-05T18:33:57.133357Z",
     "start_time": "2025-01-05T18:33:57.127709Z"
    }
   },
   "id": "1042d92555ff92ff"
  },
  {
   "cell_type": "code",
   "execution_count": 18,
   "outputs": [],
   "source": [
    "h = 8 # Number of self-attention heads\n",
    "d_k = 64 # Dimensionality of the linearly projected queries and keys\n",
    "d_v = 64 # Dimensionality of the linearly projected values\n",
    "d_ff = 2048 # Dimensionality of the inner fully connected layer\n",
    "d_model = 512 # Dimensionality of the model sub-layers' outputs\n",
    "n = 6 # Number of layers in the encoder stack\n",
    "batch_size = 64 # Batch size from the training process\n",
    "dropout_rate = 0.1 # Frequency of dropping the input units in the dropout layers"
   ],
   "metadata": {
    "collapsed": false,
    "ExecuteTime": {
     "end_time": "2025-01-05T18:33:57.432718Z",
     "start_time": "2025-01-05T18:33:57.427022Z"
    }
   },
   "id": "6aeed9fdb72b3bf8"
  },
  {
   "cell_type": "code",
   "execution_count": 19,
   "outputs": [],
   "source": [
    "dec_vocab_size = 20 # Vocabulary size for the decoder\n",
    "input_seq_length = 5 # Maximum length of the input sequence\n",
    "input_seq = np.random.rand(batch_size, input_seq_length)\n",
    "enc_output = np.random.rand(batch_size, input_seq_length, d_model)"
   ],
   "metadata": {
    "collapsed": false,
    "ExecuteTime": {
     "end_time": "2025-01-05T18:33:57.786816Z",
     "start_time": "2025-01-05T18:33:57.781426Z"
    }
   },
   "id": "bd7ade4077f7665b"
  },
  {
   "cell_type": "code",
   "execution_count": 20,
   "outputs": [
    {
     "data": {
      "text/plain": "array([[0.91073745, 0.67111546, 0.58936461, 0.72608761, 0.39320533],\n       [0.89735455, 0.17605489, 0.69683852, 0.20138697, 0.47344039],\n       [0.25183083, 0.11479888, 0.10295872, 0.28075574, 0.95345149],\n       [0.36104105, 0.0498078 , 0.21268719, 0.27326867, 0.15043624],\n       [0.67924256, 0.01617319, 0.98831763, 0.06635934, 0.94887614],\n       [0.04506002, 0.56825714, 0.37835049, 0.01954615, 0.68160375],\n       [0.74371816, 0.85904768, 0.30775821, 0.17975822, 0.42277759],\n       [0.98315865, 0.60948266, 0.78082781, 0.3305768 , 0.30510045],\n       [0.42300973, 0.13244917, 0.54450826, 0.84063661, 0.64668517],\n       [0.27416006, 0.00366503, 0.73310251, 0.84643737, 0.80601967],\n       [0.26927887, 0.68123962, 0.91981009, 0.46016737, 0.58625606],\n       [0.77212087, 0.60242848, 0.19930041, 0.83426423, 0.91769163],\n       [0.17256331, 0.32621551, 0.48774997, 0.90130934, 0.91970898],\n       [0.23966252, 0.44458096, 0.13328175, 0.46190854, 0.45062634],\n       [0.87137621, 0.9113126 , 0.95585988, 0.83382049, 0.14539275],\n       [0.85257351, 0.07049849, 0.05223123, 0.76742597, 0.86445176],\n       [0.65721965, 0.96264779, 0.66751475, 0.35718254, 0.55164075],\n       [0.01837822, 0.86592786, 0.09507699, 0.73823659, 0.97017159],\n       [0.2306952 , 0.13360316, 0.18062545, 0.11387978, 0.33110343],\n       [0.88689179, 0.63611458, 0.64029585, 0.47075589, 0.93849462],\n       [0.83025691, 0.26863235, 0.46069088, 0.65435465, 0.36128996],\n       [0.228462  , 0.91082404, 0.15161858, 0.78381451, 0.76643665],\n       [0.58798453, 0.77266587, 0.87622785, 0.47386607, 0.87552779],\n       [0.42250414, 0.6228006 , 0.51427253, 0.23548086, 0.58071254],\n       [0.1885124 , 0.1978365 , 0.49701834, 0.34696732, 0.72155476],\n       [0.11867111, 0.52891972, 0.43555757, 0.01384819, 0.77329165],\n       [0.34232766, 0.36961906, 0.87251723, 0.81453642, 0.26592295],\n       [0.35531332, 0.23705743, 0.31045636, 0.67275721, 0.96250028],\n       [0.23633077, 0.49656919, 0.44187044, 0.02214386, 0.75330631],\n       [0.89667313, 0.22775981, 0.28985874, 0.1654485 , 0.43659584],\n       [0.47805437, 0.70440835, 0.38132796, 0.76115968, 0.38327211],\n       [0.02720335, 0.98023773, 0.90681284, 0.6706542 , 0.082735  ],\n       [0.33057812, 0.7537767 , 0.34259218, 0.77149958, 0.05088115],\n       [0.70375405, 0.29461255, 0.00306592, 0.83107391, 0.81426499],\n       [0.48927508, 0.46650385, 0.92381975, 0.13971101, 0.97209897],\n       [0.76460802, 0.82097412, 0.54738329, 0.50693319, 0.00958413],\n       [0.52082021, 0.49177249, 0.0850513 , 0.216327  , 0.10266942],\n       [0.94232831, 0.91969948, 0.47975624, 0.02633283, 0.84377675],\n       [0.59071945, 0.08818641, 0.97423221, 0.22990965, 0.93170357],\n       [0.16246378, 0.27465416, 0.57362214, 0.60713906, 0.41467787],\n       [0.47327179, 0.78224009, 0.21941852, 0.00454663, 0.75621629],\n       [0.26749718, 0.44442359, 0.33243992, 0.12703155, 0.71639266],\n       [0.04138494, 0.88053072, 0.27832409, 0.62756109, 0.10165901],\n       [0.74176312, 0.81796601, 0.91748793, 0.96287064, 0.44612729],\n       [0.59986599, 0.77614476, 0.02667872, 0.2343186 , 0.99115941],\n       [0.29730137, 0.47498129, 0.71819744, 0.76976725, 0.49722558],\n       [0.32004557, 0.68741073, 0.19740784, 0.63191961, 0.57578527],\n       [0.33906773, 0.1709602 , 0.01028029, 0.66327309, 0.26029033],\n       [0.48769943, 0.69185668, 0.454562  , 0.79527903, 0.25365225],\n       [0.72830048, 0.03362663, 0.0248067 , 0.95642274, 0.09265965],\n       [0.50711008, 0.6131887 , 0.33760309, 0.56465998, 0.27925788],\n       [0.49350368, 0.73081713, 0.57276334, 0.51113952, 0.36618806],\n       [0.03794597, 0.26559827, 0.8645278 , 0.38482019, 0.50661841],\n       [0.29798145, 0.88369848, 0.34483243, 0.82617079, 0.3280635 ],\n       [0.27773144, 0.5164585 , 0.34102989, 0.09943978, 0.10812406],\n       [0.10803526, 0.67298232, 0.63376923, 0.86083455, 0.57047852],\n       [0.92473082, 0.11080199, 0.41983144, 0.76768335, 0.27502659],\n       [0.41461818, 0.92691391, 0.93026396, 0.81612839, 0.05165212],\n       [0.24083331, 0.68159443, 0.48181007, 0.26825378, 0.94765806],\n       [0.59108294, 0.94309501, 0.96645338, 0.84694299, 0.13831166],\n       [0.43530713, 0.22264958, 0.56206756, 0.32417728, 0.66741739],\n       [0.93771284, 0.84507247, 0.57590534, 0.95185169, 0.46101016],\n       [0.13728303, 0.37492119, 0.68336146, 0.56254361, 0.13618856],\n       [0.28228395, 0.04711665, 0.23038691, 0.17625868, 0.44603102]])"
     },
     "execution_count": 20,
     "metadata": {},
     "output_type": "execute_result"
    }
   ],
   "source": [
    "input_seq"
   ],
   "metadata": {
    "collapsed": false,
    "ExecuteTime": {
     "end_time": "2025-01-05T18:33:58.321462Z",
     "start_time": "2025-01-05T18:33:58.313685Z"
    }
   },
   "id": "7475e17b5afc0035"
  },
  {
   "cell_type": "code",
   "execution_count": 26,
   "outputs": [
    {
     "data": {
      "text/plain": "(64, 5, 512)"
     },
     "execution_count": 26,
     "metadata": {},
     "output_type": "execute_result"
    }
   ],
   "source": [
    "enc_output.shape"
   ],
   "metadata": {
    "collapsed": false,
    "ExecuteTime": {
     "end_time": "2025-01-05T18:39:42.293278Z",
     "start_time": "2025-01-05T18:39:42.286474Z"
    }
   },
   "id": "1cb5486f2d723270"
  },
  {
   "cell_type": "code",
   "execution_count": 22,
   "outputs": [],
   "source": [
    "decoder = Decoder(dec_vocab_size, input_seq_length, h, d_k, d_v, d_model, d_ff, n, dropout_rate)\n",
    "res = decoder(input_seq, enc_output, None, True)"
   ],
   "metadata": {
    "collapsed": false,
    "ExecuteTime": {
     "end_time": "2025-01-05T18:34:58.424264Z",
     "start_time": "2025-01-05T18:34:57.905539Z"
    }
   },
   "id": "7eb2ce593ae43fb8"
  },
  {
   "cell_type": "code",
   "execution_count": 23,
   "outputs": [
    {
     "data": {
      "text/plain": "TensorShape([64, 5, 512])"
     },
     "execution_count": 23,
     "metadata": {},
     "output_type": "execute_result"
    }
   ],
   "source": [
    "res.shape"
   ],
   "metadata": {
    "collapsed": false,
    "ExecuteTime": {
     "end_time": "2025-01-05T18:35:04.886034Z",
     "start_time": "2025-01-05T18:35:04.859308Z"
    }
   },
   "id": "3c0786747a8cdf51"
  },
  {
   "cell_type": "code",
   "execution_count": 24,
   "outputs": [
    {
     "data": {
      "text/plain": "<tf.Tensor: shape=(64, 5, 512), dtype=float32, numpy=\narray([[[-1.0012507 , -0.02040063,  0.00654149, ...,  0.00182297,\n         -0.42907837, -0.6750074 ],\n        [-0.9141136 , -0.07876357,  0.03269473, ...,  0.02028901,\n         -0.41397125, -0.6715221 ],\n        [-0.8649395 , -0.19943327,  0.00265713, ...,  0.04040005,\n         -0.37729064, -0.67488515],\n        [-0.9230531 , -0.2717329 , -0.06383975, ...,  0.04616989,\n         -0.34594226, -0.6787786 ],\n        [-1.0300083 , -0.24937628, -0.1109768 , ...,  0.03863088,\n         -0.34787044, -0.66987866]],\n\n       [[-1.134145  , -0.16023272, -0.10939384, ...,  0.03158534,\n         -0.41963074, -0.65775114],\n        [-1.0422376 , -0.21190177, -0.07916868, ...,  0.04733095,\n         -0.41154853, -0.655486  ],\n        [-1.0103201 , -0.32608616, -0.1004246 , ...,  0.04688325,\n         -0.3615602 , -0.65161943],\n        [-1.0573205 , -0.38737077, -0.1575223 , ...,  0.03170759,\n         -0.31814742, -0.65505326],\n        [-1.1520594 , -0.34790927, -0.18702297, ...,  0.03047681,\n         -0.3235996 , -0.65976095]],\n\n       [[-0.6734646 , -0.14057362, -0.0423853 , ...,  0.21616137,\n         -0.5318386 , -0.937553  ],\n        [-0.59559214, -0.19526497, -0.00151302, ...,  0.22385319,\n         -0.5160938 , -0.9401504 ],\n        [-0.5666309 , -0.3097906 , -0.01718177, ...,  0.2314818 ,\n         -0.47569776, -0.9396242 ],\n        [-0.6188326 , -0.37868732, -0.0776031 , ...,  0.23309459,\n         -0.42352363, -0.9451476 ],\n        [-0.703842  , -0.33201718, -0.10975006, ...,  0.22397089,\n         -0.4288697 , -0.9407465 ]],\n\n       ...,\n\n       [[-0.8211654 , -0.05113678, -0.26725218, ...,  0.04656707,\n         -0.4503048 , -0.9376925 ],\n        [-0.7317867 , -0.11553456, -0.23223436, ...,  0.0532905 ,\n         -0.41821334, -0.933482  ],\n        [-0.6828832 , -0.2358656 , -0.24893692, ...,  0.05457299,\n         -0.35571402, -0.9246599 ],\n        [-0.7348195 , -0.30671126, -0.31394383, ...,  0.06690654,\n         -0.30722928, -0.92912275],\n        [-0.8381103 , -0.2899763 , -0.3647644 , ...,  0.05792283,\n         -0.30422267, -0.94235945]],\n\n       [[-1.0343877 ,  0.03896032, -0.22665223, ..., -0.01582331,\n         -0.53316545, -0.66323805],\n        [-0.95466304, -0.02256884, -0.18402317, ..., -0.0037193 ,\n         -0.50158745, -0.6671755 ],\n        [-0.9177791 , -0.13686404, -0.198793  , ..., -0.00505069,\n         -0.4453437 , -0.66205895],\n        [-0.9545235 , -0.20158617, -0.25848526, ..., -0.0194883 ,\n         -0.40419042, -0.6586941 ],\n        [-1.0396827 , -0.17862612, -0.28884673, ..., -0.02621641,\n         -0.42142886, -0.66045713]],\n\n       [[-0.7672183 , -0.0120923 , -0.3131236 , ..., -0.29756242,\n         -0.38502547, -0.6271683 ],\n        [-0.67012775, -0.0831218 , -0.2746861 , ..., -0.28572404,\n         -0.37515998, -0.6265607 ],\n        [-0.6323371 , -0.21177515, -0.29679585, ..., -0.2792723 ,\n         -0.32841775, -0.6250044 ],\n        [-0.6832223 , -0.28658298, -0.35914865, ..., -0.27369967,\n         -0.28226262, -0.6386333 ],\n        [-0.785123  , -0.2561357 , -0.38707802, ..., -0.28426933,\n         -0.28726724, -0.6563299 ]]], dtype=float32)>"
     },
     "execution_count": 24,
     "metadata": {},
     "output_type": "execute_result"
    }
   ],
   "source": [
    "res"
   ],
   "metadata": {
    "collapsed": false,
    "ExecuteTime": {
     "end_time": "2025-01-05T18:35:07.316348Z",
     "start_time": "2025-01-05T18:35:07.290869Z"
    }
   },
   "id": "b0ed8d4a6bd11171"
  },
  {
   "cell_type": "code",
   "execution_count": null,
   "outputs": [],
   "source": [],
   "metadata": {
    "collapsed": false
   },
   "id": "4ede4c1e90269b36"
  }
 ],
 "metadata": {
  "kernelspec": {
   "display_name": "Python 3",
   "language": "python",
   "name": "python3"
  },
  "language_info": {
   "codemirror_mode": {
    "name": "ipython",
    "version": 2
   },
   "file_extension": ".py",
   "mimetype": "text/x-python",
   "name": "python",
   "nbconvert_exporter": "python",
   "pygments_lexer": "ipython2",
   "version": "2.7.6"
  }
 },
 "nbformat": 4,
 "nbformat_minor": 5
}
