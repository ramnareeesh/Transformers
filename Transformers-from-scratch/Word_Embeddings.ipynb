{
 "cells": [
  {
   "cell_type": "code",
   "execution_count": 1,
   "outputs": [],
   "source": [
    "import torch\n",
    "import torch.nn as nn\n",
    "import math\n",
    "import nltk\n",
    "from nltk.corpus import gutenberg"
   ],
   "metadata": {
    "collapsed": false,
    "ExecuteTime": {
     "end_time": "2025-01-07T08:14:16.987141Z",
     "start_time": "2025-01-07T08:14:08.805365Z"
    }
   },
   "id": "d02d2b5d193b232a"
  },
  {
   "cell_type": "code",
   "execution_count": 2,
   "outputs": [
    {
     "name": "stderr",
     "output_type": "stream",
     "text": [
      "[nltk_data] Downloading package gutenberg to /Users/surya/nltk_data...\n",
      "[nltk_data]   Unzipping corpora/gutenberg.zip.\n"
     ]
    }
   ],
   "source": [
    "# Download the Gutenberg corpus if not already downloaded\n",
    "try:\n",
    "    gutenberg.fileids()\n",
    "except LookupError:\n",
    "    nltk.download('gutenberg')"
   ],
   "metadata": {
    "collapsed": false,
    "ExecuteTime": {
     "end_time": "2025-01-07T08:14:22.147951Z",
     "start_time": "2025-01-07T08:14:18.363628Z"
    }
   },
   "id": "f44da659aa064395"
  },
  {
   "cell_type": "code",
   "execution_count": 3,
   "outputs": [],
   "source": [
    "# Load the complete works of Shakespeare and preprocess\n",
    "def create_shakespeare_dataset():\n",
    "    all_words = []\n",
    "    for fileid in gutenberg.fileids():\n",
    "        if fileid.startswith(\"shakespeare-\"): #Correct way to load Shakespeare texts\n",
    "            words = [word.lower() for word in nltk.word_tokenize(gutenberg.raw(fileid)) if word.isalnum()]\n",
    "            all_words.extend(words)\n",
    "    return all_words"
   ],
   "metadata": {
    "collapsed": false,
    "ExecuteTime": {
     "end_time": "2025-01-07T08:14:38.553247Z",
     "start_time": "2025-01-07T08:14:38.550079Z"
    }
   },
   "id": "58fc6c91cbeb176a"
  },
  {
   "cell_type": "code",
   "execution_count": 4,
   "outputs": [],
   "source": [
    "# Create the dataset\n",
    "dataset = create_shakespeare_dataset()"
   ],
   "metadata": {
    "collapsed": false,
    "ExecuteTime": {
     "end_time": "2025-01-07T08:14:46.776888Z",
     "start_time": "2025-01-07T08:14:46.517340Z"
    }
   },
   "id": "713e83f6e1dd015c"
  },
  {
   "cell_type": "code",
   "execution_count": 5,
   "outputs": [
    {
     "data": {
      "text/plain": "['the',\n 'tragedie',\n 'of',\n 'julius',\n 'caesar',\n 'by',\n 'william',\n 'shakespeare',\n '1599',\n 'actus',\n 'primus',\n 'scoena',\n 'prima',\n 'enter',\n 'flauius',\n 'murellus',\n 'and',\n 'certaine',\n 'commoners',\n 'ouer',\n 'the',\n 'stage',\n 'flauius',\n 'hence',\n 'home',\n 'you',\n 'idle',\n 'creatures',\n 'get',\n 'you',\n 'home',\n 'is',\n 'this',\n 'a',\n 'holiday',\n 'what',\n 'know',\n 'you',\n 'not',\n 'being',\n 'mechanicall',\n 'you',\n 'ought',\n 'not',\n 'walke',\n 'vpon',\n 'a',\n 'labouring',\n 'day',\n 'without',\n 'the',\n 'signe',\n 'of',\n 'your',\n 'profession',\n 'speake',\n 'what',\n 'trade',\n 'art',\n 'thou',\n 'car',\n 'why',\n 'sir',\n 'a',\n 'carpenter',\n 'mur',\n 'where',\n 'is',\n 'thy',\n 'leather',\n 'apron',\n 'and',\n 'thy',\n 'rule',\n 'what',\n 'dost',\n 'thou',\n 'with',\n 'thy',\n 'best',\n 'apparrell',\n 'on',\n 'you',\n 'sir',\n 'what',\n 'trade',\n 'are',\n 'you',\n 'cobl',\n 'truely',\n 'sir',\n 'in',\n 'respect',\n 'of',\n 'a',\n 'fine',\n 'workman',\n 'i',\n 'am',\n 'but',\n 'as',\n 'you',\n 'would',\n 'say',\n 'a',\n 'cobler',\n 'mur',\n 'but',\n 'what',\n 'trade',\n 'art',\n 'thou',\n 'answer',\n 'me',\n 'directly',\n 'cob',\n 'a',\n 'trade',\n 'sir',\n 'that',\n 'i',\n 'hope',\n 'i',\n 'may',\n 'vse',\n 'with',\n 'a',\n 'safe',\n 'conscience',\n 'which',\n 'is',\n 'indeed',\n 'sir',\n 'a',\n 'mender',\n 'of',\n 'bad',\n 'soules',\n 'what',\n 'trade',\n 'thou',\n 'knaue',\n 'thou',\n 'naughty',\n 'knaue',\n 'what',\n 'trade',\n 'cobl',\n 'nay',\n 'i',\n 'beseech',\n 'you',\n 'sir',\n 'be',\n 'not',\n 'out',\n 'with',\n 'me',\n 'yet',\n 'if',\n 'you',\n 'be',\n 'out',\n 'sir',\n 'i',\n 'can',\n 'mend',\n 'you',\n 'mur',\n 'what',\n 'thou',\n 'by',\n 'that',\n 'mend',\n 'mee',\n 'thou',\n 'sawcy',\n 'fellow',\n 'cob',\n 'why',\n 'sir',\n 'cobble',\n 'you',\n 'thou',\n 'art',\n 'a',\n 'cobler',\n 'art',\n 'thou',\n 'cob',\n 'truly',\n 'sir',\n 'all',\n 'that',\n 'i',\n 'liue',\n 'by',\n 'is',\n 'with',\n 'the',\n 'aule',\n 'i',\n 'meddle',\n 'with',\n 'no',\n 'tradesmans',\n 'matters',\n 'nor',\n 'womens',\n 'matters',\n 'but',\n 'withal',\n 'i',\n 'am',\n 'indeed',\n 'sir',\n 'a',\n 'surgeon',\n 'to',\n 'old',\n 'shooes',\n 'when',\n 'they',\n 'are',\n 'in',\n 'great',\n 'danger',\n 'i',\n 'recouer',\n 'them',\n 'as',\n 'proper',\n 'men',\n 'as',\n 'euer',\n 'trod',\n 'vpon',\n 'neats',\n 'leather',\n 'haue',\n 'gone',\n 'vpon',\n 'my',\n 'fla',\n 'but',\n 'wherefore',\n 'art',\n 'not',\n 'in',\n 'thy',\n 'shop',\n 'to',\n 'day',\n 'why',\n 'thou',\n 'leade',\n 'these',\n 'men',\n 'about',\n 'the',\n 'streets',\n 'cob',\n 'truly',\n 'sir',\n 'to',\n 'weare',\n 'out',\n 'their',\n 'shooes',\n 'to',\n 'get',\n 'my',\n 'selfe',\n 'into',\n 'more',\n 'worke',\n 'but',\n 'indeede',\n 'sir',\n 'we',\n 'make',\n 'holyday',\n 'to',\n 'see',\n 'caesar',\n 'and',\n 'to',\n 'reioyce',\n 'in',\n 'his',\n 'triumph',\n 'mur',\n 'wherefore',\n 'reioyce',\n 'what',\n 'conquest',\n 'brings',\n 'he',\n 'home',\n 'what',\n 'tributaries',\n 'follow',\n 'him',\n 'to',\n 'rome',\n 'to',\n 'grace',\n 'in',\n 'captiue',\n 'bonds',\n 'his',\n 'chariot',\n 'wheeles',\n 'you',\n 'blockes',\n 'you',\n 'stones',\n 'you',\n 'worse',\n 'then',\n 'senslesse',\n 'things',\n 'o',\n 'you',\n 'hard',\n 'hearts',\n 'you',\n 'cruell',\n 'men',\n 'of',\n 'rome',\n 'knew',\n 'you',\n 'not',\n 'pompey',\n 'many',\n 'a',\n 'time',\n 'and',\n 'oft',\n 'haue',\n 'you',\n 'climb',\n 'vp',\n 'to',\n 'walles',\n 'and',\n 'battlements',\n 'to',\n 'towres',\n 'and',\n 'windowes',\n 'yea',\n 'to',\n 'chimney',\n 'tops',\n 'your',\n 'infants',\n 'in',\n 'your',\n 'armes',\n 'and',\n 'there',\n 'haue',\n 'sate',\n 'the',\n 'day',\n 'with',\n 'patient',\n 'expectation',\n 'to',\n 'see',\n 'great',\n 'pompey',\n 'passe',\n 'the',\n 'streets',\n 'of',\n 'rome',\n 'and',\n 'when',\n 'you',\n 'saw',\n 'his',\n 'chariot',\n 'but',\n 'appeare',\n 'haue',\n 'you',\n 'not',\n 'made',\n 'an',\n 'vniuersall',\n 'shout',\n 'that',\n 'tyber',\n 'trembled',\n 'vnderneath',\n 'her',\n 'bankes',\n 'to',\n 'heare',\n 'the',\n 'replication',\n 'of',\n 'your',\n 'sounds',\n 'made',\n 'in',\n 'her',\n 'concaue',\n 'shores',\n 'and',\n 'do',\n 'you',\n 'now',\n 'put',\n 'on',\n 'your',\n 'best',\n 'attyre',\n 'and',\n 'do',\n 'you',\n 'now',\n 'cull',\n 'out',\n 'a',\n 'holyday',\n 'and',\n 'do',\n 'you',\n 'now',\n 'strew',\n 'flowers',\n 'in',\n 'his',\n 'way',\n 'that',\n 'comes',\n 'in',\n 'triumph',\n 'ouer',\n 'pompeyes',\n 'blood',\n 'be',\n 'gone',\n 'runne',\n 'to',\n 'your',\n 'houses',\n 'fall',\n 'vpon',\n 'your',\n 'knees',\n 'pray',\n 'to',\n 'the',\n 'gods',\n 'to',\n 'intermit',\n 'the',\n 'plague',\n 'that',\n 'needs',\n 'must',\n 'light',\n 'on',\n 'this',\n 'ingratitude',\n 'go',\n 'go',\n 'good',\n 'countrymen',\n 'and',\n 'for',\n 'this',\n 'fault',\n 'assemble',\n 'all',\n 'the',\n 'poore',\n 'men',\n 'of',\n 'your',\n 'sort',\n 'draw',\n 'them',\n 'to',\n 'tyber',\n 'bankes',\n 'and',\n 'weepe',\n 'your',\n 'teares',\n 'into',\n 'the',\n 'channell',\n 'till',\n 'the',\n 'lowest',\n 'streame',\n 'do',\n 'kisse',\n 'the',\n 'most',\n 'exalted',\n 'shores',\n 'of',\n 'all',\n 'exeunt',\n 'all',\n 'the',\n 'commoners',\n 'see',\n 'where',\n 'their',\n 'basest',\n 'mettle',\n 'be',\n 'not',\n 'mou',\n 'they',\n 'vanish',\n 'in',\n 'their',\n 'guiltinesse',\n 'go',\n 'you',\n 'downe',\n 'that',\n 'way',\n 'towards',\n 'the',\n 'capitoll',\n 'this',\n 'way',\n 'will',\n 'i',\n 'disrobe',\n 'the',\n 'images',\n 'if',\n 'you',\n 'do',\n 'finde',\n 'them',\n 'deckt',\n 'with',\n 'ceremonies',\n 'mur',\n 'may',\n 'we',\n 'do',\n 'so',\n 'you',\n 'know',\n 'it',\n 'is',\n 'the',\n 'feast',\n 'of',\n 'lupercall',\n 'fla',\n 'it',\n 'is',\n 'no',\n 'matter',\n 'let',\n 'no',\n 'images',\n 'be',\n 'hung',\n 'with',\n 'caesars',\n 'trophees',\n 'ile',\n 'about',\n 'and',\n 'driue',\n 'away',\n 'the',\n 'vulgar',\n 'from',\n 'the',\n 'streets',\n 'so',\n 'do',\n 'you',\n 'too',\n 'where',\n 'you',\n 'perceiue',\n 'them',\n 'thicke',\n 'these',\n 'growing',\n 'feathers',\n 'pluckt',\n 'from',\n 'caesars',\n 'wing',\n 'will',\n 'make',\n 'him',\n 'flye',\n 'an',\n 'ordinary',\n 'pitch',\n 'who',\n 'else',\n 'would',\n 'soare',\n 'aboue',\n 'the',\n 'view',\n 'of',\n 'men',\n 'and',\n 'keepe',\n 'vs',\n 'all',\n 'in',\n 'seruile',\n 'fearefulnesse',\n 'exeunt',\n 'enter',\n 'caesar',\n 'antony',\n 'for',\n 'the',\n 'course',\n 'calphurnia',\n 'portia',\n 'decius',\n 'cicero',\n 'brutus',\n 'cassius',\n 'caska',\n 'a',\n 'soothsayer',\n 'after',\n 'them',\n 'murellus',\n 'and',\n 'flauius',\n 'caes',\n 'calphurnia',\n 'cask',\n 'peace',\n 'ho',\n 'caesar',\n 'speakes',\n 'caes',\n 'calphurnia',\n 'calp',\n 'heere',\n 'my',\n 'lord',\n 'caes',\n 'stand',\n 'you',\n 'directly',\n 'in',\n 'antonio',\n 'way',\n 'when',\n 'he',\n 'doth',\n 'run',\n 'his',\n 'course',\n 'antonio',\n 'ant',\n 'cæsar',\n 'my',\n 'lord',\n 'caes',\n 'forget',\n 'not',\n 'in',\n 'your',\n 'speed',\n 'antonio',\n 'to',\n 'touch',\n 'calphurnia',\n 'for',\n 'our',\n 'elders',\n 'say',\n 'the',\n 'barren',\n 'touched',\n 'in',\n 'this',\n 'holy',\n 'chace',\n 'shake',\n 'off',\n 'their',\n 'sterrile',\n 'curse',\n 'ant',\n 'i',\n 'shall',\n 'remember',\n 'when',\n 'caesar',\n 'sayes',\n 'do',\n 'this',\n 'it',\n 'is',\n 'caes',\n 'set',\n 'on',\n 'and',\n 'leaue',\n 'no',\n 'ceremony',\n 'out',\n 'sooth',\n 'caesar',\n 'caes',\n 'ha',\n 'who',\n 'calles',\n 'cask',\n 'bid',\n 'euery',\n 'noyse',\n 'be',\n 'still',\n 'peace',\n 'yet',\n 'againe',\n 'caes',\n 'who',\n 'is',\n 'it',\n 'in',\n 'the',\n 'presse',\n 'that',\n 'calles',\n 'on',\n 'me',\n 'i',\n 'heare',\n 'a',\n 'tongue',\n 'shriller',\n 'then',\n 'all',\n 'the',\n 'musicke',\n 'cry',\n 'caesar',\n 'speake',\n 'caesar',\n 'is',\n 'turn',\n 'to',\n 'heare',\n 'sooth',\n 'beware',\n 'the',\n 'ides',\n 'of',\n 'march',\n 'caes',\n 'what',\n 'man',\n 'is',\n 'that',\n 'br',\n 'a',\n 'bids',\n 'you',\n 'beware',\n 'the',\n 'ides',\n 'of',\n 'march',\n 'caes',\n 'set',\n 'him',\n 'before',\n 'me',\n 'let',\n 'me',\n 'see',\n 'his',\n 'face',\n 'cassi',\n 'fellow',\n 'come',\n 'from',\n 'the',\n 'throng',\n 'look',\n 'vpon',\n 'caesar',\n 'caes',\n 'what',\n 'sayst',\n 'thou',\n 'to',\n 'me',\n 'now',\n 'speak',\n 'once',\n 'againe',\n 'sooth',\n 'beware',\n 'the',\n 'ides',\n 'of',\n 'march',\n 'caes',\n 'he',\n 'is',\n 'a',\n 'dreamer',\n 'let',\n 'vs',\n 'leaue',\n 'him',\n 'passe',\n 'sennet',\n 'exeunt',\n 'manet',\n 'brut',\n 'cass',\n 'cassi',\n 'will',\n 'you',\n 'go',\n 'see',\n 'the',\n 'order',\n 'of',\n 'the',\n 'course',\n 'brut',\n 'not',\n 'i',\n 'cassi',\n 'i',\n 'pray',\n 'you',\n 'do',\n 'brut',\n 'i',\n 'am',\n 'not',\n 'gamesom',\n 'i',\n 'do',\n 'lacke',\n 'some',\n 'part',\n 'of',\n 'that',\n 'quicke',\n 'spirit',\n 'that',\n 'is',\n 'in',\n 'antony',\n 'let',\n 'me',\n 'not',\n 'hinder',\n 'cassius',\n 'your',\n 'desires',\n 'ile',\n 'leaue',\n 'you',\n 'cassi',\n 'brutus',\n 'i',\n 'do',\n 'obserue',\n 'you',\n 'now',\n 'of',\n 'late',\n 'i',\n 'haue',\n 'not',\n 'from',\n 'your',\n 'eyes',\n 'that',\n 'gentlenesse',\n 'and',\n 'shew',\n 'of',\n 'loue',\n 'as',\n 'i',\n 'was',\n 'wont',\n 'to',\n 'haue',\n 'you',\n 'beare',\n 'too',\n 'stubborne',\n 'and',\n 'too',\n 'strange',\n 'a',\n 'hand',\n 'ouer',\n 'your',\n 'friend',\n 'that',\n 'loues',\n 'you',\n 'bru',\n 'cassius',\n 'be',\n 'not',\n 'deceiu',\n 'if',\n 'i',\n 'haue',\n 'veyl',\n 'my',\n 'looke',\n 'i',\n 'turne',\n 'the',\n 'trouble',\n 'of',\n 'my',\n 'countenance',\n 'meerely',\n 'vpon',\n 'my',\n 'selfe',\n 'vexed',\n 'i',\n 'am',\n 'of',\n 'late',\n 'with',\n 'passions',\n 'of',\n 'some',\n 'difference',\n 'conceptions',\n 'onely',\n 'proper',\n 'to',\n 'my',\n 'selfe',\n 'which',\n 'giue',\n 'some',\n 'soyle',\n 'perhaps',\n 'to',\n 'my',\n 'behauiours',\n 'but',\n 'let',\n 'not',\n 'therefore',\n 'my',\n 'good',\n 'friends',\n 'be',\n 'among',\n 'which',\n 'number',\n 'cassius',\n 'be',\n 'you',\n 'one',\n 'nor',\n 'construe',\n 'any',\n 'further',\n 'my',\n 'neglect',\n 'then',\n 'that',\n 'poore',\n 'brutus',\n 'with',\n 'himselfe',\n 'at',\n 'warre',\n 'forgets',\n 'the',\n ...]"
     },
     "execution_count": 5,
     "metadata": {},
     "output_type": "execute_result"
    }
   ],
   "source": [
    "dataset"
   ],
   "metadata": {
    "collapsed": false,
    "ExecuteTime": {
     "end_time": "2025-01-07T08:14:49.034330Z",
     "start_time": "2025-01-07T08:14:49.025802Z"
    }
   },
   "id": "68aa1ce6a991bff4"
  },
  {
   "cell_type": "code",
   "execution_count": 6,
   "outputs": [
    {
     "data": {
      "text/plain": "67042"
     },
     "execution_count": 6,
     "metadata": {},
     "output_type": "execute_result"
    }
   ],
   "source": [
    "len(dataset)"
   ],
   "metadata": {
    "collapsed": false,
    "ExecuteTime": {
     "end_time": "2025-01-07T08:14:56.518513Z",
     "start_time": "2025-01-07T08:14:56.516166Z"
    }
   },
   "id": "884a86a80ee7b100"
  },
  {
   "cell_type": "code",
   "execution_count": 7,
   "outputs": [],
   "source": [
    "# Create a vocabulary and word-to-index mapping\n",
    "vocab = sorted(list(set(dataset)))\n",
    "word_to_index = {word: i for i, word in enumerate(vocab)}\n",
    "index_to_word = {i: word for word, i in word_to_index.items()}\n",
    "vocab_size = len(vocab)"
   ],
   "metadata": {
    "collapsed": false,
    "ExecuteTime": {
     "end_time": "2025-01-07T08:15:08.033337Z",
     "start_time": "2025-01-07T08:15:08.032565Z"
    }
   },
   "id": "47fa92a0ccbba2a3"
  },
  {
   "cell_type": "code",
   "execution_count": 8,
   "outputs": [
    {
     "data": {
      "text/plain": "['1',\n '1599',\n '1603',\n '2',\n '3',\n '4',\n 'a',\n 'abhominably',\n 'abhorred',\n 'abide',\n 'abilitie',\n 'abiure',\n 'abler',\n 'aboord',\n 'aboue',\n 'abound',\n 'about',\n 'abridgements',\n 'abroad',\n 'absence',\n 'absent',\n 'absolute',\n 'abstinence',\n 'abstracts',\n 'absurd',\n 'abus',\n 'abuse',\n 'abuses',\n 'accent',\n 'accents',\n 'accepts',\n 'accesse',\n 'accident',\n 'accidentall',\n 'accompany',\n 'accompt',\n 'accord',\n 'according',\n 'account',\n 'accounted',\n 'accoutred',\n 'accursed',\n 'accurst',\n 'accuse',\n 'accust',\n 'accustom',\n 'acheron',\n 'acquaint',\n 'acquainted',\n 'acquire',\n 'acquittance',\n 'acrosse',\n 'act',\n 'acte',\n 'acted',\n 'acting',\n 'action',\n 'actions',\n 'actiuely',\n 'actor',\n 'actors',\n 'acts',\n 'actuall',\n 'actus',\n 'adaies',\n 'adam',\n 'adams',\n 'addage',\n 'adde',\n 'added',\n 'adder',\n 'adders',\n 'addicted',\n 'addition',\n 'addresse',\n 'addrest',\n 'adhere',\n 'adheres',\n 'adieu',\n 'adiew',\n 'adioyn',\n 'admir',\n 'admirable',\n 'admiration',\n 'admit',\n 'admittance',\n 'adoption',\n 'adores',\n 'aduanc',\n 'aduance',\n 'aduancement',\n 'aduantage',\n 'adue',\n 'aduenturous',\n 'aduice',\n 'aduise',\n 'adulterate',\n 'aeneas',\n 'afarre',\n 'afear',\n 'afeard',\n 'affabilitie',\n 'affaire',\n 'affaires',\n 'affayre',\n 'affayres',\n 'affear',\n 'affectation',\n 'affection',\n 'affections',\n 'afflict',\n 'affliction',\n 'affraid',\n 'affraide',\n 'affrighted',\n 'affront',\n 'afraid',\n 'after',\n 'afternoone',\n 'afterwards',\n 'againe',\n 'against',\n 'age',\n 'agen',\n 'agent',\n 'agents',\n 'ages',\n 'agitation',\n 'ago',\n 'agree',\n 'agreeing',\n 'ague',\n 'ah',\n 'aid',\n 'aint',\n 'ake',\n 'akers',\n 'al',\n 'alack',\n 'alacke',\n 'alarme',\n 'alarum',\n 'alarums',\n 'alas',\n 'alasse',\n 'alchymie',\n 'aleppo',\n 'alexander',\n 'alijs',\n 'alike',\n 'aliue',\n 'all',\n 'allegeance',\n 'alliance',\n 'allies',\n 'allow',\n 'allowance',\n 'allowed',\n 'almost',\n 'alone',\n 'along',\n 'aloofe',\n 'alowd',\n 'alreadie',\n 'already',\n 'also',\n 'alter',\n 'altitude',\n 'altogether',\n 'alwayes',\n 'am',\n 'amaz',\n 'amaze',\n 'amazedly',\n 'amazement',\n 'amb',\n 'ambass',\n 'ambassador',\n 'ambassadors',\n 'ambassadours',\n 'amber',\n 'ambiguous',\n 'ambition',\n 'ambitions',\n 'ambitious',\n 'amble',\n 'amen',\n 'amend',\n 'amends',\n 'amis',\n 'amisse',\n 'amities',\n 'among',\n 'an',\n 'ancestor',\n 'ancestors',\n 'anchyses',\n 'ancient',\n 'anckle',\n 'and',\n 'ang',\n 'angel',\n 'angell',\n 'angels',\n 'anger',\n 'angerly',\n 'angle',\n 'angry',\n 'angus',\n 'animals',\n 'annexment',\n 'annoint',\n 'annoy',\n 'annoyance',\n 'annoying',\n 'annuall',\n 'anon',\n 'another',\n 'anothers',\n 'anoynted',\n 'answer',\n 'answere',\n 'answered',\n 'answerest',\n 'answering',\n 'answers',\n 'ant',\n 'anthonies',\n 'anticipation',\n 'anticke',\n 'antidote',\n 'antike',\n 'antique',\n 'antiquity',\n 'antonies',\n 'antonio',\n 'antony',\n 'any',\n 'apace',\n 'apale',\n 'apart',\n 'ape',\n 'apes',\n 'appall',\n 'appalls',\n 'appar',\n 'apparant',\n 'apparation',\n 'apparell',\n 'apparition',\n 'apparrell',\n 'appear',\n 'appeare',\n 'appeares',\n 'appearing',\n 'appease',\n 'appertaine',\n 'appetite',\n 'applaud',\n 'applauses',\n 'appliance',\n 'apply',\n 'appoint',\n 'appointment',\n 'apprehension',\n 'apprehensiue',\n 'approach',\n 'approaches',\n 'approch',\n 'approches',\n 'approue',\n 'appurtenance',\n 'apron',\n 'apt',\n 'arabia',\n 'arbitrate',\n 'arbors',\n 'ardure',\n 'are',\n 'argall',\n 'argues',\n 'arguing',\n 'argument',\n 'aright',\n 'arises',\n 'arm',\n 'arme',\n 'armed',\n 'armes',\n 'armie',\n 'armies',\n 'arming',\n 'armor',\n 'armour',\n 'armours',\n 'army',\n 'arose',\n 'aroynt',\n 'arraigne',\n 'arrant',\n 'arras',\n 'arrest',\n 'arrests',\n 'arriu',\n 'arriue',\n 'arriued',\n 'arrow',\n 'arrowes',\n 'art',\n 'artemidorus',\n 'article',\n 'articles',\n 'artificiall',\n 'artimedorus',\n 'artire',\n 'artlesse',\n 'arts',\n 'as',\n 'ascend',\n 'ascended',\n 'asham',\n 'ashamed',\n 'aside',\n 'ask',\n 'aske',\n 'asking',\n 'aslant',\n 'asleepe',\n 'aspect',\n 'assaid',\n 'assaies',\n 'assaile',\n 'assaileable',\n 'assassination',\n 'assault',\n 'assay',\n 'asse',\n 'assemble',\n 'assembly',\n 'assignes',\n 'assis',\n 'assistance',\n 'assistant',\n 'assisted',\n 'associates',\n 'assume',\n 'assumes',\n 'assur',\n 'assurance',\n 'assure',\n 'astonish',\n 'asunder',\n 'aswell',\n 'at',\n 'ate',\n 'attaine',\n 'attaines',\n 'attempt',\n 'attempts',\n 'attend',\n 'attendant',\n 'attendants',\n 'attended',\n 'attends',\n 'attent',\n 'attractiue',\n 'attyre',\n 'auant',\n 'auarice',\n 'auaricious',\n 'audience',\n 'audit',\n 'aueng',\n 'aught',\n 'augment',\n 'augmented',\n 'augure',\n 'augurers',\n 'augures',\n 'augury',\n 'aule',\n 'aunt',\n 'auoid',\n 'auouch',\n 'auouches',\n 'auoyd',\n 'auoyded',\n 'auspicious',\n 'author',\n 'authorities',\n 'authoriz',\n 'awak',\n 'awake',\n 'away',\n 'awe',\n 'awhile',\n 'axe',\n 'ayd',\n 'ayde',\n 'aye',\n 'aygre',\n 'ayme',\n 'ayre',\n 'ayres',\n 'ayrie',\n 'ayry',\n 'babe',\n 'babes',\n 'baboones',\n 'baby',\n 'bace',\n 'back',\n 'backe',\n 'backs',\n 'backward',\n 'bad',\n 'badg',\n 'bait',\n 'baite',\n 'baited',\n 'bak',\n 'bake',\n 'bakers',\n 'balles',\n 'balme',\n 'ban',\n 'bands',\n 'bane',\n 'bang',\n 'banish',\n 'banished',\n 'banke',\n 'bankes',\n 'banners',\n 'banq',\n 'banquet',\n 'banquets',\n 'banquetting',\n 'banquo',\n 'banquoh',\n 'bap',\n 'bapt',\n 'baptista',\n 'bar',\n 'barbars',\n 'barbary',\n 'bare',\n 'bargaine',\n 'barke',\n 'barlet',\n 'barn',\n 'barnardo',\n 'barre',\n 'barren',\n 'barres',\n 'base',\n 'basenesse',\n 'baser',\n 'basest',\n 'basis',\n 'basket',\n 'bastard',\n 'bastardie',\n 'bat',\n 'batchellor',\n 'batchellour',\n 'bated',\n 'bath',\n 'bathe',\n 'battaile',\n 'battailes',\n 'battalians',\n 'battell',\n 'batten',\n 'batter',\n 'battery',\n 'battlements',\n 'baudry',\n 'bawd',\n 'bawdy',\n 'bay',\n 'bayed',\n 'be',\n 'beads',\n 'beame',\n 'beard',\n 'beards',\n 'beare',\n 'bearers',\n 'beares',\n 'bearing',\n 'beast',\n 'beasts',\n 'beat',\n 'beate',\n 'beaten',\n 'beating',\n 'beats',\n 'beauer',\n 'beauteous',\n 'beautie',\n 'beautied',\n 'beauties',\n 'beautifed',\n 'beautified',\n 'beauty',\n 'became',\n 'because',\n 'becke',\n 'beckens',\n 'beckons',\n 'become',\n 'becomes',\n 'bed',\n 'bedded',\n 'bedrid',\n 'beds',\n 'bee',\n 'been',\n 'beene',\n 'beer',\n 'bees',\n 'beest',\n 'beetle',\n 'beetles',\n 'befall',\n 'befalne',\n 'befitted',\n 'before',\n 'befriend',\n 'beg',\n 'began',\n 'beget',\n 'begg',\n 'beggard',\n 'begge',\n 'begger',\n 'beggers',\n 'begin',\n 'beginning',\n 'begins',\n 'beguile',\n 'begun',\n 'behaued',\n 'behauior',\n 'behauiour',\n 'behauiours',\n 'behind',\n 'behinde',\n 'behold',\n 'beholding',\n 'behoue',\n 'behoues',\n 'being',\n 'beldams',\n 'beleefe',\n 'beleeu',\n 'beleeue',\n 'beleeued',\n 'belieue',\n 'belike',\n 'bell',\n 'bellona',\n 'bellow',\n 'bellowed',\n 'belou',\n 'below',\n 'bels',\n 'belt',\n 'belzebub',\n 'benches',\n 'bend',\n 'bended',\n 'bending',\n 'bene',\n 'beneath',\n 'benediction',\n 'benefit',\n 'benetted',\n 'bent',\n 'benyson',\n 'bequeathing',\n 'ber',\n 'beseech',\n 'beshrew',\n 'beside',\n 'besides',\n 'besmeare',\n 'besmerch',\n 'bespeake',\n 'best',\n 'bestow',\n 'bestowes',\n 'bestride',\n 'beteene',\n 'bethinke',\n 'bethought',\n 'betime',\n 'betimes',\n 'betoken',\n 'betray',\n 'better',\n 'betters',\n 'betweene',\n 'betwixt',\n 'beware',\n 'bewept',\n 'beyond',\n 'bias',\n 'bid',\n 'bidding',\n 'bides',\n 'bids',\n 'bigge',\n 'bilboes',\n 'bill',\n 'billes',\n 'billow',\n 'bin',\n 'binde',\n 'birch',\n 'bird',\n 'birds',\n 'birnan',\n 'birnane',\n 'birth',\n 'birthdome',\n 'bisson',\n 'bites',\n 'bitter',\n 'black',\n 'blacke',\n 'blackest',\n 'blade',\n 'bladed',\n 'blame',\n 'blames',\n 'blanch',\n 'blanke',\n 'blankes',\n 'blanket',\n 'blason',\n 'blaspheme',\n 'blaspheming',\n 'blast',\n 'blasted',\n 'blasting',\n 'blastments',\n 'blasts',\n 'blaze',\n 'blazes',\n 'bleed',\n 'bleede',\n 'bleeding',\n 'bleeds',\n 'blench',\n 'blesse',\n 'blessed',\n 'blessing',\n 'blessings',\n 'blest',\n 'blew',\n 'blister',\n 'blisters',\n 'blockes',\n 'blood',\n 'bloodie',\n 'bloodier',\n 'bloodily',\n 'bloods',\n 'bloody',\n 'blossomes',\n 'bloud',\n 'bloude',\n 'bloudie',\n 'bloudy',\n 'blow',\n 'blowes',\n 'blown',\n 'blowne',\n 'blunt',\n 'blunted',\n 'blurres',\n 'blush',\n 'boades',\n 'boadments',\n 'boasting',\n 'bodie',\n 'bodies',\n 'bodilesse',\n 'bodkin',\n 'body',\n 'bodykins',\n 'bold',\n 'boldest',\n 'boldly',\n 'bond',\n 'bondage',\n 'bondman',\n 'bondmen',\n 'bonds',\n 'bonelesse',\n 'bones',\n 'bonet',\n 'bonfire',\n 'bonny',\n 'booke',\n 'bookes',\n 'boord',\n 'boorded',\n 'boot',\n 'bootlesse',\n 'bore',\n 'borne',\n 'borrowed',\n 'borrower',\n 'borrowing',\n 'bosome',\n 'bosomes',\n 'botch',\n 'botches',\n 'both',\n 'bottome',\n 'boudge',\n 'bouge',\n 'bough',\n 'boughes',\n 'bought',\n 'boule',\n 'bound',\n 'bounded',\n 'boundlesse',\n 'bounds',\n 'bounteous',\n 'bountie',\n 'bounty',\n 'bout',\n 'bow',\n 'bowels',\n 'bowl',\n 'bowle',\n 'bowts',\n 'boxe',\n 'boy',\n 'boyes',\n 'boyle',\n 'boystrous',\n 'br',\n 'brag',\n 'braggart',\n 'braine',\n 'braines',\n 'brainish',\n 'branches',\n 'brandish',\n 'brandisht',\n 'brands',\n 'brasse',\n 'brau',\n 'braue',\n 'brauely',\n 'brauery',\n 'bray',\n 'braz',\n 'brazon',\n 'breach',\n 'bread',\n 'breadth',\n 'break',\n 'breake',\n 'breakes',\n 'breast',\n 'breath',\n 'breathed',\n 'breathing',\n 'breathlesse',\n 'breaths',\n 'breech',\n 'breed',\n 'breeder',\n 'breeding',\n 'breefe',\n 'breefely',\n 'brest',\n 'brests',\n 'breuitie',\n 'bribes',\n 'bridegroome',\n 'briefe',\n 'briefely',\n 'bright',\n 'brightest',\n 'brim',\n 'brinded',\n 'bring',\n 'bringing',\n 'brings',\n 'broad',\n 'broakers',\n 'broke',\n 'broken',\n 'brooch',\n 'brood',\n 'brooke',\n 'brothell',\n 'brother',\n 'brothers',\n 'brought',\n 'brow',\n 'browes',\n 'brows',\n 'broyle',\n 'bru',\n 'bruite',\n 'bruited',\n 'brut',\n 'brute',\n 'brutish',\n 'brutus',\n 'bubble',\n 'bubbles',\n 'buckle',\n 'buffet',\n 'buffets',\n 'bugges',\n 'builde',\n 'building',\n 'builds',\n 'built',\n 'bulke',\n 'bulwarke',\n 'bunghole',\n 'buriall',\n 'buried',\n 'burne',\n 'burnes',\n 'burneth',\n 'burning',\n 'burnt',\n 'burst',\n 'burthen',\n 'bury',\n 'busie',\n 'busines',\n 'businesse',\n 'bussling',\n 'but',\n 'butcher',\n 'butchers',\n 'button',\n 'buttons',\n 'buttrice',\n 'buy',\n 'buyer',\n 'buyes',\n 'buzze',\n 'buzzers',\n 'buzzing',\n 'by',\n 'byrlady',\n 'byrnam',\n 'byrnan',\n 'byrnane',\n 'byrth',\n 'byth',\n 'cabin',\n 'caes',\n 'caesar',\n 'caesars',\n 'cai',\n 'caines',\n 'caius',\n 'cal',\n 'calamity',\n 'calculate',\n 'caldron',\n 'calender',\n 'calfe',\n 'call',\n 'calles',\n 'calling',\n 'calls',\n 'calme',\n 'calmely',\n 'calmes',\n 'calp',\n 'calphurnia',\n 'cals',\n 'calues',\n 'calumnious',\n 'calumny',\n 'came',\n 'camelions',\n 'camell',\n 'campe',\n 'can',\n 'cancell',\n 'candied',\n 'candle',\n 'candles',\n 'canker',\n 'cannon',\n 'cannoneer',\n 'cannons',\n 'canoniz',\n 'canopy',\n 'canst',\n 'cap',\n 'cape',\n 'capeable',\n 'capitall',\n 'capitol',\n 'capitoll',\n 'capons',\n 'caps',\n 'captaine',\n 'captaines',\n 'captiue',\n 'captiues',\n 'captiuitie',\n 'car',\n 'carbuncles',\n 'card',\n 'carde',\n 'care',\n 'carefully',\n 'carelesly',\n 'carelesse',\n 'cares',\n 'carkasse',\n 'carnall',\n 'carowses',\n 'carowsing',\n 'carpenter',\n 'carriage',\n 'carriages',\n 'carried',\n 'carries',\n 'carrion',\n 'carrions',\n 'carry',\n 'carrying',\n 'cart',\n 'carters',\n 'caru',\n 'carue',\n 'cas',\n 'case',\n 'cases',\n 'casing',\n 'cask',\n 'caska',\n 'cass',\n 'cassi',\n 'cassius',\n 'cast',\n 'castle',\n 'castles',\n 'casuall',\n 'cat',\n 'catalogue',\n 'cataplasme',\n 'catch',\n 'catching',\n 'cath',\n 'cathnes',\n 'cato',\n 'cauerne',\n 'caught',\n 'cauiarie',\n 'cauldron',\n 'cause',\n 'causes',\n 'cautell',\n 'cautelous',\n 'caution',\n 'cawdor',\n 'cawdron',\n 'cease',\n 'celebrated',\n 'celebrates',\n 'celestiall',\n 'cell',\n 'censure',\n 'censures',\n 'center',\n 'centinell',\n 'centinels',\n 'ceremonies',\n 'ceremony',\n 'cerimony',\n 'cerments',\n 'certaine',\n 'certaintie',\n 'cesterne',\n 'chace',\n 'chafes',\n 'chafing',\n 'chaire',\n 'challenge',\n ...]"
     },
     "execution_count": 8,
     "metadata": {},
     "output_type": "execute_result"
    }
   ],
   "source": [
    "vocab"
   ],
   "metadata": {
    "collapsed": false,
    "ExecuteTime": {
     "end_time": "2025-01-07T08:15:13.866953Z",
     "start_time": "2025-01-07T08:15:13.863096Z"
    }
   },
   "id": "4206e1ba0d36f4f9"
  },
  {
   "cell_type": "code",
   "execution_count": 9,
   "outputs": [
    {
     "data": {
      "text/plain": "7319"
     },
     "execution_count": 9,
     "metadata": {},
     "output_type": "execute_result"
    }
   ],
   "source": [
    "vocab_size"
   ],
   "metadata": {
    "collapsed": false,
    "ExecuteTime": {
     "end_time": "2025-01-07T08:15:20.179389Z",
     "start_time": "2025-01-07T08:15:20.172455Z"
    }
   },
   "id": "7e7de3e77b83e702"
  },
  {
   "cell_type": "code",
   "execution_count": 10,
   "outputs": [],
   "source": [
    "# Example hyperparameters (adjust as needed)\n",
    "embedding_dim = 512\n",
    "sequence_length = 10  # Example sequence length"
   ],
   "metadata": {
    "collapsed": false,
    "ExecuteTime": {
     "end_time": "2025-01-07T08:17:24.935131Z",
     "start_time": "2025-01-07T08:17:24.932206Z"
    }
   },
   "id": "992c63b5f884878d"
  },
  {
   "cell_type": "code",
   "execution_count": 11,
   "outputs": [],
   "source": [
    "class WordEmbedding(nn.Module):\n",
    "    def __init__(self, vocab_size, embedding_dim):\n",
    "        super(WordEmbedding, self).__init__()\n",
    "        # Create an embedding layer\n",
    "        self.embedding = nn.Embedding(vocab_size, embedding_dim)\n",
    "    \n",
    "    def forward(self, x):\n",
    "        # Look up the embedding for each index in the input\n",
    "        return self.embedding(x)\n"
   ],
   "metadata": {
    "collapsed": false,
    "ExecuteTime": {
     "end_time": "2025-01-07T08:17:32.426033Z",
     "start_time": "2025-01-07T08:17:32.422046Z"
    }
   },
   "id": "938e4f7df3a8d787"
  },
  {
   "cell_type": "code",
   "execution_count": 12,
   "outputs": [],
   "source": [
    "class PositionalEncoding(nn.Module):\n",
    "    def __init__(self, embedding_dim, max_len=5000):\n",
    "        super(PositionalEncoding, self).__init__()\n",
    "        # Create a positional encoding matrix with shape (max_len, embedding_dim)\n",
    "        pe = torch.zeros(max_len, embedding_dim)\n",
    "        position = torch.arange(0, max_len, dtype=torch.float).unsqueeze(1)\n",
    "        div_term = torch.exp(torch.arange(0, embedding_dim, 2).float() * (-math.log(10000.0) / embedding_dim))\n",
    "        pe[:, 0::2] = torch.sin(position * div_term)  # Apply sin to even indices in the embedding\n",
    "        pe[:, 1::2] = torch.cos(position * div_term)  # Apply cos to odd indices in the embedding\n",
    "        pe = pe.unsqueeze(1)  # Add a batch dimension\n",
    "        self.register_buffer('pe', pe)  # Register pe as a buffer, so it is not updated during training\n",
    "\n",
    "    def forward(self, x):\n",
    "        # x: (seq_len, batch_size, embedding_dim)\n",
    "        # Add the positional encoding to the input embeddings\n",
    "        x = x + self.pe[:x.size(0), :]  # Only add the positional encodings up to the input length\n",
    "        return x\n"
   ],
   "metadata": {
    "collapsed": false,
    "ExecuteTime": {
     "end_time": "2025-01-07T08:17:47.897416Z",
     "start_time": "2025-01-07T08:17:47.896581Z"
    }
   },
   "id": "acce6849ab51b55f"
  },
  {
   "cell_type": "code",
   "execution_count": 13,
   "outputs": [],
   "source": [
    "class LearnedPositionalEncoding(nn.Module):\n",
    "    def __init__(self, embedding_dim, max_len=5000):\n",
    "        super(LearnedPositionalEncoding, self).__init__()\n",
    "        # Create an embedding layer to learn positional encodings\n",
    "        self.embedding = nn.Embedding(max_len, embedding_dim)\n",
    "\n",
    "    def forward(self, x):\n",
    "        # Get the position indices (0, 1, 2, ..., seq_len-1) for the input sequence\n",
    "        position = torch.arange(0, x.size(0), dtype=torch.long, device=x.device).unsqueeze(1)\n",
    "        # Add the learned positional encodings to the input embeddings\n",
    "        x = x + self.embedding(position)\n",
    "        return x\n"
   ],
   "metadata": {
    "collapsed": false,
    "ExecuteTime": {
     "end_time": "2025-01-07T08:18:02.162847Z",
     "start_time": "2025-01-07T08:18:02.156171Z"
    }
   },
   "id": "6f9b15bd4d9a52ae"
  },
  {
   "cell_type": "code",
   "execution_count": 14,
   "outputs": [],
   "source": [
    "# --- Example Usage with a Single Sequence ---\n",
    "# Take the first 'sequence_length' words as an example sequence\n",
    "example_sequence_words = dataset[:sequence_length]\n",
    "example_sequence_indices = [word_to_index[word] for word in example_sequence_words]\n",
    "input_sequence = torch.tensor(example_sequence_indices).unsqueeze(1)  # Shape (seq_len, 1) - Single Batch\n"
   ],
   "metadata": {
    "collapsed": false,
    "ExecuteTime": {
     "end_time": "2025-01-07T08:18:36.995070Z",
     "start_time": "2025-01-07T08:18:36.982935Z"
    }
   },
   "id": "43638489919ccae4"
  },
  {
   "cell_type": "code",
   "execution_count": 15,
   "outputs": [],
   "source": [
    "# Word Embedding\n",
    "word_embedding = WordEmbedding(vocab_size, embedding_dim)\n",
    "embedded_sequence = word_embedding(input_sequence)"
   ],
   "metadata": {
    "collapsed": false,
    "ExecuteTime": {
     "end_time": "2025-01-07T08:18:51.574194Z",
     "start_time": "2025-01-07T08:18:51.517638Z"
    }
   },
   "id": "e3e412392b7cdd50"
  },
  {
   "cell_type": "code",
   "execution_count": 16,
   "outputs": [
    {
     "data": {
      "text/plain": "WordEmbedding(\n  (embedding): Embedding(7319, 512)\n)"
     },
     "execution_count": 16,
     "metadata": {},
     "output_type": "execute_result"
    }
   ],
   "source": [
    "word_embedding"
   ],
   "metadata": {
    "collapsed": false,
    "ExecuteTime": {
     "end_time": "2025-01-07T08:18:57.549137Z",
     "start_time": "2025-01-07T08:18:57.545485Z"
    }
   },
   "id": "c9d5cba347b089dd"
  },
  {
   "cell_type": "code",
   "execution_count": 17,
   "outputs": [
    {
     "data": {
      "text/plain": "tensor([[[ 0.5109, -0.7915, -0.3427,  ..., -0.4239, -0.0114,  1.1026]],\n\n        [[ 1.2033, -1.1024, -1.2348,  ...,  2.5744,  1.2959,  0.2264]],\n\n        [[ 1.6201, -0.2408,  0.5797,  ...,  0.4017,  0.2863, -0.0556]],\n\n        ...,\n\n        [[-0.0035,  1.4774, -1.1439,  ...,  1.2800, -0.4082, -1.2408]],\n\n        [[-0.1194, -1.2127,  0.4956,  ..., -1.4009, -1.8121, -0.8494]],\n\n        [[-0.0925, -0.1867,  0.7836,  ..., -0.2156, -0.1570, -0.8315]]],\n       grad_fn=<EmbeddingBackward0>)"
     },
     "execution_count": 17,
     "metadata": {},
     "output_type": "execute_result"
    }
   ],
   "source": [
    "embedded_sequence"
   ],
   "metadata": {
    "collapsed": false,
    "ExecuteTime": {
     "end_time": "2025-01-07T08:19:03.561518Z",
     "start_time": "2025-01-07T08:19:03.555785Z"
    }
   },
   "id": "91cd02a79df1333d"
  },
  {
   "cell_type": "code",
   "execution_count": 18,
   "outputs": [
    {
     "data": {
      "text/plain": "torch.Size([10, 1, 512])"
     },
     "execution_count": 18,
     "metadata": {},
     "output_type": "execute_result"
    }
   ],
   "source": [
    "embedded_sequence.shape"
   ],
   "metadata": {
    "collapsed": false,
    "ExecuteTime": {
     "end_time": "2025-01-07T08:19:11.354804Z",
     "start_time": "2025-01-07T08:19:11.347779Z"
    }
   },
   "id": "99db21b983587475"
  },
  {
   "cell_type": "code",
   "execution_count": 19,
   "outputs": [],
   "source": [
    "# Sinusoidal Positional Encoding\n",
    "positional_encoding = PositionalEncoding(embedding_dim)\n",
    "encoded_sequence_sin = positional_encoding(embedded_sequence)"
   ],
   "metadata": {
    "collapsed": false,
    "ExecuteTime": {
     "end_time": "2025-01-07T08:19:20.541226Z",
     "start_time": "2025-01-07T08:19:20.518026Z"
    }
   },
   "id": "a3a80e199ae5de15"
  },
  {
   "cell_type": "code",
   "execution_count": 21,
   "outputs": [
    {
     "data": {
      "text/plain": "tensor([[[ 0.5109,  0.2085, -0.3427,  ...,  0.5761, -0.0114,  2.1026]],\n\n        [[ 2.0448, -0.5621, -0.4129,  ...,  3.5744,  1.2960,  1.2264]],\n\n        [[ 2.5294, -0.6569,  1.5161,  ...,  1.4017,  0.2865,  0.9444]],\n\n        ...,\n\n        [[ 0.6535,  2.2313, -0.6915,  ...,  2.2800, -0.4075, -0.2408]],\n\n        [[ 0.8700, -1.3582,  1.4863,  ..., -0.4009, -1.8113,  0.1506]],\n\n        [[ 0.3196, -1.0978,  1.4600,  ...,  0.7844, -0.1561,  0.1685]]],\n       grad_fn=<AddBackward0>)"
     },
     "execution_count": 21,
     "metadata": {},
     "output_type": "execute_result"
    }
   ],
   "source": [
    "encoded_sequence_sin"
   ],
   "metadata": {
    "collapsed": false,
    "ExecuteTime": {
     "end_time": "2025-01-07T08:19:30.242271Z",
     "start_time": "2025-01-07T08:19:30.238171Z"
    }
   },
   "id": "bc2c2ccd5c5f5ce2"
  },
  {
   "cell_type": "code",
   "execution_count": 22,
   "outputs": [
    {
     "data": {
      "text/plain": "torch.Size([10, 1, 512])"
     },
     "execution_count": 22,
     "metadata": {},
     "output_type": "execute_result"
    }
   ],
   "source": [
    "encoded_sequence_sin.shape"
   ],
   "metadata": {
    "collapsed": false,
    "ExecuteTime": {
     "end_time": "2025-01-07T08:19:36.714510Z",
     "start_time": "2025-01-07T08:19:36.710711Z"
    }
   },
   "id": "492c7d39715942b3"
  },
  {
   "cell_type": "code",
   "execution_count": 23,
   "outputs": [],
   "source": [
    "# Learned Positional Encoding\n",
    "learned_positional_encoding = LearnedPositionalEncoding(embedding_dim)\n",
    "encoded_sequence_learned = learned_positional_encoding(embedded_sequence)"
   ],
   "metadata": {
    "collapsed": false,
    "ExecuteTime": {
     "end_time": "2025-01-07T08:19:49.146356Z",
     "start_time": "2025-01-07T08:19:49.121546Z"
    }
   },
   "id": "b65fa438827e5541"
  },
  {
   "cell_type": "code",
   "execution_count": 24,
   "outputs": [
    {
     "data": {
      "text/plain": "tensor([[[ 0.5274, -1.2473, -0.1996,  ..., -0.6185, -0.6949,  1.1423]],\n\n        [[ 1.8848, -1.4726,  1.6219,  ...,  4.0031,  0.6432,  0.0667]],\n\n        [[ 1.4360,  2.0776,  0.6666,  ...,  0.9790,  0.4055,  0.3919]],\n\n        ...,\n\n        [[ 0.9970, -0.5662, -0.0800,  ..., -0.2291,  1.1091, -1.0232]],\n\n        [[-0.4327, -1.4443, -1.1171,  ..., -2.0791, -4.4312, -1.3945]],\n\n        [[-1.1799,  0.3968,  0.6103,  ..., -0.3741, -0.0804, -0.6231]]],\n       grad_fn=<AddBackward0>)"
     },
     "execution_count": 24,
     "metadata": {},
     "output_type": "execute_result"
    }
   ],
   "source": [
    "encoded_sequence_learned"
   ],
   "metadata": {
    "collapsed": false,
    "ExecuteTime": {
     "end_time": "2025-01-07T08:19:55.900473Z",
     "start_time": "2025-01-07T08:19:55.894581Z"
    }
   },
   "id": "91d8c36656b77bcb"
  },
  {
   "cell_type": "code",
   "execution_count": 25,
   "outputs": [
    {
     "data": {
      "text/plain": "torch.Size([10, 1, 512])"
     },
     "execution_count": 25,
     "metadata": {},
     "output_type": "execute_result"
    }
   ],
   "source": [
    "encoded_sequence_learned.shape"
   ],
   "metadata": {
    "collapsed": false,
    "ExecuteTime": {
     "end_time": "2025-01-07T08:20:01.904697Z",
     "start_time": "2025-01-07T08:20:01.894130Z"
    }
   },
   "id": "88776e74c9a0bd0d"
  },
  {
   "cell_type": "code",
   "execution_count": 26,
   "outputs": [
    {
     "name": "stdout",
     "output_type": "stream",
     "text": [
      "Input Sequence Shape: torch.Size([10, 1])\n",
      "Embedded Sequence Shape: torch.Size([10, 1, 512])\n",
      "Encoded Sequence (Sinusoidal) Shape: torch.Size([10, 1, 512])\n",
      "Encoded Sequence (Learned) Shape: torch.Size([10, 1, 512])\n"
     ]
    }
   ],
   "source": [
    "print(\"Input Sequence Shape:\", input_sequence.shape)\n",
    "print(\"Embedded Sequence Shape:\", embedded_sequence.shape)\n",
    "print(\"Encoded Sequence (Sinusoidal) Shape:\", encoded_sequence_sin.shape)\n",
    "print(\"Encoded Sequence (Learned) Shape:\", encoded_sequence_learned.shape)\n"
   ],
   "metadata": {
    "collapsed": false,
    "ExecuteTime": {
     "end_time": "2025-01-07T08:20:09.265741Z",
     "start_time": "2025-01-07T08:20:09.260417Z"
    }
   },
   "id": "f5b49d8ff19f3a7c"
  },
  {
   "cell_type": "code",
   "execution_count": 27,
   "id": "initial_id",
   "metadata": {
    "collapsed": true,
    "ExecuteTime": {
     "end_time": "2025-01-07T08:20:16.219861Z",
     "start_time": "2025-01-07T08:20:16.193148Z"
    }
   },
   "outputs": [
    {
     "name": "stdout",
     "output_type": "stream",
     "text": [
      "\n",
      "Verifying Positional Encodings:\n",
      "Sinusoidal PE for position 0:\n",
      " tensor([[0., 1., 0., 1., 0.]])\n",
      "Sinusoidal PE for position 1:\n",
      " tensor([[0.8415, 0.5403, 0.8219, 0.5697, 0.8020]])\n",
      "Learned PE for position 0:\n",
      " [[ 1.65731534e-02 -4.55783874e-01  1.43099353e-01  3.69202763e-01\n",
      "   1.24040949e+00  8.61730054e-02 -2.07117486e+00  8.82206380e-01\n",
      "   1.22090900e+00 -4.27254707e-01 -1.36042908e-01  1.16018236e+00\n",
      "  -3.45689863e-01 -1.59403726e-01 -1.25040090e+00 -3.69148880e-01\n",
      "   2.60806352e-01  7.64791429e-01 -5.96708894e-01  4.34388638e-01\n",
      "   2.69163460e-01  9.73690271e-01  1.40994883e+00 -1.16771746e+00\n",
      "  -1.12309384e+00 -8.70886892e-02  2.88274795e-01  5.79026163e-01\n",
      "   2.03697944e+00 -4.90067005e-01 -1.48748267e+00  1.39848423e+00\n",
      "  -9.46574271e-01  1.60183012e+00  2.00410083e-01 -1.71269691e+00\n",
      "  -1.30482507e+00 -8.08316693e-02  1.49743736e+00  5.52731812e-01\n",
      "   1.34137428e+00  2.99143672e-01  1.33821452e+00  1.35253334e+00\n",
      "  -4.68201667e-01  1.34804499e+00  4.29636329e-01 -3.59175764e-02\n",
      "  -7.62144506e-01 -3.59624863e-01  1.46420658e+00 -5.06251514e-01\n",
      "   4.17286903e-01 -1.26079786e+00  1.15664208e+00  8.12824667e-01\n",
      "  -2.61281395e+00 -4.96112287e-01 -6.91206679e-02  1.77537262e-01\n",
      "  -5.42696953e-01 -4.79643136e-01  2.49361587e+00  6.54085815e-01\n",
      "   2.15828791e-01  2.85349697e-01  1.77886355e+00  1.99449942e-01\n",
      "  -1.44917989e+00  1.27767301e+00 -3.36491615e-01 -1.34729818e-01\n",
      "  -8.53705943e-01 -6.02809012e-01  1.80531418e+00 -2.31357008e-01\n",
      "   1.55386612e-01  3.63563397e-03  5.77925086e-01  6.00406110e-01\n",
      "  -9.66982245e-01  6.89799115e-02  1.29039302e-01  1.88937545e+00\n",
      "   8.01563501e-01 -1.12697935e+00 -2.80630589e-01  1.13975000e+00\n",
      "   8.11339319e-02  4.81858253e-01 -5.99216104e-01 -2.79193938e-01\n",
      "   7.56202281e-01 -1.11459410e+00  1.96681964e+00  1.31236124e+00\n",
      "  -1.73568696e-01  3.86631608e-01 -6.15954518e-01  8.90261531e-01\n",
      "  -3.25745583e-01  7.03630865e-01  7.19027042e-01 -4.52771373e-02\n",
      "   1.35168874e+00  2.33125114e+00 -9.20984745e-01  1.60939500e-01\n",
      "  -1.82159710e+00  1.18856490e+00 -2.26617698e-02 -1.28840208e+00\n",
      "  -1.97076678e-01  1.40826166e-01  1.12916172e+00  5.23166537e-01\n",
      "   2.50250190e-01 -6.19597018e-01  7.30838180e-01 -1.15824926e+00\n",
      "   8.29974174e-01 -2.06992477e-01 -1.08429682e+00  5.67341030e-01\n",
      "  -3.72571856e-01  3.19712192e-01 -9.84131768e-02  1.38569579e-01\n",
      "  -1.41650426e+00 -3.03053930e-02  1.42175424e+00  1.07825232e+00\n",
      "  -3.12644184e-01  1.09198213e+00 -3.46152693e-01 -2.48195186e-01\n",
      "  -1.38212547e-01 -2.19450176e-01  6.35195315e-01 -4.19479102e-01\n",
      "   4.34668213e-01  4.53140527e-01 -8.07874322e-01 -1.13182187e-01\n",
      "   5.13333119e-02 -2.22819358e-01  2.19506100e-01 -4.02091563e-01\n",
      "   1.23200333e+00  1.93319106e+00  1.84787095e+00  5.45684397e-01\n",
      "  -1.19338691e+00  8.01693946e-02 -4.74494696e-01  1.95090294e+00\n",
      "  -2.58639664e-03 -8.58161449e-01  9.32503998e-01 -4.06053543e-01\n",
      "  -7.46613622e-01 -1.04798257e+00 -3.39862019e-01 -5.79959154e-01\n",
      "  -5.22702396e-01  3.05102617e-01  1.53615892e+00 -2.44434774e-01\n",
      "  -6.12398624e-01 -1.92211777e-01 -1.04307568e+00  1.06688261e+00\n",
      "   1.13579476e+00  1.00589967e+00 -1.76943684e+00  2.37546515e+00\n",
      "   8.61058056e-01 -1.62195337e+00  2.46854329e+00 -5.00476003e-01\n",
      "   3.79421979e-01  2.72828996e-01 -3.30576271e-01 -2.24473491e-01\n",
      "   1.56890559e+00 -1.36227977e+00  8.20156515e-01  1.37754798e-01\n",
      "   5.35838306e-01  1.34700203e+00  1.21050394e+00 -6.00842118e-01\n",
      "   2.74758506e+00 -6.01726234e-01  5.89585230e-02  1.08159637e+00\n",
      "   7.03660429e-01 -7.70638213e-02  8.27402323e-02  6.12219036e-01\n",
      "  -1.73853672e+00 -1.09229636e+00  2.64198214e-01  4.69045818e-01\n",
      "  -5.37551641e-01  2.39114761e-02  8.79198670e-01  1.37829638e+00\n",
      "  -1.29877102e+00  6.45965934e-01  1.56057134e-01  2.42232174e-01\n",
      "   1.93736881e-01 -1.31019318e+00 -1.61490574e-01 -1.19897616e+00\n",
      "  -3.94694477e-01 -2.10169688e-01 -1.44488251e+00 -2.93558449e-01\n",
      "   1.20096648e+00  1.58284020e+00 -1.34124911e+00 -1.50425792e+00\n",
      "  -2.18116701e-01 -1.07499909e+00  1.59002972e+00 -2.58515209e-01\n",
      "  -6.61757410e-01 -3.53090107e-01  4.60534513e-01  1.82319975e+00\n",
      "  -6.78160906e-01  4.80237842e-01  1.99215431e-02 -7.07518637e-01\n",
      "   6.65433645e-01 -4.19740453e-02  7.87590444e-03 -4.38861817e-01\n",
      "  -9.07937348e-01 -3.57266933e-01  5.95041104e-02  1.14238095e+00\n",
      "  -2.65715033e-01  1.87845081e-01 -1.90077257e+00 -6.48929477e-01\n",
      "  -2.24034238e+00 -5.42112112e-01  2.25005126e+00  8.25366259e-01\n",
      "   2.55806983e-01  7.20031142e-01  4.78108108e-01  2.30189729e+00\n",
      "  -1.39297917e-01  2.16730297e-01  3.12611192e-01  6.16121411e-01\n",
      "  -2.92484999e-01 -1.89752901e+00 -8.04657102e-01  1.31455576e+00\n",
      "   2.12622213e+00  1.35686624e+00 -8.78033817e-01  5.08753598e-01\n",
      "  -1.17197645e+00  8.88821661e-01  2.25960898e+00 -8.51077139e-01\n",
      "  -1.83281228e-01 -2.08770800e+00 -4.41399157e-01 -1.99217960e-01\n",
      "   1.15510905e+00 -8.90342414e-01 -2.74152875e+00 -1.17330408e+00\n",
      "  -2.29567862e+00 -9.63937700e-01 -6.87591583e-02 -8.41202021e-01\n",
      "  -1.00634444e+00 -2.07525849e+00  2.38631344e+00 -1.56980366e-01\n",
      "   5.06190836e-01 -1.18628033e-01  7.23034501e-01 -3.20804894e-01\n",
      "   1.77117646e-01  4.55679148e-01  1.90439689e+00  4.61954415e-01\n",
      "  -1.43041861e+00 -2.08312511e+00  8.99519801e-01 -7.29280293e-01\n",
      "   1.04204249e+00  2.14420557e-02  2.62471974e-01  1.22024566e-01\n",
      "   6.49527133e-01 -1.37609112e+00  1.07816160e-02 -2.17210785e-01\n",
      "  -1.09339833e+00  6.46360755e-01 -1.58801019e+00 -3.58070225e-01\n",
      "  -1.80179799e+00  1.01565793e-01  1.16635847e+00  7.52509952e-01\n",
      "   9.51247990e-01  6.31075382e-01  9.00561035e-01  1.09195328e+00\n",
      "  -2.67358758e-02  1.10872038e-01 -7.95163393e-01  6.26935303e-01\n",
      "  -1.00623143e+00 -6.21983707e-01  5.15334070e-01 -5.91040790e-01\n",
      "   2.14681053e+00  6.35188399e-03  6.68472350e-02  5.52729189e-01\n",
      "  -7.65479088e-01 -1.35466349e+00  7.71778703e-01 -6.25305653e-01\n",
      "  -1.69249903e-02  4.56555225e-02  1.34946760e-02 -5.69158733e-01\n",
      "  -4.63508725e-01 -5.87938428e-01  5.63103080e-01 -7.41020262e-01\n",
      "  -1.43491673e+00  5.48831940e-01 -8.48897040e-01  5.16539812e-01\n",
      "  -6.36512756e-01 -7.12154880e-02  7.85512090e-01 -3.75106543e-01\n",
      "  -8.84974748e-02  8.86274993e-01  7.87820101e-01  2.71397328e+00\n",
      "  -9.21433806e-01  7.47911513e-01  1.56448102e+00  1.13588560e+00\n",
      "   1.45879656e-01  1.54245543e+00  2.02227294e-01  2.02530995e-01\n",
      "  -1.10845482e+00 -8.07208002e-01 -7.11704731e-01  1.02585614e+00\n",
      "  -2.08767295e-01 -1.05902302e+00  2.28338063e-01  6.86744213e-01\n",
      "  -1.03362608e+00  1.39272761e+00  2.64300555e-01  1.46796572e+00\n",
      "  -1.47418606e+00 -7.36078262e-01 -2.04697609e+00 -2.37784348e-02\n",
      "  -5.95789216e-02 -2.54407167e-01  3.18484038e-01  3.94130111e-01\n",
      "   5.91946781e-01  4.74379331e-01 -1.71295738e+00 -2.25697502e-01\n",
      "   9.85530496e-01 -1.42262566e+00 -1.70322999e-01 -1.01453638e+00\n",
      "   1.69899118e+00 -6.92775905e-01 -1.27743423e-01  8.95666182e-01\n",
      "  -7.38449812e-01 -4.75465268e-01  1.14237577e-01 -6.77536607e-01\n",
      "  -1.67047784e-01  2.33217910e-01 -6.61482513e-01  3.06928843e-01\n",
      "  -2.70188272e-01  1.09776568e+00 -2.04857183e+00  1.47507966e+00\n",
      "   1.32637978e+00  1.59585977e+00  3.41034442e-01  1.84188172e-01\n",
      "   8.34460080e-01 -2.65468091e-01 -6.47054553e-01  1.52880847e+00\n",
      "  -4.85427618e-01  1.89016461e+00  2.52830446e-01  1.04156338e-01\n",
      "   1.08646244e-01 -6.97842062e-01  7.69793808e-01 -1.31164479e+00\n",
      "   3.94988507e-01  4.51578408e-01 -1.01341939e+00 -6.04317844e-01\n",
      "  -8.68057787e-01  4.27170873e-01 -1.20018089e+00  6.24174774e-01\n",
      "   1.00701833e+00 -1.67018324e-01  9.73382071e-02 -3.03768605e-01\n",
      "  -9.69995379e-01  1.69775248e+00  1.17755547e-01 -2.02536440e+00\n",
      "   1.54071724e+00  8.75592381e-02 -6.57884106e-02 -3.66003871e-01\n",
      "   4.73121494e-01 -1.30024266e+00 -5.60259998e-01  3.25072289e-01\n",
      "  -3.42819721e-01  4.88979407e-02 -4.12895441e-01 -1.33393383e+00\n",
      "   8.80020201e-01 -4.48704123e-01  4.67831790e-01  1.49886712e-01\n",
      "   5.49742520e-01 -8.56431305e-01 -1.09820509e+00 -8.53523910e-01\n",
      "   2.35237575e+00  3.31979811e-01 -2.38292527e+00  1.46458364e+00\n",
      "  -3.62363666e-01  5.62054038e-01  9.03887749e-01  5.30660331e-01\n",
      "   1.75207019e-01  1.15201771e+00 -2.12803388e+00  4.38427269e-01\n",
      "   1.23255801e+00 -5.24240024e-02 -1.66962051e+00  1.61661819e-01\n",
      "   4.01404917e-01 -3.61650527e-01  3.46368551e-01 -1.03826940e+00\n",
      "   3.75634283e-01 -1.18681598e+00  2.75348246e-01  8.69318485e-01\n",
      "   1.20662510e+00 -4.05108452e-01 -2.80277401e-01 -7.12337852e-01\n",
      "  -7.04365194e-01  5.98835468e-05  1.32220972e+00  1.68572068e+00\n",
      "  -7.97838509e-01 -5.36596477e-01 -3.42086077e-01 -9.64698374e-01\n",
      "  -1.47441137e+00  1.46445203e+00  2.24441022e-01 -1.43085670e+00\n",
      "  -1.99462056e+00  1.05069017e+00  4.00948673e-01 -1.95313990e-01\n",
      "  -5.53779490e-02 -1.99997753e-01 -4.30211514e-01 -4.48495299e-01\n",
      "   1.85048416e-01 -1.94629982e-01 -6.83517754e-01  3.96576487e-02]]\n",
      "Learned PE for position 1:\n",
      " [[ 0.6815375  -0.37017632  2.856733   -0.9519963   0.6081274   0.7539088\n",
      "  -0.07757306  1.4472169   0.02344927  2.2294552  -0.22799306 -1.8775929\n",
      "  -0.07167664 -0.578302   -0.5312392  -0.59284836  0.80802333 -1.2898346\n",
      "  -0.18649131 -1.0487357   0.52153736 -0.03251518  0.70644295 -0.41758236\n",
      "  -0.70961916  0.17433195 -1.7049721   0.9846129   2.0155919   0.39882156\n",
      "  -0.2637913   0.67998743 -1.0724301   0.15850802  0.8405606  -0.49391595\n",
      "  -0.01094571 -0.20268933 -0.4953583   0.7489641  -0.65232736  2.408451\n",
      "   1.6926683  -0.9825502  -0.37488043 -1.330513   -0.0559957   0.25816634\n",
      "  -0.790007   -0.04242053 -0.50372237  0.2925223  -0.8796084  -0.41311616\n",
      "  -1.5832059   0.5216783   1.3926623   1.3885709   2.2884486   0.1874953\n",
      "   0.6592068  -0.6525935  -1.3742111  -0.81221944  0.04746958 -0.9621259\n",
      "   1.344531   -0.49699837  0.4935129   1.1332784  -2.0443308   2.218261\n",
      "   0.08058019 -0.3453637   0.84676766 -0.29516125  0.34578952 -0.5546896\n",
      "   0.80218977 -0.7039274  -1.8536785   0.1262367   1.556323    0.2964831\n",
      "  -0.8027223  -0.9445397   0.23841724 -2.0462074  -1.0833473   0.6911667\n",
      "  -0.06055177  0.6058071   0.8192856  -1.1135025   0.926187    0.01916377\n",
      "  -0.8708049   0.11882494 -1.5412118   1.2112503   1.8519886  -0.92803967\n",
      "  -0.10958152 -1.3578119   1.71003    -2.315793    0.04520777  0.5050597\n",
      "  -0.11457545 -0.87444645 -0.6565121   0.05855086 -1.2380786  -0.90058845\n",
      "   0.8073595  -0.9825576   0.37472305 -0.16995439  0.4351147   1.4145379\n",
      "  -2.2281604  -0.6908493  -0.51703054  1.4187646  -0.9082026   1.2938946\n",
      "  -1.8190911   0.19386454 -0.04243339 -0.8786601  -0.77292573  0.29227892\n",
      "   0.19363043 -0.8285968  -0.14291137 -0.4345137   2.4474173  -0.7210393\n",
      "   0.02982973 -0.04727197  0.8519974   0.3674656   1.2847884  -0.6864992\n",
      "   1.7113928   0.2898619   0.4802258  -1.390446    0.8487633  -0.12651266\n",
      "   0.0268655   1.2872477  -0.95784616  0.30196533 -0.62086594 -0.6841199\n",
      "   0.85067207  1.9424784  -0.43937665  0.40736902 -0.45471054 -1.7007841\n",
      "  -0.0973998  -1.6952685  -0.08268439 -0.5206178   1.3346833   1.6251173\n",
      "   1.5625807  -1.3382252   1.2633612  -0.21307929 -0.24842383 -0.6476998\n",
      "  -0.16991709 -0.7082709   1.9912548   0.04095771  1.7580041  -0.26366612\n",
      "   1.5335939   0.92539984 -0.30486363  0.45480093 -0.72422683 -0.5585958\n",
      "   0.01309815  0.7123768   1.60364     0.14773357 -2.025405   -0.42177153\n",
      "  -1.0476427  -0.3279239   0.07489927  1.0247091   0.2611649  -0.10166901\n",
      "   0.88796425  0.891689    1.3282862  -0.02418592 -1.4757533   2.3404822\n",
      "   0.12077048 -0.45062903  0.28235704  0.35439897 -0.64919233 -0.8327133\n",
      "  -0.04197949  0.93835616 -1.5741332   0.23443586 -1.0792474  -0.2626884\n",
      "  -1.6642035   0.76710737  0.8237398  -0.7031088   0.20317462  0.834152\n",
      "   0.26989296  0.914224   -0.22167152  1.0965451   0.80193144 -0.6286645\n",
      "   0.5046464  -2.37809     0.08946155  0.6141281   0.6470824   0.10801852\n",
      "   0.7332884   0.37688443 -2.7396529   0.37287605  2.372138   -1.400315\n",
      "  -2.523363    1.3500291   1.3470682   0.8631342   0.7600973   0.04020219\n",
      "  -0.94507986 -1.5448033   0.94293463 -0.3926008   1.5270158   0.06405668\n",
      "  -1.2216178   0.28076127  0.16607939 -1.897083   -0.1654872   2.5504198\n",
      "   1.1388999  -0.14099471  0.54056543 -0.18629943  0.06029346  1.1735331\n",
      "  -1.2059103   0.01633711 -0.15115193  0.6448112   0.41840205 -1.134706\n",
      "   0.5579607  -0.56470746  1.7069324  -0.38214594  0.4489568   0.10796575\n",
      "   1.3906202   1.8630747  -0.16803655 -0.77698123  0.5755404  -0.07247328\n",
      "  -0.8517756  -1.8427005   0.1456113  -1.2568014  -0.39673677 -0.49287352\n",
      "  -0.37246776  1.6585618   1.0369191   0.93237317  2.103421    0.70353484\n",
      "  -1.4489702   0.33883193  1.7342823  -0.6544709  -0.90653443 -0.37114283\n",
      "  -1.3505925  -0.2875138  -0.47173527 -0.8085502  -1.5436758  -1.8949333\n",
      "   1.2112067  -1.8851362   0.5218159  -0.21829745 -0.6487905   0.36654314\n",
      "  -3.3107455   0.5136228  -0.2663751  -1.3387113   0.7481207   0.422895\n",
      "   0.69675547 -0.51373994  1.0752641   1.2054904   0.06895307 -0.3814404\n",
      "  -1.0655328  -0.12806712 -2.1373103  -0.64328545  2.4122474  -0.29992193\n",
      "  -0.20449568 -1.8545538  -0.4800787  -0.0532681   2.0799582  -0.50520915\n",
      "  -0.5810221  -0.32929325 -1.0456257  -0.52637464 -1.1192392   0.26494378\n",
      "  -0.5037218   1.5857961   0.8624857   0.43727311 -0.11405796  0.19586878\n",
      "  -0.9736486  -0.6329887   0.848447   -0.2771731  -2.5394945   1.228265\n",
      "  -0.61292917 -0.74261945 -1.295601   -0.7043812  -2.5036724  -0.40369946\n",
      "   1.5660192   1.2886561  -0.14145197 -0.17470351 -1.4688089  -0.4745741\n",
      "   0.7357542   0.7764496  -1.9209194  -0.1465863  -0.2827868  -0.847328\n",
      "   1.7563837   0.9451427  -0.20099403  0.5299465  -0.85036045  0.22421212\n",
      "   0.07409475  1.3660363  -0.32100523 -0.9496071   0.04093496 -1.4695721\n",
      "   1.1084323   2.2400413   0.98936594  1.1052101  -0.44212648  0.13266349\n",
      "   0.6017736   2.0596657  -0.34395057 -0.28142565 -1.4326009   1.0398698\n",
      "  -0.28498966 -1.3826632   0.04873931  0.61486053 -0.54494715  0.0850316\n",
      "   0.4932575   1.4926097  -1.5779961   0.06761434  0.28644004  0.4795331\n",
      "   0.5712281   1.0318642  -0.08756781 -0.787197    0.5652199  -0.0365591\n",
      "   0.01693107  0.40431526  0.89390785  0.4056325  -0.2922886   0.46384898\n",
      "  -0.30463022 -1.9829524  -1.8375046   1.579559    1.7090746  -1.6568016\n",
      "   0.26101786 -0.73426837 -1.2130535  -0.18290725 -0.17434843  0.10850656\n",
      "  -0.8798768  -0.36722872  0.8490698  -0.68480676  0.3492977  -1.6960256\n",
      "  -0.63632536  1.2877165   0.6343922  -0.36091748 -1.751676    1.6432574\n",
      "   0.8775658   0.88358295 -0.663014   -0.37539962 -0.96334386  1.7091837\n",
      "   0.02701943  1.2755309  -1.111057   -1.77002     1.2137818  -0.45500907\n",
      "   0.1707592  -1.3588206  -0.5784849   0.18093045  0.409035   -2.1401277\n",
      "  -1.6099418  -1.3067834   1.7324328   0.5085642   1.9060785   0.17794931\n",
      "  -0.05849532  0.16425666  1.0061036   0.17089468  0.2623144   1.0237384\n",
      "   1.5700232   0.52721393  0.34311143  1.218153   -0.3960705  -0.01360351\n",
      "   0.42344663  0.5551775   0.44856596 -0.6762763   0.1636273  -0.65552425\n",
      "  -0.30968717  1.394779    1.0562531  -0.9168135  -0.19685932  0.69112396\n",
      "  -2.5210085   0.6754234   0.6802733   0.54557693  1.1548682  -0.17963469\n",
      "  -1.0355763  -0.8496416  -1.1137667   0.35445386  2.043562    0.32392988\n",
      "  -2.0899405   2.6945632   1.0846537   0.11167084 -0.2263273   1.4286215\n",
      "  -0.65273416 -0.15970512]]\n",
      "\n",
      "Vocabulary Size: 7319\n",
      "\n",
      "Example Input Sequence (Words): ['the', 'tragedie', 'of', 'julius', 'caesar', 'by', 'william', 'shakespeare', '1599', 'actus']\n",
      "Example Input Sequence (Indices): [6375, 6533, 4331, 3435, 867, 858, 7127, 5607, 1, 63]\n"
     ]
    }
   ],
   "source": [
    "# Verify the positional encodings are different for different positions\n",
    "print(\"\\nVerifying Positional Encodings:\")\n",
    "\n",
    "# Sinusoidal\n",
    "print(\"Sinusoidal PE for position 0:\\n\", positional_encoding.pe[:1, 0, :5])\n",
    "print(\"Sinusoidal PE for position 1:\\n\", positional_encoding.pe[1:2, 0, :5])\n",
    "\n",
    "# Learned\n",
    "print(\"Learned PE for position 0:\\n\", learned_positional_encoding.embedding(torch.tensor([0])).detach().numpy()[:5])\n",
    "print(\"Learned PE for position 1:\\n\", learned_positional_encoding.embedding(torch.tensor([1])).detach().numpy()[:5])\n",
    "\n",
    "print(\"\\nVocabulary Size:\", vocab_size)\n",
    "\n",
    "print(\"\\nExample Input Sequence (Words):\", example_sequence_words)\n",
    "print(\"Example Input Sequence (Indices):\", example_sequence_indices)"
   ]
  },
  {
   "cell_type": "code",
   "execution_count": null,
   "outputs": [],
   "source": [],
   "metadata": {
    "collapsed": false
   },
   "id": "d7fe07966d3795e5"
  }
 ],
 "metadata": {
  "kernelspec": {
   "display_name": "Python 3",
   "language": "python",
   "name": "python3"
  },
  "language_info": {
   "codemirror_mode": {
    "name": "ipython",
    "version": 2
   },
   "file_extension": ".py",
   "mimetype": "text/x-python",
   "name": "python",
   "nbconvert_exporter": "python",
   "pygments_lexer": "ipython2",
   "version": "2.7.6"
  }
 },
 "nbformat": 4,
 "nbformat_minor": 5
}
