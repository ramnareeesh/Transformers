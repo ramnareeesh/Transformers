{
 "cells": [
  {
   "cell_type": "code",
   "execution_count": 1,
   "outputs": [],
   "source": [
    "from wordllama import WordLlama"
   ],
   "metadata": {
    "collapsed": false,
    "ExecuteTime": {
     "end_time": "2024-09-26T06:35:12.480529Z",
     "start_time": "2024-09-26T06:35:12.065068Z"
    }
   },
   "id": "b52587622d1df945"
  },
  {
   "cell_type": "code",
   "execution_count": 2,
   "outputs": [],
   "source": [
    "# Load the default WordLlama model\n",
    "wl = WordLlama.load()"
   ],
   "metadata": {
    "collapsed": false,
    "ExecuteTime": {
     "end_time": "2024-09-26T06:35:12.588563Z",
     "start_time": "2024-09-26T06:35:12.480429Z"
    }
   },
   "id": "bbfada8ee0190f16"
  },
  {
   "cell_type": "code",
   "execution_count": 3,
   "outputs": [
    {
     "name": "stdout",
     "output_type": "stream",
     "text": [
      "0.06641247868537903\n"
     ]
    }
   ],
   "source": [
    "# Calculate similarity between two sentences\n",
    "similarity_score = wl.similarity(\"i went to the car\", \"i went to the pawn shop\")\n",
    "print(similarity_score)  # Output: 0.06641249096796882\n"
   ],
   "metadata": {
    "collapsed": false,
    "ExecuteTime": {
     "end_time": "2024-09-26T06:35:12.595281Z",
     "start_time": "2024-09-26T06:35:12.584209Z"
    }
   },
   "id": "e8c85922029028b0"
  },
  {
   "cell_type": "code",
   "execution_count": 4,
   "outputs": [
    {
     "name": "stdout",
     "output_type": "stream",
     "text": [
      "[('i went to the vehicle', 0.7441647052764893), ('i went to the truck', 0.28326916694641113), ('i went to the shop', 0.19732816517353058), ('i went to the park', 0.151014044880867)]\n"
     ]
    }
   ],
   "source": [
    "# Rank documents based on their similarity to a query\n",
    "query = \"i went to the car\"\n",
    "candidates = [\"i went to the park\", \"i went to the shop\", \"i went to the truck\", \"i went to the vehicle\"]\n",
    "ranked_docs = wl.rank(query, candidates)\n",
    "print(ranked_docs)\n",
    "# Output:\n",
    "# [\n",
    "#   ('i went to the vehicle', 0.7441646856486314),\n",
    "#   ('i went to the truck', 0.2832691551894259),\n",
    "#   ('i went to the shop', 0.19732814982305436),\n",
    "#   ('i went to the park', 0.15101404519322253)\n",
    "# ]"
   ],
   "metadata": {
    "collapsed": false,
    "ExecuteTime": {
     "end_time": "2024-09-26T06:35:12.601655Z",
     "start_time": "2024-09-26T06:35:12.597491Z"
    }
   },
   "id": "1f58a4d54390b862"
  },
  {
   "cell_type": "code",
   "execution_count": 5,
   "outputs": [
    {
     "name": "stdout",
     "output_type": "stream",
     "text": [
      "Tokens :  [Encoding(num_tokens=5, attributes=[ids, type_ids, tokens, offsets, attention_mask, special_tokens_mask, overflowing])]\n"
     ]
    }
   ],
   "source": [
    "sentence = \"I like tigers\"\n",
    "tokens = wl.tokenize(sentence)\n",
    "print(\"Tokens : \",tokens)"
   ],
   "metadata": {
    "collapsed": false,
    "ExecuteTime": {
     "end_time": "2024-09-26T06:35:12.607394Z",
     "start_time": "2024-09-26T06:35:12.602032Z"
    }
   },
   "id": "91d9537b6259008a"
  },
  {
   "cell_type": "code",
   "execution_count": 6,
   "outputs": [],
   "source": [
    "w1 = WordLlama.load(dim = 64)\n",
    "embeddings = wl.embed([\"the quick brown fox jumps over the lazy dog\"])"
   ],
   "metadata": {
    "collapsed": false,
    "ExecuteTime": {
     "end_time": "2024-09-26T06:35:12.657594Z",
     "start_time": "2024-09-26T06:35:12.605487Z"
    }
   },
   "id": "9b3fe570862170b4"
  },
  {
   "cell_type": "code",
   "execution_count": 7,
   "outputs": [
    {
     "data": {
      "text/plain": "array([[ 0.12470592, -0.07770053,  0.02884188,  0.21934648,  0.18028675,\n        -0.12956376, -0.04828436,  0.41509733,  0.07201316,  0.13917126,\n         0.0855602 ,  0.12068315,  0.12699752,  0.11927379,  0.00974343,\n        -0.564209  , -0.1578487 ,  0.03860474, -0.07334492, -0.26644066,\n        -0.5641868 , -0.32762977, -0.38049594,  0.21294056,  0.08007257,\n         0.16110507, -0.00196422,  0.3599271 ,  0.0900435 ,  0.17322887,\n         0.29006264, -0.29262888,  0.41510564,  0.15712148, -0.02885853,\n        -0.11202171,  0.06890869, -0.03536294, -0.06598455,  0.24811624,\n        -0.20313574, -0.30398142,  0.07795299, -0.42450505,  0.10664229,\n         0.7530911 ,  0.02276056,  0.12312213, -0.3221824 ,  0.15558554,\n         0.29816782, -0.02808033, -0.05978116,  0.20450106, -0.4262626 ,\n        -0.14082475,  0.22328836, -0.3291959 , -0.18767756, -0.29354027,\n        -0.5189202 , -0.4972867 , -0.12053888,  0.11252386,  0.37966537,\n         0.06360973,  0.01867121,  0.21732955, -0.39893687,  0.26796237,\n         0.09808905,  0.25978783, -0.15599476,  0.14596003, -0.04862647,\n        -0.22363836,  0.07302024, -0.03244157,  0.0918912 , -0.10135026,\n        -0.12124911, -0.10852051, -0.13210227,  0.19558993,  0.25129282,\n        -0.18470348, -0.16397928,  0.11701588, -0.18841499, -0.2556291 ,\n        -0.24492298, -0.11049583, -0.17598933, -0.63474345,  0.11593211,\n         0.20251465,  0.31690007, -0.18731135, -0.39303312,  0.03940929,\n         0.05885384, -0.07780873, -0.09028487, -0.39690053, -0.00152033,\n        -0.12949996,  0.20372425, -0.09125865, -0.07005033, -0.05027632,\n         0.21303211, -0.05031516,  0.11172208, -0.26428223,  0.18163681,\n        -0.18314986, -0.0664274 , -0.08056593,  0.29641724, -0.2249631 ,\n        -0.12847346,  0.1861073 ,  0.1784224 , -0.20789823,  0.3919714 ,\n        -0.01156339, -0.07397461,  0.11803228,  0.36029053, -0.1359683 ,\n        -0.2566022 ,  0.07364862, -0.2049616 , -0.23630315, -0.15887763,\n        -0.03775891, -0.60336167, -0.22333318,  0.06940114,  0.20417093,\n         0.02271063, -0.29003352, -0.31609553, -0.2742809 , -0.1886125 ,\n         0.01975874,  0.1460072 ,  0.03022905, -0.30294523, -0.00695801,\n         0.04454179,  0.04566609, -0.04094735,  0.07556291,  0.09953863,\n         0.01549842, -0.03300892,  0.01477883, -0.11453524,  0.38575885,\n         0.20612127,  0.04058838, -0.02084073,  0.12100636,  0.04631875,\n        -0.4596835 , -0.12918368,  0.0933935 ,  0.00744351, -0.1395985 ,\n        -0.35909757, -0.49429876,  0.19655262,  0.05232377,  0.1015521 ,\n        -0.03492875, -0.1147128 , -0.0022042 ,  0.3891879 ,  0.0613549 ,\n         0.07294187,  0.38040993, -0.14135188, -0.71638626, -0.15086989,\n        -0.03170499,  0.20356517,  0.01392711, -0.09627533, -0.11917391,\n        -0.12994385, -0.29707476,  0.168916  , -0.31402034, -0.03554743,\n         0.36131704, -0.0547305 , -0.08199796,  0.04962713,  0.05812766,\n         0.10431463, -0.19736551,  0.05404663,  0.23143421,  0.45016757,\n         0.12926136, -0.09164984, -0.07488459,  0.10027383,  0.05425193,\n        -0.00681097, -0.15120688, -0.09306752, -0.3146307 ,  0.16747493,\n         0.08745506,  0.11531483, -0.10643422,  0.3224959 ,  0.35251132,\n         0.08725808,  0.39678538,  0.20695357,  0.12936713,  0.14618474,\n         0.37677556,  0.22837137, -0.15774259,  0.30187988, -0.31389132,\n         0.10922518, -0.27945778, -0.26754484, -0.39728528,  0.11088423,\n         0.0815069 , -0.10926957, -0.20148087, -0.11089533, -0.25646973,\n         0.14915466, -0.1782504 , -0.19422497,  0.01795543, -0.4674752 ,\n        -0.33385327, -0.09153609, -0.25652522,  0.42913958, -0.20297796,\n         0.24771118, -0.13008708,  0.511974  ,  0.07592773, -0.07628285,\n        -0.11997847]], dtype=float32)"
     },
     "execution_count": 7,
     "metadata": {},
     "output_type": "execute_result"
    }
   ],
   "source": [
    "embeddings"
   ],
   "metadata": {
    "collapsed": false,
    "ExecuteTime": {
     "end_time": "2024-09-26T06:35:12.663432Z",
     "start_time": "2024-09-26T06:35:12.659516Z"
    }
   },
   "id": "5a062a7381ac55a3"
  },
  {
   "cell_type": "code",
   "execution_count": 8,
   "outputs": [
    {
     "name": "stderr",
     "output_type": "stream",
     "text": [
      "huggingface/tokenizers: The current process just got forked, after parallelism has already been used. Disabling parallelism to avoid deadlocks...\n",
      "To disable this warning, you can either:\n",
      "\t- Avoid using `tokenizers` before the fork if possible\n",
      "\t- Explicitly set the environment variable TOKENIZERS_PARALLELISM=(true | false)\n"
     ]
    }
   ],
   "source": [
    "import torch\n",
    "import pandas as pd\n",
    "import numpy as np\n",
    "from sklearn.metrics.pairwise import cosine_similarity\n"
   ],
   "metadata": {
    "collapsed": false,
    "ExecuteTime": {
     "end_time": "2024-09-26T06:35:14.381284Z",
     "start_time": "2024-09-26T06:35:12.662467Z"
    }
   },
   "id": "8eb9c8506150cf66"
  },
  {
   "cell_type": "code",
   "execution_count": 9,
   "outputs": [],
   "source": [
    "from transformers import AutoTokenizer,AutoModel"
   ],
   "metadata": {
    "collapsed": false,
    "ExecuteTime": {
     "end_time": "2024-09-26T06:35:14.655011Z",
     "start_time": "2024-09-26T06:35:14.381969Z"
    }
   },
   "id": "bcdd9713ae8097fa"
  },
  {
   "cell_type": "code",
   "execution_count": 10,
   "outputs": [],
   "source": [
    "# dataset we want embeddings for\n",
    "data = pd.DataFrame({\n",
    "    'title': [\n",
    "        'Infringement of Copyright: Legal Proceedings and Remedies',\n",
    "        'Harnessing Hugging Face: Revolutionizing NLP with Transformers Library',\n",
    "        'Patent Breach Litigation: Analysis and Enforcement Strategies',\n",
    "        'Quantum Computing Unleashed: Breaking Down Complexities',\n",
    "        'Microbiome Mysteries: Unlocking Gut Health Secrets',\n",
    "        'Solar Power Surge: Illuminating Renewable Energys Future'],\n",
    "    'content': [\n",
    "        'This document addresses the legal framework surrounding copyright violation, including statutory damages, injunctive relief, and defendant liabilities....',\n",
    "        'Explore how Hugging Faces Transformers library is transforming NLP. Unmatched ease-of-use, advanced models, and community-driven innovation redefine AIs future...',\n",
    "        'Detailing patent infringement cases, this brief explores judicial remedies, infringement criteria, and defense strategies in patent law...',\n",
    "        'Demystifying quantum computings complexities. Insight into qubits, quantum supremacy, and its potential to revolutionize technology....',\n",
    "        'Exploring the gut microbiomes impact on health. New research unveils links between bacteria diversity and disease prevention...',\n",
    "        'Analyzing solar energys rapid growth. Innovations in photovoltaic technology and global impact on sustainable energy shift...']\n",
    "})"
   ],
   "metadata": {
    "collapsed": false,
    "ExecuteTime": {
     "end_time": "2024-09-26T06:35:14.660799Z",
     "start_time": "2024-09-26T06:35:14.658999Z"
    }
   },
   "id": "23629f73a2aa00e6"
  },
  {
   "cell_type": "code",
   "execution_count": 11,
   "outputs": [],
   "source": [
    "tokenizer = AutoTokenizer.from_pretrained('sentence-transformers/paraphrase-distilroberta-base-v2')\n",
    "model = AutoModel.from_pretrained('sentence-transformers/paraphrase-distilroberta-base-v2')\n"
   ],
   "metadata": {
    "collapsed": false,
    "ExecuteTime": {
     "end_time": "2024-09-26T06:35:16.915130Z",
     "start_time": "2024-09-26T06:35:14.661218Z"
    }
   },
   "id": "e55f02f61cc5cc11"
  },
  {
   "cell_type": "code",
   "execution_count": 12,
   "outputs": [
    {
     "data": {
      "text/plain": "                                               title  \\\n0  Infringement of Copyright: Legal Proceedings a...   \n1  Harnessing Hugging Face: Revolutionizing NLP w...   \n2  Patent Breach Litigation: Analysis and Enforce...   \n3  Quantum Computing Unleashed: Breaking Down Com...   \n4  Microbiome Mysteries: Unlocking Gut Health Sec...   \n5  Solar Power Surge: Illuminating Renewable Ener...   \n\n                                             content  \n0  This document addresses the legal framework su...  \n1  Explore how Hugging Faces Transformers library...  \n2  Detailing patent infringement cases, this brie...  \n3  Demystifying quantum computings complexities. ...  \n4  Exploring the gut microbiomes impact on health...  \n5  Analyzing solar energys rapid growth. Innovati...  ",
      "text/html": "<div>\n<style scoped>\n    .dataframe tbody tr th:only-of-type {\n        vertical-align: middle;\n    }\n\n    .dataframe tbody tr th {\n        vertical-align: top;\n    }\n\n    .dataframe thead th {\n        text-align: right;\n    }\n</style>\n<table border=\"1\" class=\"dataframe\">\n  <thead>\n    <tr style=\"text-align: right;\">\n      <th></th>\n      <th>title</th>\n      <th>content</th>\n    </tr>\n  </thead>\n  <tbody>\n    <tr>\n      <th>0</th>\n      <td>Infringement of Copyright: Legal Proceedings a...</td>\n      <td>This document addresses the legal framework su...</td>\n    </tr>\n    <tr>\n      <th>1</th>\n      <td>Harnessing Hugging Face: Revolutionizing NLP w...</td>\n      <td>Explore how Hugging Faces Transformers library...</td>\n    </tr>\n    <tr>\n      <th>2</th>\n      <td>Patent Breach Litigation: Analysis and Enforce...</td>\n      <td>Detailing patent infringement cases, this brie...</td>\n    </tr>\n    <tr>\n      <th>3</th>\n      <td>Quantum Computing Unleashed: Breaking Down Com...</td>\n      <td>Demystifying quantum computings complexities. ...</td>\n    </tr>\n    <tr>\n      <th>4</th>\n      <td>Microbiome Mysteries: Unlocking Gut Health Sec...</td>\n      <td>Exploring the gut microbiomes impact on health...</td>\n    </tr>\n    <tr>\n      <th>5</th>\n      <td>Solar Power Surge: Illuminating Renewable Ener...</td>\n      <td>Analyzing solar energys rapid growth. Innovati...</td>\n    </tr>\n  </tbody>\n</table>\n</div>"
     },
     "execution_count": 12,
     "metadata": {},
     "output_type": "execute_result"
    }
   ],
   "source": [
    "data"
   ],
   "metadata": {
    "collapsed": false,
    "ExecuteTime": {
     "end_time": "2024-09-26T06:35:16.924620Z",
     "start_time": "2024-09-26T06:35:16.916090Z"
    }
   },
   "id": "1226ca244ba4a245"
  },
  {
   "cell_type": "code",
   "execution_count": 31,
   "outputs": [
    {
     "name": "stdout",
     "output_type": "stream",
     "text": [
      "                                               title  \\\n",
      "0  Infringement of Copyright: Legal Proceedings a...   \n",
      "1  Patent Breach Litigation: Analysis and Enforce...   \n",
      "2  Harnessing Hugging Face: Revolutionizing NLP w...   \n",
      "\n",
      "                                             content  similarity  \n",
      "0  This document addresses the legal framework su...    0.614404  \n",
      "1  Detailing patent infringement cases, this brie...    0.503443  \n",
      "2  Explore how Hugging Faces Transformers library...    0.100846  \n"
     ]
    }
   ],
   "source": [
    "query = \"intellectual property infringement\"\n",
    "def search(query, top_n=5):\n",
    "    query_embeddings = get_embedding(tokenizer, model, [query])\n",
    "    similarities = cosine_similarity(query_embeddings, sentence_embeddings)\n",
    "    top_indices = np.argsort(-similarities[0])[:top_n]\n",
    "    top_results = data.iloc[top_indices].reset_index(drop=True)\n",
    "    top_results['similarity'] = similarities[0][top_indices]\n",
    "    return top_results\n",
    "results = search(query, top_n=3)\n",
    "print(results)"
   ],
   "metadata": {
    "collapsed": false,
    "ExecuteTime": {
     "end_time": "2024-09-26T06:39:26.962808Z",
     "start_time": "2024-09-26T06:39:26.873582Z"
    }
   },
   "id": "aa6e34d416368c09"
  },
  {
   "cell_type": "code",
   "execution_count": 13,
   "outputs": [
    {
     "data": {
      "text/plain": "['This document addresses the legal framework surrounding copyright violation, including statutory damages, injunctive relief, and defendant liabilities....',\n 'Explore how Hugging Faces Transformers library is transforming NLP. Unmatched ease-of-use, advanced models, and community-driven innovation redefine AIs future...',\n 'Detailing patent infringement cases, this brief explores judicial remedies, infringement criteria, and defense strategies in patent law...',\n 'Demystifying quantum computings complexities. Insight into qubits, quantum supremacy, and its potential to revolutionize technology....',\n 'Exploring the gut microbiomes impact on health. New research unveils links between bacteria diversity and disease prevention...',\n 'Analyzing solar energys rapid growth. Innovations in photovoltaic technology and global impact on sustainable energy shift...']"
     },
     "execution_count": 13,
     "metadata": {},
     "output_type": "execute_result"
    }
   ],
   "source": [
    "data['content'].tolist()"
   ],
   "metadata": {
    "collapsed": false,
    "ExecuteTime": {
     "end_time": "2024-09-26T06:35:16.931824Z",
     "start_time": "2024-09-26T06:35:16.924228Z"
    }
   },
   "id": "243a2a552da6b4a5"
  },
  {
   "cell_type": "code",
   "execution_count": 14,
   "outputs": [
    {
     "name": "stdout",
     "output_type": "stream",
     "text": [
      "Tokens:\n",
      "['This', 'Ġdocument', 'Ġaddresses', 'Ġthe', 'Ġlegal', 'Ġframework', 'Ġsurrounding', 'Ġcopyright', 'Ġviolation', ',', 'Ġincluding', 'Ġstatutory', 'Ġdamages', ',', 'Ġinj', 'un', 'ctive', 'Ġrelief', ',', 'Ġand', 'Ġdefendant', 'Ġliabilities', '....']\n"
     ]
    }
   ],
   "source": [
    "# Print tokens\n",
    "print(\"Tokens:\")\n",
    "print(tokenizer.tokenize(data['content'].tolist()[0]))"
   ],
   "metadata": {
    "collapsed": false,
    "ExecuteTime": {
     "end_time": "2024-09-26T06:35:16.937580Z",
     "start_time": "2024-09-26T06:35:16.928382Z"
    }
   },
   "id": "aa8418a8041f968c"
  },
  {
   "cell_type": "code",
   "execution_count": 15,
   "outputs": [
    {
     "data": {
      "text/plain": "{'input_ids': tensor([[    0,   713,  3780,  8480,     5,  1030,  7208,  3817,  4857,  4565,\n             6,   217, 17947,  8357,     6, 30272,   879, 32740,  3500,     6,\n             8,  9191, 13189, 17220,     2]]), 'attention_mask': tensor([[1, 1, 1, 1, 1, 1, 1, 1, 1, 1, 1, 1, 1, 1, 1, 1, 1, 1, 1, 1, 1, 1, 1, 1,\n         1]])}"
     },
     "execution_count": 15,
     "metadata": {},
     "output_type": "execute_result"
    }
   ],
   "source": [
    "tokenizer(data['content'][0],padding=True, truncation=True, return_tensors='pt')"
   ],
   "metadata": {
    "collapsed": false,
    "ExecuteTime": {
     "end_time": "2024-09-26T06:35:16.998923Z",
     "start_time": "2024-09-26T06:35:16.934922Z"
    }
   },
   "id": "5cdef9aefdc554f7"
  },
  {
   "cell_type": "code",
   "execution_count": 16,
   "outputs": [],
   "source": [
    "#Mean Pooling - Take attention mask into account for correct averaging\n",
    "def mean_pooling(model_output, attention_mask):\n",
    "    token_embeddings = model_output[0] #First element of model_output contains all token embeddings\n",
    "    input_mask_expanded = attention_mask.unsqueeze(-1).expand(token_embeddings.size()).float()\n",
    "    return torch.sum(token_embeddings * input_mask_expanded, 1) / torch.clamp(input_mask_expanded.sum(1), min=1e-9)\n",
    "\n",
    "def get_embedding(tokenizer, model, data):\n",
    "\n",
    "    # Tokenize sentences\n",
    "    encoded_input = tokenizer(data, padding=True, truncation=True, return_tensors='pt')\n",
    "\n",
    "    # Compute token embeddings\n",
    "    with torch.no_grad():\n",
    "        model_output = model(**encoded_input)\n",
    "\n",
    "    # Perform pooling. In this case, max pooling.\n",
    "    return mean_pooling(model_output, encoded_input['attention_mask'])\n",
    "\n",
    "sentence_embeddings = get_embedding(tokenizer, model, data['content'].tolist())"
   ],
   "metadata": {
    "collapsed": false,
    "ExecuteTime": {
     "end_time": "2024-09-26T06:35:17.755284Z",
     "start_time": "2024-09-26T06:35:16.942219Z"
    }
   },
   "id": "c8e435a40fa94f09"
  },
  {
   "cell_type": "code",
   "execution_count": 17,
   "outputs": [],
   "source": [
    "inp = tokenizer(data['content'].tolist(), padding=True, truncation=True, return_tensors = 'pt')"
   ],
   "metadata": {
    "collapsed": false,
    "ExecuteTime": {
     "end_time": "2024-09-26T06:35:17.760275Z",
     "start_time": "2024-09-26T06:35:17.756018Z"
    }
   },
   "id": "1ba929cb9f197fdc"
  },
  {
   "cell_type": "code",
   "execution_count": 18,
   "outputs": [
    {
     "data": {
      "text/plain": "{'input_ids': tensor([[    0,   713,  3780,  8480,     5,  1030,  7208,  3817,  4857,  4565,\n             6,   217, 17947,  8357,     6, 30272,   879, 32740,  3500,     6,\n             8,  9191, 13189, 17220,     2,     1,     1,     1,     1,     1,\n             1,     1,     1,     1,     1,     1],\n        [    0, 47526,   141, 30581,  3923, 38738, 34379,  5560,    16, 17828,\n           234, 21992,     4,  1890, 38331,  5136,    12,  1116,    12,  3698,\n             6,  3319,  3092,     6,     8,   435,    12,  9756,  4695, 28557,\n           833,    83,  6209,   499,   734,     2],\n        [    0, 43170,  8459, 11354, 26461,  1200,     6,    42,  4315, 17384,\n          8252, 26552,     6, 26461,  8608,     6,     8,  1443,  4964,    11,\n         11354,   488,   734,     2,     1,     1,     1,     1,     1,     1,\n             1,     1,     1,     1,     1,     1],\n        [    0,   495, 27171,   620,  4945, 17997, 44316,  1033, 31163,     4,\n         28209,    88,  2677, 32131,     6, 17997, 21030,     6,     8,    63,\n           801,     7,  7977,  2072,   806, 17220,     2,     1,     1,     1,\n             1,     1,     1,     1,     1,     1],\n        [    0, 43043,  5137,     5,  8731, 39998,  9898,   913,    15,   474,\n             4,   188,   557, 36685,  5290,  5678,   227,  9436,  5845,     8,\n          2199,  8555,   734,     2,     1,     1,     1,     1,     1,     1,\n             1,     1,     1,     1,     1,     1],\n        [    0, 41640, 10293,  4118, 15957,  2459,  6379,   434,     4, 20067,\n          1635,    11, 17190,  1417, 11499, 20620,   806,     8,   720,   913,\n            15,  5068,  1007,  3294,   734,     2,     1,     1,     1,     1,\n             1,     1,     1,     1,     1,     1]]), 'attention_mask': tensor([[1, 1, 1, 1, 1, 1, 1, 1, 1, 1, 1, 1, 1, 1, 1, 1, 1, 1, 1, 1, 1, 1, 1, 1,\n         1, 0, 0, 0, 0, 0, 0, 0, 0, 0, 0, 0],\n        [1, 1, 1, 1, 1, 1, 1, 1, 1, 1, 1, 1, 1, 1, 1, 1, 1, 1, 1, 1, 1, 1, 1, 1,\n         1, 1, 1, 1, 1, 1, 1, 1, 1, 1, 1, 1],\n        [1, 1, 1, 1, 1, 1, 1, 1, 1, 1, 1, 1, 1, 1, 1, 1, 1, 1, 1, 1, 1, 1, 1, 1,\n         0, 0, 0, 0, 0, 0, 0, 0, 0, 0, 0, 0],\n        [1, 1, 1, 1, 1, 1, 1, 1, 1, 1, 1, 1, 1, 1, 1, 1, 1, 1, 1, 1, 1, 1, 1, 1,\n         1, 1, 1, 0, 0, 0, 0, 0, 0, 0, 0, 0],\n        [1, 1, 1, 1, 1, 1, 1, 1, 1, 1, 1, 1, 1, 1, 1, 1, 1, 1, 1, 1, 1, 1, 1, 1,\n         0, 0, 0, 0, 0, 0, 0, 0, 0, 0, 0, 0],\n        [1, 1, 1, 1, 1, 1, 1, 1, 1, 1, 1, 1, 1, 1, 1, 1, 1, 1, 1, 1, 1, 1, 1, 1,\n         1, 1, 0, 0, 0, 0, 0, 0, 0, 0, 0, 0]])}"
     },
     "execution_count": 18,
     "metadata": {},
     "output_type": "execute_result"
    }
   ],
   "source": [
    "inp"
   ],
   "metadata": {
    "collapsed": false,
    "ExecuteTime": {
     "end_time": "2024-09-26T06:35:17.765333Z",
     "start_time": "2024-09-26T06:35:17.759794Z"
    }
   },
   "id": "5fa99c258ee2d57b"
  },
  {
   "cell_type": "code",
   "execution_count": 19,
   "outputs": [
    {
     "data": {
      "text/plain": "torch.Size([6, 36])"
     },
     "execution_count": 19,
     "metadata": {},
     "output_type": "execute_result"
    }
   ],
   "source": [
    "inp['attention_mask'].shape"
   ],
   "metadata": {
    "collapsed": false,
    "ExecuteTime": {
     "end_time": "2024-09-26T06:35:17.769180Z",
     "start_time": "2024-09-26T06:35:17.765452Z"
    }
   },
   "id": "3658477764db0aa6"
  },
  {
   "cell_type": "code",
   "execution_count": 20,
   "outputs": [
    {
     "data": {
      "text/plain": "tensor([[1, 1, 1, 1, 1, 1, 1, 1, 1, 1, 1, 1, 1, 1, 1, 1, 1, 1, 1, 1, 1, 1, 1, 1,\n         1, 0, 0, 0, 0, 0, 0, 0, 0, 0, 0, 0],\n        [1, 1, 1, 1, 1, 1, 1, 1, 1, 1, 1, 1, 1, 1, 1, 1, 1, 1, 1, 1, 1, 1, 1, 1,\n         1, 1, 1, 1, 1, 1, 1, 1, 1, 1, 1, 1],\n        [1, 1, 1, 1, 1, 1, 1, 1, 1, 1, 1, 1, 1, 1, 1, 1, 1, 1, 1, 1, 1, 1, 1, 1,\n         0, 0, 0, 0, 0, 0, 0, 0, 0, 0, 0, 0],\n        [1, 1, 1, 1, 1, 1, 1, 1, 1, 1, 1, 1, 1, 1, 1, 1, 1, 1, 1, 1, 1, 1, 1, 1,\n         1, 1, 1, 0, 0, 0, 0, 0, 0, 0, 0, 0],\n        [1, 1, 1, 1, 1, 1, 1, 1, 1, 1, 1, 1, 1, 1, 1, 1, 1, 1, 1, 1, 1, 1, 1, 1,\n         0, 0, 0, 0, 0, 0, 0, 0, 0, 0, 0, 0],\n        [1, 1, 1, 1, 1, 1, 1, 1, 1, 1, 1, 1, 1, 1, 1, 1, 1, 1, 1, 1, 1, 1, 1, 1,\n         1, 1, 0, 0, 0, 0, 0, 0, 0, 0, 0, 0]])"
     },
     "execution_count": 20,
     "metadata": {},
     "output_type": "execute_result"
    }
   ],
   "source": [
    "inp['attention_mask']"
   ],
   "metadata": {
    "collapsed": false,
    "ExecuteTime": {
     "end_time": "2024-09-26T06:35:17.773684Z",
     "start_time": "2024-09-26T06:35:17.769048Z"
    }
   },
   "id": "6ff4f93a159c3426"
  },
  {
   "cell_type": "code",
   "execution_count": 21,
   "outputs": [
    {
     "data": {
      "text/plain": "tensor([[[1],\n         [1],\n         [1],\n         [1],\n         [1],\n         [1],\n         [1],\n         [1],\n         [1],\n         [1],\n         [1],\n         [1],\n         [1],\n         [1],\n         [1],\n         [1],\n         [1],\n         [1],\n         [1],\n         [1],\n         [1],\n         [1],\n         [1],\n         [1],\n         [1],\n         [0],\n         [0],\n         [0],\n         [0],\n         [0],\n         [0],\n         [0],\n         [0],\n         [0],\n         [0],\n         [0]],\n\n        [[1],\n         [1],\n         [1],\n         [1],\n         [1],\n         [1],\n         [1],\n         [1],\n         [1],\n         [1],\n         [1],\n         [1],\n         [1],\n         [1],\n         [1],\n         [1],\n         [1],\n         [1],\n         [1],\n         [1],\n         [1],\n         [1],\n         [1],\n         [1],\n         [1],\n         [1],\n         [1],\n         [1],\n         [1],\n         [1],\n         [1],\n         [1],\n         [1],\n         [1],\n         [1],\n         [1]],\n\n        [[1],\n         [1],\n         [1],\n         [1],\n         [1],\n         [1],\n         [1],\n         [1],\n         [1],\n         [1],\n         [1],\n         [1],\n         [1],\n         [1],\n         [1],\n         [1],\n         [1],\n         [1],\n         [1],\n         [1],\n         [1],\n         [1],\n         [1],\n         [1],\n         [0],\n         [0],\n         [0],\n         [0],\n         [0],\n         [0],\n         [0],\n         [0],\n         [0],\n         [0],\n         [0],\n         [0]],\n\n        [[1],\n         [1],\n         [1],\n         [1],\n         [1],\n         [1],\n         [1],\n         [1],\n         [1],\n         [1],\n         [1],\n         [1],\n         [1],\n         [1],\n         [1],\n         [1],\n         [1],\n         [1],\n         [1],\n         [1],\n         [1],\n         [1],\n         [1],\n         [1],\n         [1],\n         [1],\n         [1],\n         [0],\n         [0],\n         [0],\n         [0],\n         [0],\n         [0],\n         [0],\n         [0],\n         [0]],\n\n        [[1],\n         [1],\n         [1],\n         [1],\n         [1],\n         [1],\n         [1],\n         [1],\n         [1],\n         [1],\n         [1],\n         [1],\n         [1],\n         [1],\n         [1],\n         [1],\n         [1],\n         [1],\n         [1],\n         [1],\n         [1],\n         [1],\n         [1],\n         [1],\n         [0],\n         [0],\n         [0],\n         [0],\n         [0],\n         [0],\n         [0],\n         [0],\n         [0],\n         [0],\n         [0],\n         [0]],\n\n        [[1],\n         [1],\n         [1],\n         [1],\n         [1],\n         [1],\n         [1],\n         [1],\n         [1],\n         [1],\n         [1],\n         [1],\n         [1],\n         [1],\n         [1],\n         [1],\n         [1],\n         [1],\n         [1],\n         [1],\n         [1],\n         [1],\n         [1],\n         [1],\n         [1],\n         [1],\n         [0],\n         [0],\n         [0],\n         [0],\n         [0],\n         [0],\n         [0],\n         [0],\n         [0],\n         [0]]])"
     },
     "execution_count": 21,
     "metadata": {},
     "output_type": "execute_result"
    }
   ],
   "source": [
    "inp['attention_mask'].unsqueeze(-1)"
   ],
   "metadata": {
    "collapsed": false,
    "ExecuteTime": {
     "end_time": "2024-09-26T06:35:17.833488Z",
     "start_time": "2024-09-26T06:35:17.773076Z"
    }
   },
   "id": "3807f7bff551f98"
  },
  {
   "cell_type": "code",
   "execution_count": 22,
   "outputs": [
    {
     "data": {
      "text/plain": "tensor([[[ 0.6608,  0.2613,  0.1324,  ...,  0.2230, -0.1937, -1.0197],\n         [ 0.7567, -0.1329,  0.2798,  ...,  0.6140, -0.0738, -0.6006],\n         [ 1.1379, -0.1067,  0.5074,  ...,  0.9154, -0.2932, -0.5714],\n         ...,\n         [ 0.7455,  0.1351,  0.0986,  ..., -0.4379, -0.1910, -0.7784],\n         [ 0.7455,  0.1351,  0.0986,  ..., -0.4379, -0.1910, -0.7784],\n         [ 0.7455,  0.1351,  0.0986,  ..., -0.4379, -0.1910, -0.7784]],\n\n        [[ 0.4481, -0.2292, -0.0164,  ..., -0.9682, -0.0828,  0.4914],\n         [ 0.1816, -0.9634, -0.2064,  ..., -0.8710,  0.1292,  0.2587],\n         [ 0.4683, -0.6586,  0.0847,  ..., -1.7381,  0.0395,  0.5056],\n         ...,\n         [-0.1308, -0.2025,  0.1954,  ..., -0.9853, -0.0030,  0.0478],\n         [ 0.6509, -0.1785, -0.0460,  ..., -1.3034, -0.1198,  0.7096],\n         [ 0.4321, -0.2406,  0.0156,  ..., -1.0764, -0.0419,  0.5278]],\n\n        [[ 0.5260,  0.8332,  0.0692,  ..., -0.0471, -0.0541, -0.7240],\n         [ 0.4097,  0.2303,  0.6268,  ..., -0.5258, -0.6700, -0.6642],\n         [ 0.4750,  0.4272,  0.6620,  ..., -0.2512, -0.7513, -0.5516],\n         ...,\n         [ 0.5277,  0.7635,  0.2410,  ..., -0.2471, -0.4194, -0.6871],\n         [ 0.5277,  0.7635,  0.2410,  ..., -0.2471, -0.4194, -0.6871],\n         [ 0.5277,  0.7635,  0.2410,  ..., -0.2471, -0.4194, -0.6871]],\n\n        [[ 0.6523,  0.9442, -0.2759,  ..., -0.1363, -0.4516,  0.7550],\n         [ 0.4952,  0.6643,  0.3150,  ..., -0.2801, -0.7944,  0.3816],\n         [ 0.1619,  0.7367,  0.1630,  ..., -1.2557, -0.3385,  0.7925],\n         ...,\n         [ 0.7530,  1.1248,  0.1068,  ...,  0.0192, -0.4703,  0.4712],\n         [ 0.7530,  1.1248,  0.1068,  ...,  0.0192, -0.4703,  0.4712],\n         [ 0.7530,  1.1248,  0.1068,  ...,  0.0192, -0.4703,  0.4712]],\n\n        [[-0.1304, -0.8065, -0.4425,  ...,  0.4128,  0.1844,  0.7616],\n         [-0.1465, -0.6231,  0.0074,  ...,  0.1676,  0.1048,  0.1153],\n         [-0.2231, -0.7161,  0.1490,  ..., -0.0895, -0.1008,  0.1344],\n         ...,\n         [ 0.0114, -0.7442, -0.3301,  ...,  0.1138, -0.0482, -0.0129],\n         [ 0.0114, -0.7442, -0.3301,  ...,  0.1138, -0.0482, -0.0129],\n         [ 0.0114, -0.7442, -0.3301,  ...,  0.1138, -0.0482, -0.0129]],\n\n        [[-0.0113, -0.1711, -0.5284,  ...,  0.8315,  0.2684, -0.2110],\n         [-0.3780, -0.5982, -0.0750,  ...,  0.5405,  0.7331, -1.1025],\n         [-0.3501, -1.0167, -0.0198,  ...,  0.3512,  0.7011, -1.3679],\n         ...,\n         [ 0.0435, -0.3908,  0.2555,  ...,  0.9454,  0.2583, -0.6816],\n         [ 0.0435, -0.3908,  0.2555,  ...,  0.9454,  0.2583, -0.6816],\n         [ 0.0435, -0.3908,  0.2555,  ...,  0.9454,  0.2583, -0.6816]]],\n       grad_fn=<NativeLayerNormBackward0>)"
     },
     "execution_count": 22,
     "metadata": {},
     "output_type": "execute_result"
    }
   ],
   "source": [
    "model(**inp)[0]"
   ],
   "metadata": {
    "collapsed": false,
    "ExecuteTime": {
     "end_time": "2024-09-26T06:35:17.900225Z",
     "start_time": "2024-09-26T06:35:17.778695Z"
    }
   },
   "id": "307a279014d71b26"
  },
  {
   "cell_type": "code",
   "execution_count": 23,
   "outputs": [],
   "source": [
    "token_embedding_size = model(**inp)[0].size()"
   ],
   "metadata": {
    "collapsed": false,
    "ExecuteTime": {
     "end_time": "2024-09-26T06:35:17.970543Z",
     "start_time": "2024-09-26T06:35:17.899830Z"
    }
   },
   "id": "b91b2960c4ba5d5b"
  },
  {
   "cell_type": "code",
   "execution_count": 24,
   "outputs": [
    {
     "data": {
      "text/plain": "torch.Size([6, 36, 768])"
     },
     "execution_count": 24,
     "metadata": {},
     "output_type": "execute_result"
    }
   ],
   "source": [
    "token_embedding_size"
   ],
   "metadata": {
    "collapsed": false,
    "ExecuteTime": {
     "end_time": "2024-09-26T06:35:17.974948Z",
     "start_time": "2024-09-26T06:35:17.968452Z"
    }
   },
   "id": "a05dc2d74c9a61e1"
  },
  {
   "cell_type": "code",
   "execution_count": 25,
   "outputs": [
    {
     "data": {
      "text/plain": "tensor([[[1., 1., 1.,  ..., 1., 1., 1.],\n         [1., 1., 1.,  ..., 1., 1., 1.],\n         [1., 1., 1.,  ..., 1., 1., 1.],\n         ...,\n         [0., 0., 0.,  ..., 0., 0., 0.],\n         [0., 0., 0.,  ..., 0., 0., 0.],\n         [0., 0., 0.,  ..., 0., 0., 0.]],\n\n        [[1., 1., 1.,  ..., 1., 1., 1.],\n         [1., 1., 1.,  ..., 1., 1., 1.],\n         [1., 1., 1.,  ..., 1., 1., 1.],\n         ...,\n         [1., 1., 1.,  ..., 1., 1., 1.],\n         [1., 1., 1.,  ..., 1., 1., 1.],\n         [1., 1., 1.,  ..., 1., 1., 1.]],\n\n        [[1., 1., 1.,  ..., 1., 1., 1.],\n         [1., 1., 1.,  ..., 1., 1., 1.],\n         [1., 1., 1.,  ..., 1., 1., 1.],\n         ...,\n         [0., 0., 0.,  ..., 0., 0., 0.],\n         [0., 0., 0.,  ..., 0., 0., 0.],\n         [0., 0., 0.,  ..., 0., 0., 0.]],\n\n        [[1., 1., 1.,  ..., 1., 1., 1.],\n         [1., 1., 1.,  ..., 1., 1., 1.],\n         [1., 1., 1.,  ..., 1., 1., 1.],\n         ...,\n         [0., 0., 0.,  ..., 0., 0., 0.],\n         [0., 0., 0.,  ..., 0., 0., 0.],\n         [0., 0., 0.,  ..., 0., 0., 0.]],\n\n        [[1., 1., 1.,  ..., 1., 1., 1.],\n         [1., 1., 1.,  ..., 1., 1., 1.],\n         [1., 1., 1.,  ..., 1., 1., 1.],\n         ...,\n         [0., 0., 0.,  ..., 0., 0., 0.],\n         [0., 0., 0.,  ..., 0., 0., 0.],\n         [0., 0., 0.,  ..., 0., 0., 0.]],\n\n        [[1., 1., 1.,  ..., 1., 1., 1.],\n         [1., 1., 1.,  ..., 1., 1., 1.],\n         [1., 1., 1.,  ..., 1., 1., 1.],\n         ...,\n         [0., 0., 0.,  ..., 0., 0., 0.],\n         [0., 0., 0.,  ..., 0., 0., 0.],\n         [0., 0., 0.,  ..., 0., 0., 0.]]])"
     },
     "execution_count": 25,
     "metadata": {},
     "output_type": "execute_result"
    }
   ],
   "source": [
    "inp['attention_mask'].unsqueeze(-1).expand(token_embedding_size).float()"
   ],
   "metadata": {
    "collapsed": false,
    "ExecuteTime": {
     "end_time": "2024-09-26T06:35:17.982065Z",
     "start_time": "2024-09-26T06:35:17.975681Z"
    }
   },
   "id": "20239787334c0e59"
  },
  {
   "cell_type": "code",
   "execution_count": 26,
   "outputs": [
    {
     "data": {
      "text/plain": "0    This document addresses the legal framework su...\n1    Explore how Hugging Faces Transformers library...\n2    Detailing patent infringement cases, this brie...\n3    Demystifying quantum computings complexities. ...\n4    Exploring the gut microbiomes impact on health...\n5    Analyzing solar energys rapid growth. Innovati...\nName: content, dtype: object"
     },
     "execution_count": 26,
     "metadata": {},
     "output_type": "execute_result"
    }
   ],
   "source": [
    "data['content']"
   ],
   "metadata": {
    "collapsed": false,
    "ExecuteTime": {
     "end_time": "2024-09-26T06:35:17.986650Z",
     "start_time": "2024-09-26T06:35:17.984240Z"
    }
   },
   "id": "6db123e4f9fd6c5d"
  },
  {
   "cell_type": "code",
   "execution_count": 27,
   "outputs": [
    {
     "name": "stdout",
     "output_type": "stream",
     "text": [
      "Sentence embeddings:\n",
      "tensor([[ 0.4828,  0.3504,  0.0829,  ...,  0.0499, -0.1595, -0.3722],\n",
      "        [ 0.2384, -0.3978, -0.0407,  ..., -1.2387, -0.1273,  0.3967],\n",
      "        [ 0.4384,  0.6839,  0.1998,  ..., -0.1153, -0.3081, -0.4717],\n",
      "        [ 0.4972,  0.7983,  0.0944,  ..., -0.1175, -0.4632,  0.5812],\n",
      "        [ 0.0112, -0.5605, -0.3236,  ..., -0.0455, -0.0269,  0.3353],\n",
      "        [-0.1307, -0.1798, -0.2947,  ...,  1.0156,  0.3974, -0.4707]])\n"
     ]
    }
   ],
   "source": [
    "print(\"Sentence embeddings:\")\n",
    "print(sentence_embeddings)"
   ],
   "metadata": {
    "collapsed": false,
    "ExecuteTime": {
     "end_time": "2024-09-26T06:35:17.990389Z",
     "start_time": "2024-09-26T06:35:17.987233Z"
    }
   },
   "id": "7ef88f9c79fc5ae1"
  },
  {
   "cell_type": "code",
   "execution_count": 28,
   "outputs": [
    {
     "data": {
      "text/plain": "torch.Size([6, 768])"
     },
     "execution_count": 28,
     "metadata": {},
     "output_type": "execute_result"
    }
   ],
   "source": [
    "sentence_embeddings.shape"
   ],
   "metadata": {
    "collapsed": false,
    "ExecuteTime": {
     "end_time": "2024-09-26T06:35:18.034618Z",
     "start_time": "2024-09-26T06:35:17.994244Z"
    }
   },
   "id": "711a5b29a9bbef6b"
  },
  {
   "cell_type": "code",
   "execution_count": 29,
   "outputs": [
    {
     "name": "stdout",
     "output_type": "stream",
     "text": [
      "                                               title  \\\n",
      "0  Infringement of Copyright: Legal Proceedings a...   \n",
      "1  Patent Breach Litigation: Analysis and Enforce...   \n",
      "2  Harnessing Hugging Face: Revolutionizing NLP w...   \n",
      "3  Quantum Computing Unleashed: Breaking Down Com...   \n",
      "4  Solar Power Surge: Illuminating Renewable Ener...   \n",
      "\n",
      "                                             content  similarity  \n",
      "0  This document addresses the legal framework su...    0.614404  \n",
      "1  Detailing patent infringement cases, this brie...    0.503443  \n",
      "2  Explore how Hugging Faces Transformers library...    0.100846  \n",
      "3  Demystifying quantum computings complexities. ...    0.063512  \n",
      "4  Analyzing solar energys rapid growth. Innovati...    0.007385  \n"
     ]
    }
   ],
   "source": [
    "query = \"intellectual property infringement\"\n",
    "def search(query, top_n=5):\n",
    "    query_embeddings = get_embedding(tokenizer, model, [query])\n",
    "    similarities = cosine_similarity(query_embeddings, sentence_embeddings)\n",
    "    top_indices = np.argsort(-similarities[0])[:top_n]\n",
    "    top_results = data.iloc[top_indices].reset_index(drop=True)\n",
    "    top_results['similarity'] = similarities[0][top_indices]\n",
    "    return top_results\n",
    "results = search(query, top_n=5)\n",
    "print(results)"
   ],
   "metadata": {
    "collapsed": false,
    "ExecuteTime": {
     "end_time": "2024-09-26T06:35:18.062505Z",
     "start_time": "2024-09-26T06:35:17.999198Z"
    }
   },
   "id": "5c8a2d3a0f888bf3"
  },
  {
   "cell_type": "code",
   "execution_count": 29,
   "outputs": [],
   "source": [],
   "metadata": {
    "collapsed": false,
    "ExecuteTime": {
     "end_time": "2024-09-26T06:35:18.067370Z",
     "start_time": "2024-09-26T06:35:18.043994Z"
    }
   },
   "id": "f3703a0fbdd2386b"
  }
 ],
 "metadata": {
  "kernelspec": {
   "display_name": "Python 3",
   "language": "python",
   "name": "python3"
  },
  "language_info": {
   "codemirror_mode": {
    "name": "ipython",
    "version": 2
   },
   "file_extension": ".py",
   "mimetype": "text/x-python",
   "name": "python",
   "nbconvert_exporter": "python",
   "pygments_lexer": "ipython2",
   "version": "2.7.6"
  }
 },
 "nbformat": 4,
 "nbformat_minor": 5
}
