{
 "cells": [
  {
   "cell_type": "markdown",
   "source": [
    "### The Libraries"
   ],
   "metadata": {
    "collapsed": false
   },
   "id": "ce250979706c3cd8"
  },
  {
   "cell_type": "code",
   "execution_count": 144,
   "outputs": [],
   "source": [
    "from pickle import load,dump,HIGHEST_PROTOCOL\n",
    "from numpy import savetxt\n",
    "from numpy.random import shuffle\n",
    "from keras.preprocessing.text import Tokenizer\n",
    "from keras.preprocessing.sequence import pad_sequences\n",
    "from keras.optimizers import Adam\n",
    "from keras.optimizers.schedules import LearningRateSchedule\n",
    "from keras.metrics import Mean\n",
    "from tensorflow import data,train,convert_to_tensor, int64, math, cast,float32, linalg, ones,maximum, newaxis, reduce_sum,equal,argmax,GradientTape,TensorSpec,function,int64,Module,TensorArray\n",
    "from keras.losses import sparse_categorical_crossentropy\n",
    "from keras import Model\n",
    "from keras.layers import Dense, Input\n",
    "from time import time"
   ],
   "metadata": {
    "collapsed": false,
    "ExecuteTime": {
     "end_time": "2025-01-22T04:10:23.020610Z",
     "start_time": "2025-01-22T04:10:23.016636Z"
    }
   },
   "id": "588c9e583f710274"
  },
  {
   "cell_type": "markdown",
   "source": [
    "#### Playing around with the dataset"
   ],
   "metadata": {
    "collapsed": false
   },
   "id": "81d3f6ec824b8c3b"
  },
  {
   "cell_type": "markdown",
   "source": [
    "This dataset is filled with translations of English to German. So it is essentially a neural machine translation dataset  "
   ],
   "metadata": {
    "collapsed": false
   },
   "id": "11f906f27e7f6eab"
  },
  {
   "cell_type": "code",
   "execution_count": 200,
   "id": "initial_id",
   "metadata": {
    "collapsed": true,
    "ExecuteTime": {
     "end_time": "2025-01-22T04:42:40.120760Z",
     "start_time": "2025-01-22T04:42:40.083547Z"
    }
   },
   "outputs": [],
   "source": [
    "clean_dataset = load(open('english-german-both.pkl','rb'))"
   ]
  },
  {
   "cell_type": "code",
   "execution_count": 201,
   "outputs": [
    {
     "data": {
      "text/plain": "array([['i like both', 'ich mag beide'],\n       ['she misses him', 'er fehlt ihr'],\n       ['i followed him', 'ich folgte ihm'],\n       ...,\n       ['tom is cooking', 'tom kocht'],\n       ['youre upset', 'sie sind besturzt'],\n       ['do you see me', 'sehen sie mich']], dtype='<U370')"
     },
     "execution_count": 201,
     "metadata": {},
     "output_type": "execute_result"
    }
   ],
   "source": [
    "clean_dataset"
   ],
   "metadata": {
    "collapsed": false,
    "ExecuteTime": {
     "end_time": "2025-01-22T04:42:40.488074Z",
     "start_time": "2025-01-22T04:42:40.475891Z"
    }
   },
   "id": "7a212d33b747c2be"
  },
  {
   "cell_type": "code",
   "execution_count": 202,
   "outputs": [],
   "source": [
    "sample_dataset = clean_dataset[:6000,:]"
   ],
   "metadata": {
    "collapsed": false,
    "ExecuteTime": {
     "end_time": "2025-01-22T04:42:41.344561Z",
     "start_time": "2025-01-22T04:42:41.338564Z"
    }
   },
   "id": "67bf84e347cbe1bd"
  },
  {
   "cell_type": "code",
   "execution_count": 203,
   "outputs": [
    {
     "data": {
      "text/plain": "array([['i like both', 'ich mag beide'],\n       ['she misses him', 'er fehlt ihr'],\n       ['i followed him', 'ich folgte ihm'],\n       ...,\n       ['open your mouth', 'offnen sie den mund'],\n       ['love is blind', 'liebe ist blind'],\n       ['go home quickly', 'geh schnell nach hause']], dtype='<U370')"
     },
     "execution_count": 203,
     "metadata": {},
     "output_type": "execute_result"
    }
   ],
   "source": [
    "sample_dataset"
   ],
   "metadata": {
    "collapsed": false,
    "ExecuteTime": {
     "end_time": "2025-01-22T04:42:42.736404Z",
     "start_time": "2025-01-22T04:42:42.703836Z"
    }
   },
   "id": "96c6bb80ef360330"
  },
  {
   "cell_type": "code",
   "execution_count": 245,
   "outputs": [
    {
     "data": {
      "text/plain": "array(['<START> tom did do it <EOS>', '<START> it might rain <EOS>',\n       '<START> i was rude <EOS>', ..., '<START> im a teacher <EOS>',\n       '<START> turn it off <EOS>', '<START> i want that <EOS>'],\n      dtype='<U370')"
     },
     "execution_count": 245,
     "metadata": {},
     "output_type": "execute_result"
    }
   ],
   "source": [
    "sample_dataset[:,0]"
   ],
   "metadata": {
    "collapsed": false,
    "ExecuteTime": {
     "end_time": "2025-01-22T05:39:59.715607Z",
     "start_time": "2025-01-22T05:39:59.689003Z"
    }
   },
   "id": "942c9b8219fa63d0"
  },
  {
   "cell_type": "markdown",
   "source": [
    "Need to append start and end tokens for each of the sentences"
   ],
   "metadata": {
    "collapsed": false
   },
   "id": "2f2b42cfebf50417"
  },
  {
   "cell_type": "code",
   "execution_count": 204,
   "outputs": [],
   "source": [
    "for i in range(sample_dataset[:,0].size):\n",
    "    sample_dataset[i, 0] = \"<START> \" + sample_dataset[i, 0] + \" <EOS>\"\n",
    "    sample_dataset[i, 1] = \"<START> \" + sample_dataset[i, 1] + \" <EOS>\""
   ],
   "metadata": {
    "collapsed": false,
    "ExecuteTime": {
     "end_time": "2025-01-22T04:42:44.336979Z",
     "start_time": "2025-01-22T04:42:44.326394Z"
    }
   },
   "id": "b7a6cefe936d7e74"
  },
  {
   "cell_type": "code",
   "execution_count": 205,
   "outputs": [
    {
     "data": {
      "text/plain": "array([['<START> i like both <EOS>', '<START> ich mag beide <EOS>'],\n       ['<START> she misses him <EOS>', '<START> er fehlt ihr <EOS>'],\n       ['<START> i followed him <EOS>', '<START> ich folgte ihm <EOS>'],\n       ...,\n       ['<START> open your mouth <EOS>',\n        '<START> offnen sie den mund <EOS>'],\n       ['<START> love is blind <EOS>', '<START> liebe ist blind <EOS>'],\n       ['<START> go home quickly <EOS>',\n        '<START> geh schnell nach hause <EOS>']], dtype='<U370')"
     },
     "execution_count": 205,
     "metadata": {},
     "output_type": "execute_result"
    }
   ],
   "source": [
    "sample_dataset"
   ],
   "metadata": {
    "collapsed": false,
    "ExecuteTime": {
     "end_time": "2025-01-22T04:42:44.699444Z",
     "start_time": "2025-01-22T04:42:44.682048Z"
    }
   },
   "id": "f74a5b7d0abb89ea"
  },
  {
   "cell_type": "code",
   "execution_count": 206,
   "outputs": [],
   "source": [
    "shuffle(sample_dataset)"
   ],
   "metadata": {
    "collapsed": false,
    "ExecuteTime": {
     "end_time": "2025-01-22T04:42:45.182080Z",
     "start_time": "2025-01-22T04:42:45.179942Z"
    }
   },
   "id": "da18543b64bcbab2"
  },
  {
   "cell_type": "code",
   "execution_count": 207,
   "outputs": [
    {
     "data": {
      "text/plain": "array([['<START> tom did do it <EOS>',\n        '<START> doch tom hat es gemacht <EOS>'],\n       ['<START> it might rain <EOS>', '<START> es konnte regnen <EOS>'],\n       ['<START> i was rude <EOS>', '<START> ich war ruppig <EOS>'],\n       ...,\n       ['<START> im a teacher <EOS>', '<START> ich bin lehrerin <EOS>'],\n       ['<START> turn it off <EOS>', '<START> mach ihn aus <EOS>'],\n       ['<START> i want that <EOS>', '<START> ich will das <EOS>']],\n      dtype='<U370')"
     },
     "execution_count": 207,
     "metadata": {},
     "output_type": "execute_result"
    }
   ],
   "source": [
    "sample_dataset"
   ],
   "metadata": {
    "collapsed": false,
    "ExecuteTime": {
     "end_time": "2025-01-22T04:42:45.664116Z",
     "start_time": "2025-01-22T04:42:45.651942Z"
    }
   },
   "id": "bfe303ae772d44ad"
  },
  {
   "cell_type": "markdown",
   "source": [
    "### The task starts !!! "
   ],
   "metadata": {
    "collapsed": false
   },
   "id": "e149cb0c6aa72a98"
  },
  {
   "cell_type": "markdown",
   "source": [
    "#### Prepare Dataset Class"
   ],
   "metadata": {
    "collapsed": false
   },
   "id": "33ec9ebe11899902"
  },
  {
   "cell_type": "markdown",
   "source": [
    "Creating the prepare dataset class which preprocesses and splits our dataset"
   ],
   "metadata": {
    "collapsed": false
   },
   "id": "96fbf9295560e3d"
  },
  {
   "cell_type": "code",
   "execution_count": 218,
   "outputs": [],
   "source": [
    "class PrepareDataset:\n",
    "    def __init__(self,**kwargs):\n",
    "        super().__init__(**kwargs)\n",
    "        self.n_sentences = 10000 # Number of sentences to include in the dataset\n",
    "        self.train_split = 0.8  # Ratio of the training data split\n",
    "        self.val_split = 0.1 # Ratio of the validation data split\n",
    "    \n",
    "    # Fit a tokenizer\n",
    "    def create_tokenizer(self, dataset):\n",
    "        tokenizer = Tokenizer()\n",
    "        tokenizer.fit_on_texts(dataset)\n",
    "        return tokenizer\n",
    "    \n",
    "    def find_seq_length(self, dataset):\n",
    "        return max(len(seq.split()) for seq in dataset)\n",
    "    \n",
    "    def find_vocab_size(self, tokenizer, dataset):\n",
    "        tokenizer.fit_on_texts(dataset)\n",
    "        return len(tokenizer.word_index) + 1\n",
    "\n",
    "    # Encode and pad the input sequences\n",
    "    def encode_pad(self, dataset, tokenizer, seq_length):\n",
    "        x = tokenizer.texts_to_sequences(dataset)\n",
    "        x = pad_sequences(x, maxlen=seq_length, padding='post')\n",
    "        x = convert_to_tensor(x, dtype=int64)\n",
    "        return x\n",
    "    \n",
    "    def save_tokenizer(self, tokenizer, name):\n",
    "        with open(name + '_tokenizer.pkl', 'wb') as handle:\n",
    "            dump(tokenizer, handle, protocol=HIGHEST_PROTOCOL)\n",
    "    \n",
    "    def __call__(self, filename, **kwargs):\n",
    "        # Load a clean dataset\n",
    "        clean_dataset = load(open(filename, 'rb'))\n",
    "        \n",
    "        # Reduce dataset size\n",
    "        dataset = clean_dataset[:self.n_sentences,:]\n",
    "        \n",
    "        # Including the start and end tokens\n",
    "        for i in range(dataset[:,0].size):\n",
    "            dataset[i, 0] = \"<START> \" + dataset[i, 0] + \" <EOS>\"\n",
    "            dataset[i, 1] = \"<START> \" + dataset[i, 1] + \" <EOS>\"\n",
    "        \n",
    "        # Random shuffle\n",
    "        shuffle(dataset)\n",
    "        \n",
    "        # Split the dataset\n",
    "        train = dataset[:int(self.n_sentences * self.train_split)]\n",
    "        val = dataset[int(self.n_sentences * self.train_split):int(self.n_sentences * (1-self.val_split))]\n",
    "        test = dataset[int(self.n_sentences * (1 - self.val_split)):]\n",
    "        \n",
    "        # Prepare tokenizer for the encoder input\n",
    "        enc_tokenizer = self.create_tokenizer(dataset[:,0])\n",
    "        enc_seq_length = self.find_seq_length(dataset[:,0])\n",
    "        enc_vocab_size = self.find_vocab_size(enc_tokenizer, train[:, 0])\n",
    "        \n",
    "         # Prepare tokenizer for the decoder input\n",
    "        dec_tokenizer = self.create_tokenizer(dataset[:, 1])\n",
    "        dec_seq_length = self.find_seq_length(dataset[:, 1])\n",
    "        dec_vocab_size = self.find_vocab_size(dec_tokenizer, train[:, 1])\n",
    "        \n",
    "        # Encode and pad the input sequences\n",
    "        trainX = self.encode_pad(train[:, 0], enc_tokenizer, enc_seq_length)\n",
    "        trainY = self.encode_pad(train[:, 1], dec_tokenizer, dec_seq_length)\n",
    "        \n",
    "        \n",
    "        # Encode and pad the validation input\n",
    "        valX = self.encode_pad(val[:, 0], enc_tokenizer, enc_seq_length)\n",
    "        valY = self.encode_pad(val[:, 1], dec_tokenizer, dec_seq_length)\n",
    "        \n",
    "        \n",
    "        # Save the encoder tokenizer\n",
    "        self.save_tokenizer(enc_tokenizer, 'enc')\n",
    "        # Save the decoder tokenizer\n",
    "        self.save_tokenizer(dec_tokenizer, 'dec')\n",
    "        # Save the testing dataset into a text file\n",
    "        savetxt('test_dataset.txt', test, fmt='%s')\n",
    "    \n",
    "        return (trainX, trainY,valX,valY, train,val, enc_seq_length, dec_seq_length,enc_vocab_size, dec_vocab_size)"
   ],
   "metadata": {
    "collapsed": false,
    "ExecuteTime": {
     "end_time": "2025-01-22T04:56:28.559927Z",
     "start_time": "2025-01-22T04:56:28.551701Z"
    }
   },
   "id": "9c359e337a4bcec1"
  },
  {
   "cell_type": "code",
   "execution_count": 219,
   "outputs": [],
   "source": [
    "dataset = PrepareDataset()"
   ],
   "metadata": {
    "collapsed": false,
    "ExecuteTime": {
     "end_time": "2025-01-22T04:56:29.013777Z",
     "start_time": "2025-01-22T04:56:29.007719Z"
    }
   },
   "id": "7e9f43342548fa9b"
  },
  {
   "cell_type": "code",
   "execution_count": 220,
   "outputs": [
    {
     "name": "stdout",
     "output_type": "stream",
     "text": [
      "<START> she needs it <EOS> \n",
      " tf.Tensor([  1  26 273   6   2   0   0], shape=(7,), dtype=int64)\n"
     ]
    }
   ],
   "source": [
    "trainX, trainY, ValX,ValY,train_orig,Val_orig, enc_seq_length, dec_seq_length,enc_vocab_size, dec_vocab_size = dataset('english-german-both.pkl')\n",
    "print(train_orig[0, 0], '\\n', trainX[0, :])"
   ],
   "metadata": {
    "collapsed": false,
    "ExecuteTime": {
     "end_time": "2025-01-22T04:56:29.800013Z",
     "start_time": "2025-01-22T04:56:29.427530Z"
    }
   },
   "id": "4a84aba87ace8868"
  },
  {
   "cell_type": "code",
   "execution_count": 221,
   "outputs": [
    {
     "data": {
      "text/plain": "2404"
     },
     "execution_count": 221,
     "metadata": {},
     "output_type": "execute_result"
    }
   ],
   "source": [
    "enc_vocab_size"
   ],
   "metadata": {
    "collapsed": false,
    "ExecuteTime": {
     "end_time": "2025-01-22T04:56:30.327857Z",
     "start_time": "2025-01-22T04:56:30.321564Z"
    }
   },
   "id": "874c27f90540e8a2"
  },
  {
   "cell_type": "code",
   "execution_count": 222,
   "outputs": [
    {
     "data": {
      "text/plain": "3864"
     },
     "execution_count": 222,
     "metadata": {},
     "output_type": "execute_result"
    }
   ],
   "source": [
    "dec_vocab_size"
   ],
   "metadata": {
    "collapsed": false,
    "ExecuteTime": {
     "end_time": "2025-01-22T04:56:31.307858Z",
     "start_time": "2025-01-22T04:56:31.301353Z"
    }
   },
   "id": "9a41941083556852"
  },
  {
   "cell_type": "code",
   "execution_count": 223,
   "outputs": [
    {
     "data": {
      "text/plain": "7"
     },
     "execution_count": 223,
     "metadata": {},
     "output_type": "execute_result"
    }
   ],
   "source": [
    "enc_seq_length"
   ],
   "metadata": {
    "collapsed": false,
    "ExecuteTime": {
     "end_time": "2025-01-22T04:56:34.301474Z",
     "start_time": "2025-01-22T04:56:34.286381Z"
    }
   },
   "id": "50404633f8a44050"
  },
  {
   "cell_type": "code",
   "execution_count": 224,
   "outputs": [
    {
     "data": {
      "text/plain": "12"
     },
     "execution_count": 224,
     "metadata": {},
     "output_type": "execute_result"
    }
   ],
   "source": [
    "dec_seq_length"
   ],
   "metadata": {
    "collapsed": false,
    "ExecuteTime": {
     "end_time": "2025-01-22T04:56:34.773084Z",
     "start_time": "2025-01-22T04:56:34.766910Z"
    }
   },
   "id": "8583e218469c03cd"
  },
  {
   "cell_type": "code",
   "execution_count": 105,
   "outputs": [
    {
     "data": {
      "text/plain": "array([['<START> good for you <EOS>', '<START> schon fur sie <EOS>'],\n       ['<START> toms thirsty <EOS>', '<START> tom hat durst <EOS>'],\n       ['<START> tom will cook <EOS>', '<START> tom wird kochen <EOS>'],\n       ...,\n       ['<START> cut the engine <EOS>',\n        '<START> mach den motor aus <EOS>'],\n       ['<START> toms great <EOS>', '<START> tom ist toll <EOS>'],\n       ['<START> im very cold <EOS>', '<START> mir ist sehr kalt <EOS>']],\n      dtype='<U370')"
     },
     "execution_count": 105,
     "metadata": {},
     "output_type": "execute_result"
    }
   ],
   "source": [
    "train_orig"
   ],
   "metadata": {
    "collapsed": false,
    "ExecuteTime": {
     "end_time": "2025-01-22T04:02:45.956798Z",
     "start_time": "2025-01-22T04:02:45.951022Z"
    }
   },
   "id": "1da978fdc2377b4f"
  },
  {
   "cell_type": "code",
   "execution_count": 106,
   "outputs": [
    {
     "data": {
      "text/plain": "<tf.Tensor: shape=(8000, 7), dtype=int64, numpy=\narray([[  1, 143,  78, ...,   2,   0,   0],\n       [  1,  45, 347, ...,   0,   0,   0],\n       [  1,   4,  65, ...,   2,   0,   0],\n       ...,\n       [  1, 239,  12, ...,   2,   0,   0],\n       [  1,  45, 319, ...,   0,   0,   0],\n       [  1,  10,  86, ...,   2,   0,   0]])>"
     },
     "execution_count": 106,
     "metadata": {},
     "output_type": "execute_result"
    }
   ],
   "source": [
    "trainX"
   ],
   "metadata": {
    "collapsed": false,
    "ExecuteTime": {
     "end_time": "2025-01-22T04:02:45.964185Z",
     "start_time": "2025-01-22T04:02:45.955515Z"
    }
   },
   "id": "5ab36be200214f92"
  },
  {
   "cell_type": "code",
   "execution_count": 107,
   "outputs": [
    {
     "name": "stdout",
     "output_type": "stream",
     "text": [
      "Encoder sequence length: 7\n"
     ]
    }
   ],
   "source": [
    "print('Encoder sequence length:', enc_seq_length)"
   ],
   "metadata": {
    "collapsed": false,
    "ExecuteTime": {
     "end_time": "2025-01-22T04:02:45.964417Z",
     "start_time": "2025-01-22T04:02:45.959050Z"
    }
   },
   "id": "4e2be2a40b516d4a"
  },
  {
   "cell_type": "code",
   "execution_count": 108,
   "outputs": [
    {
     "name": "stdout",
     "output_type": "stream",
     "text": [
      "<START> schon fur sie <EOS> \n",
      " tf.Tensor([ 1 85 78  6  2  0  0  0  0  0], shape=(10,), dtype=int64)\n"
     ]
    }
   ],
   "source": [
    "print(train_orig[0, 1], '\\n', trainY[0, :])"
   ],
   "metadata": {
    "collapsed": false,
    "ExecuteTime": {
     "end_time": "2025-01-22T04:02:45.964522Z",
     "start_time": "2025-01-22T04:02:45.961900Z"
    }
   },
   "id": "56aa1f7144230087"
  },
  {
   "cell_type": "code",
   "execution_count": 109,
   "outputs": [
    {
     "name": "stdout",
     "output_type": "stream",
     "text": [
      "Decoder sequence length: 10\n"
     ]
    }
   ],
   "source": [
    "print('Decoder sequence length:', dec_seq_length)"
   ],
   "metadata": {
    "collapsed": false,
    "ExecuteTime": {
     "end_time": "2025-01-22T04:02:45.970181Z",
     "start_time": "2025-01-22T04:02:45.965015Z"
    }
   },
   "id": "70b24fa68bc09497"
  },
  {
   "cell_type": "markdown",
   "source": [
    "We must apply a padding value to make sure that the zero values we have appended are not processed incorrectly"
   ],
   "metadata": {
    "collapsed": false
   },
   "id": "6f77b3ff54a9333a"
  },
  {
   "cell_type": "code",
   "execution_count": 110,
   "outputs": [],
   "source": [
    "def padding_mask(input):\n",
    "    # Create mask which marks the zero padding values in the input by a 1\n",
    "    mask = math.equal(input, 0)\n",
    "    mask = cast(mask, float32)\n",
    "    return mask"
   ],
   "metadata": {
    "collapsed": false,
    "ExecuteTime": {
     "end_time": "2025-01-22T04:02:45.970258Z",
     "start_time": "2025-01-22T04:02:45.967460Z"
    }
   },
   "id": "bfbdce9edde687c2"
  },
  {
   "cell_type": "markdown",
   "source": [
    "Upon receiving an input, this function will generate a tensor that marks by a value of one\n",
    "wherever the input contains a value of zero."
   ],
   "metadata": {
    "collapsed": false
   },
   "id": "d0562bd6c0a06e7e"
  },
  {
   "cell_type": "code",
   "execution_count": 111,
   "outputs": [
    {
     "name": "stdout",
     "output_type": "stream",
     "text": [
      "tf.Tensor([0. 0. 0. 0. 1. 1. 1.], shape=(7,), dtype=float32)\n"
     ]
    }
   ],
   "source": [
    "from numpy import array\n",
    "input = array([1, 2, 3, 4, 0, 0, 0])\n",
    "print(padding_mask(input))"
   ],
   "metadata": {
    "collapsed": false,
    "ExecuteTime": {
     "end_time": "2025-01-22T04:02:46.020601Z",
     "start_time": "2025-01-22T04:02:45.969237Z"
    }
   },
   "id": "60d558b0d16f7428"
  },
  {
   "cell_type": "markdown",
   "source": [
    "A look-ahead mask is required to prevent the decoder from attending to succeeding words,\n",
    "such that the prediction for a particular word can only depend on known outputs for the\n",
    "words that come before it."
   ],
   "metadata": {
    "collapsed": false
   },
   "id": "fff2502071aee8d9"
  },
  {
   "cell_type": "code",
   "execution_count": 112,
   "outputs": [],
   "source": [
    "def lookahead_mask(shape):\n",
    "    # Mask out future entries by marking them with a 1.0\n",
    "    mask = 1 - linalg.band_part(ones((shape, shape)), -1, 0)\n",
    "    return mask"
   ],
   "metadata": {
    "collapsed": false,
    "ExecuteTime": {
     "end_time": "2025-01-22T04:02:46.020735Z",
     "start_time": "2025-01-22T04:02:45.994391Z"
    }
   },
   "id": "f846e65a75c2d2f1"
  },
  {
   "cell_type": "code",
   "execution_count": 113,
   "outputs": [
    {
     "name": "stdout",
     "output_type": "stream",
     "text": [
      "tf.Tensor(\n",
      "[[0. 1. 1. 1. 1.]\n",
      " [0. 0. 1. 1. 1.]\n",
      " [0. 0. 0. 1. 1.]\n",
      " [0. 0. 0. 0. 1.]\n",
      " [0. 0. 0. 0. 0.]], shape=(5, 5), dtype=float32)\n"
     ]
    }
   ],
   "source": [
    "print(lookahead_mask(5))"
   ],
   "metadata": {
    "collapsed": false,
    "ExecuteTime": {
     "end_time": "2025-01-22T04:02:46.021217Z",
     "start_time": "2025-01-22T04:02:45.997020Z"
    }
   },
   "id": "327c0891e642831a"
  },
  {
   "cell_type": "markdown",
   "source": [
    "Joining the transformer encoder and decoder module"
   ],
   "metadata": {
    "collapsed": false
   },
   "id": "14bd8dd7a595e80a"
  },
  {
   "cell_type": "code",
   "execution_count": 114,
   "outputs": [],
   "source": [
    "import tensorflow as tf\n",
    "import random\n",
    "import numpy as np\n",
    "from keras.layers import LayerNormalization, Layer, Dense, ReLU, Dropout,TextVectorization, Embedding\n",
    "from keras.backend import softmax \n",
    "from tensorflow import math, matmul, reshape, shape, transpose, cast, float32"
   ],
   "metadata": {
    "collapsed": false,
    "ExecuteTime": {
     "end_time": "2025-01-22T04:02:46.021273Z",
     "start_time": "2025-01-22T04:02:46.009926Z"
    }
   },
   "id": "359bb4b97dc44feb"
  },
  {
   "cell_type": "markdown",
   "source": [
    "### General Modules - Positional embedding, attention, Feed forward layer, Normalization"
   ],
   "metadata": {
    "collapsed": false
   },
   "id": "452922ee585b5024"
  },
  {
   "cell_type": "code",
   "execution_count": 115,
   "outputs": [],
   "source": [
    "class PositionEmbeddingFixedWeights(Layer):\n",
    "    def __init__(self, seq_length, vocab_size, output_dim, **kwargs):\n",
    "        super().__init__(**kwargs)\n",
    "        word_embedding_matrix = self.get_position_encoding(vocab_size, output_dim)\n",
    "        pos_embedding_matrix = self.get_position_encoding(seq_length, output_dim)\n",
    "        self.word_embedding_layer = Embedding(input_dim=vocab_size, output_dim=output_dim,weights=[word_embedding_matrix],trainable=False)\n",
    "        self.position_embedding_layer = Embedding(input_dim=seq_length, output_dim=output_dim,weights=[pos_embedding_matrix],trainable=False)\n",
    "    \n",
    "    def get_position_encoding(self, seq_len, d, n=10000):\n",
    "        P = np.zeros((seq_len, d))\n",
    "        for k in range(seq_len):\n",
    "            for i in np.arange(int(d/2)):\n",
    "                denominator = np.power(n, 2*i/d)\n",
    "                P[k, 2*i] = np.sin(k/denominator)\n",
    "                P[k, 2*i+1] = np.cos(k/denominator)\n",
    "        return P\n",
    "    \n",
    "    \n",
    "    def call(self, inputs):\n",
    "        position_indices = tf.range(tf.shape(inputs)[-1])\n",
    "        embedded_words = self.word_embedding_layer(inputs)\n",
    "        embedded_indices = self.position_embedding_layer(position_indices)\n",
    "        return embedded_words + embedded_indices"
   ],
   "metadata": {
    "collapsed": false,
    "ExecuteTime": {
     "end_time": "2025-01-22T04:02:46.022358Z",
     "start_time": "2025-01-22T04:02:46.014811Z"
    }
   },
   "id": "dfca1f179bfad291"
  },
  {
   "cell_type": "code",
   "execution_count": 116,
   "outputs": [],
   "source": [
    "class DotProductAttention(Layer):\n",
    "    def __init__(self,**kwargs):\n",
    "        super().__init__(**kwargs)\n",
    "    \n",
    "    def call(self,queries,keys,values,d_k,mask = None):\n",
    "        \n",
    "        # Scoring the queries against the keys after transposing the latter, and scaling\n",
    "        scores = matmul(queries, keys, transpose_b=True) / math.sqrt(cast(d_k, float32))\n",
    "        \n",
    "        # Apply mask to the attention scores\n",
    "        if mask is not None:\n",
    "            scores += -1e9 * mask\n",
    "        \n",
    "        # Computing the weights by a softmax operation\n",
    "        weights = softmax(scores)\n",
    "        \n",
    "        # Computing the attention by a weighted sum of the value vectors\n",
    "        return matmul(weights, values)\n",
    "        \n",
    "    "
   ],
   "metadata": {
    "collapsed": false,
    "ExecuteTime": {
     "end_time": "2025-01-22T04:02:46.022451Z",
     "start_time": "2025-01-22T04:02:46.018187Z"
    }
   },
   "id": "b41de95a9262ff46"
  },
  {
   "cell_type": "code",
   "execution_count": 117,
   "outputs": [],
   "source": [
    "class MultiHeadAttention(Layer):\n",
    "    def __init__(self, h, d_k, d_v, d_model, **kwargs):\n",
    "        super().__init__(**kwargs)\n",
    "        self.attention = DotProductAttention() # Scaled dot product attention\n",
    "        self.heads = h # Number of attention heads to use\n",
    "        self.d_k = d_k # Dimensionality of the linearly projected queries and keys\n",
    "        self.d_v = d_v # Dimensionality of the linearly projected values\n",
    "        self.d_model = d_model # Dimensionality of the model\n",
    "        self.W_q = Dense(d_k) # Learned projection matrix for the queries\n",
    "        self.W_k = Dense(d_k) # Learned projection matrix for the keys\n",
    "        self.W_v = Dense(d_v) # Learned projection matrix for the values\n",
    "        self.W_o = Dense(d_model) # Learned projection matrix for the multi-head output\n",
    "    def reshape_tensor(self, x, heads, flag):\n",
    "        if flag:\n",
    "            # Tensor shape after reshaping and transposing:\n",
    "            # (batch_size, heads, seq_length, -1)\n",
    "            x = reshape(x, shape=(shape(x)[0], shape(x)[1], heads, -1))\n",
    "            x = transpose(x, perm=(0, 2, 1, 3))\n",
    "        else:\n",
    "            # Reverting the reshaping and transposing operations:\n",
    "            # (batch_size, seq_length, d_k)\n",
    "            x = transpose(x, perm=(0, 2, 1, 3))\n",
    "            x = reshape(x, shape=(shape(x)[0], shape(x)[1], self.d_k))\n",
    "        return x\n",
    "    \n",
    "    def call(self, queries, keys, values, mask=None):\n",
    "        # Rearrange the queries to be able to compute all heads in parallel\n",
    "        q_reshaped = self.reshape_tensor(self.W_q(queries), self.heads, True)\n",
    "        # Resulting tensor shape: (batch_size, heads, input_seq_length, -1)\n",
    "        # Rearrange the keys to be able to compute all heads in parallel\n",
    "        k_reshaped = self.reshape_tensor(self.W_k(keys), self.heads, True)\n",
    "        # Resulting tensor shape: (batch_size, heads, input_seq_length, -1)\n",
    "        # Rearrange the values to be able to compute all heads in parallel\n",
    "        v_reshaped = self.reshape_tensor(self.W_v(values), self.heads, True)\n",
    "        # Resulting tensor shape: (batch_size, heads, input_seq_length, -1)\n",
    "        # Compute the multi-head attention output using the reshaped queries,\n",
    "        # keys, and values\n",
    "        o_reshaped = self.attention(q_reshaped, k_reshaped, v_reshaped, self.d_k, mask)\n",
    "        # Resulting tensor shape: (batch_size, heads, input_seq_length, -1)\n",
    "        # Rearrange back the output into concatenated form\n",
    "        output = self.reshape_tensor(o_reshaped, self.heads, False)\n",
    "        # Resulting tensor shape: (batch_size, input_seq_length, d_v)\n",
    "        # Apply one final linear projection to the output to generate the multi-head\n",
    "        # attention. Resulting tensor shape: (batch_size, input_seq_length, d_model)\n",
    "        return self.W_o(output)"
   ],
   "metadata": {
    "collapsed": false,
    "ExecuteTime": {
     "end_time": "2025-01-22T04:02:46.034412Z",
     "start_time": "2025-01-22T04:02:46.022985Z"
    }
   },
   "id": "b9b32dc6b6adad2b"
  },
  {
   "cell_type": "code",
   "execution_count": 118,
   "outputs": [],
   "source": [
    "# Implementing the Add & Norm Layer\n",
    "class AddNormalization(Layer):\n",
    "    def __init__(self, **kwargs):\n",
    "        super().__init__(**kwargs)\n",
    "        self.layer_norm = LayerNormalization() # Layer normalization layer\n",
    "    def call(self, x, sublayer_x):\n",
    "        # The sublayer input and output need to be of the same shape to be summed\n",
    "        add = x + sublayer_x\n",
    "        # Apply layer normalization to the sum\n",
    "        return self.layer_norm(add)\n",
    "\n",
    "# Implementing the Feed-Forward Layer\n",
    "class FeedForward(Layer):\n",
    "    def __init__(self, d_ff, d_model, **kwargs):\n",
    "        super().__init__(**kwargs)\n",
    "        self.fully_connected1 = Dense(d_ff) # First fully connected layer\n",
    "        self.fully_connected2 = Dense(d_model) # Second fully connected layer\n",
    "        self.activation = ReLU() # ReLU activation layer\n",
    "        \n",
    "    def call(self, x):\n",
    "        # The input is passed into the two fully-connected layers, with a ReLU in between\n",
    "        x_fc1 = self.fully_connected1(x)\n",
    "        return self.fully_connected2(self.activation(x_fc1))"
   ],
   "metadata": {
    "collapsed": false,
    "ExecuteTime": {
     "end_time": "2025-01-22T04:02:46.034545Z",
     "start_time": "2025-01-22T04:02:46.029349Z"
    }
   },
   "id": "cf934f40f7c0de71"
  },
  {
   "cell_type": "markdown",
   "source": [
    "### Encoder Modules"
   ],
   "metadata": {
    "collapsed": false
   },
   "id": "45c774a8e69296fc"
  },
  {
   "cell_type": "code",
   "execution_count": 119,
   "outputs": [],
   "source": [
    "# Implementing the Encoder Layer\n",
    "class EncoderLayer(Layer):\n",
    "    def __init__(self,sequence_length, h, d_k, d_v, d_model, d_ff, rate, **kwargs):\n",
    "        super().__init__(**kwargs)\n",
    "        self.build(input_shape=[None, sequence_length, d_model])\n",
    "        self.d_model = d_model\n",
    "        self.sequence_length = sequence_length\n",
    "        self.multihead_attention = MultiHeadAttention(h, d_k, d_v, d_model)\n",
    "        self.dropout1 = Dropout(rate)\n",
    "        self.add_norm1 = AddNormalization()\n",
    "        self.feed_forward = FeedForward(d_ff, d_model)\n",
    "        self.dropout2 = Dropout(rate)\n",
    "        self.add_norm2 = AddNormalization()\n",
    "        \n",
    "    \n",
    "    def build_graph(self):\n",
    "        input_layer = Input(shape=(self.sequence_length, self.d_model))\n",
    "        return Model(inputs=[input_layer], outputs=self.call(input_layer, None, True))\n",
    "    \n",
    "    \n",
    "    def call(self, x, padding_mask, training):\n",
    "        # Multi-head attention layer\n",
    "        multihead_output = self.multihead_attention(x, x, x, padding_mask)\n",
    "        \n",
    "        # Expected output shape = (batch_size, sequence_length, d_model)\n",
    "        # Add in a dropout layer\n",
    "        multihead_output = self.dropout1(multihead_output, training=training)\n",
    "        # Followed by an Add & Norm layer\n",
    "        addnorm_output = self.add_norm1(x, multihead_output)\n",
    "        # Expected output shape = (batch_size, sequence_length, d_model)\n",
    "        # Followed by a fully connected layer\n",
    "        feedforward_output = self.feed_forward(addnorm_output)\n",
    "        # Expected output shape = (batch_size, sequence_length, d_model)\n",
    "        # Add in another dropout layer\n",
    "        feedforward_output = self.dropout2(feedforward_output, training=training)\n",
    "        # Followed by another Add & Norm layer\n",
    "        return self.add_norm2(addnorm_output, feedforward_output)\n",
    "    "
   ],
   "metadata": {
    "collapsed": false,
    "ExecuteTime": {
     "end_time": "2025-01-22T04:02:46.035211Z",
     "start_time": "2025-01-22T04:02:46.030753Z"
    }
   },
   "id": "75d99d601f3c90de"
  },
  {
   "cell_type": "code",
   "execution_count": 120,
   "outputs": [],
   "source": [
    "# Implementing the Encoder\n",
    "class Encoder(Layer):\n",
    "    def __init__(self, vocab_size, sequence_length, h, d_k, d_v, d_model, d_ff, n, rate,\n",
    "    **kwargs):\n",
    "        super().__init__(**kwargs)\n",
    "        self.pos_encoding = PositionEmbeddingFixedWeights(sequence_length, vocab_size,\n",
    "        d_model)\n",
    "        self.dropout = Dropout(rate)\n",
    "        self.encoder_layer = [EncoderLayer(sequence_length,h, d_k, d_v, d_model, d_ff, rate) for _ in range(n)]\n",
    "    \n",
    "  \n",
    "    def call(self, input_sentence, padding_mask, training):\n",
    "        # Generate the positional encoding\n",
    "        pos_encoding_output = self.pos_encoding(input_sentence)\n",
    "        # Expected output shape = (batch_size, sequence_length, d_model)\n",
    "        # Add in a dropout layer\n",
    "        x = self.dropout(pos_encoding_output, training=training)\n",
    "        # Pass on the positional encoded values to each encoder layer\n",
    "        for i, layer in enumerate(self.encoder_layer):\n",
    "            x = layer(x, padding_mask, training)\n",
    "        return x"
   ],
   "metadata": {
    "collapsed": false,
    "ExecuteTime": {
     "end_time": "2025-01-22T04:02:46.078817Z",
     "start_time": "2025-01-22T04:02:46.036844Z"
    }
   },
   "id": "2a0cda2d2205f04d"
  },
  {
   "cell_type": "markdown",
   "source": [
    "### Decoder Modules"
   ],
   "metadata": {
    "collapsed": false
   },
   "id": "aac08602889ea1e4"
  },
  {
   "cell_type": "code",
   "execution_count": 121,
   "outputs": [],
   "source": [
    "class DecoderLayer(Layer):\n",
    "    def __init__(self,sequence_length, h, d_k, d_v, d_model, d_ff, rate, **kwargs):\n",
    "        super().__init__(**kwargs)\n",
    "        self.build(input_shape=[None, sequence_length, d_model])\n",
    "        self.d_model = d_model\n",
    "        self.sequence_length = sequence_length\n",
    "        self.multihead_attention1 = MultiHeadAttention(h, d_k, d_v, d_model)\n",
    "        self.dropout1 = Dropout(rate)\n",
    "        self.add_norm1 = AddNormalization()\n",
    "        self.multihead_attention2 = MultiHeadAttention(h, d_k, d_v, d_model)\n",
    "        self.dropout2 = Dropout(rate)\n",
    "        self.add_norm2 = AddNormalization()\n",
    "        self.feed_forward = FeedForward(d_ff, d_model)\n",
    "        self.dropout3 = Dropout(rate)\n",
    "        self.add_norm3 = AddNormalization()\n",
    "        \n",
    "    \n",
    "    def build_graph(self):\n",
    "        input_layer = Input(shape=(self.sequence_length, self.d_model))\n",
    "        return Model(inputs=[input_layer],outputs=self.call(input_layer, input_layer, None, None, True))\n",
    "    \n",
    "    \n",
    "    def call(self, x, encoder_output, lookahead_mask, padding_mask, training):\n",
    "        # Multi-head attention layer\n",
    "        multihead_output1 = self.multihead_attention1(x, x, x, lookahead_mask)\n",
    "         \n",
    "        # Expected output shape = (batch_size, sequence_length, d_model)\n",
    "        # Add in a dropout layer\n",
    "        multihead_output1 = self.dropout1(multihead_output1, training=training)\n",
    "        # Followed by an Add & Norm layer\n",
    "        addnorm_output1 = self.add_norm1(x, multihead_output1)\n",
    "        # Expected output shape = (batch_size, sequence_length, d_model)\n",
    "        # Followed by another multi-head attention layer\n",
    "        multihead_output2 = self.multihead_attention2(addnorm_output1, encoder_output,encoder_output, padding_mask)\n",
    "         \n",
    "        # Add in another dropout layer\n",
    "        multihead_output2 = self.dropout2(multihead_output2, training=training)\n",
    "        \n",
    "        # Followed by another Add & Norm layer\n",
    "        addnorm_output2 = self.add_norm1(addnorm_output1, multihead_output2)\n",
    "        \n",
    "        # Followed by a fully connected layer\n",
    "        feedforward_output = self.feed_forward(addnorm_output2)\n",
    "        # Expected output shape = (batch_size, sequence_length, d_model)\n",
    "        \n",
    "        # Add in another dropout layer\n",
    "        feedforward_output = self.dropout3(feedforward_output, training=training)\n",
    "        \n",
    "        # Followed by another Add & Norm layer\n",
    "        return self.add_norm3(addnorm_output2, feedforward_output)"
   ],
   "metadata": {
    "collapsed": false,
    "ExecuteTime": {
     "end_time": "2025-01-22T04:02:46.079632Z",
     "start_time": "2025-01-22T04:02:46.041383Z"
    }
   },
   "id": "406ec55b72117f0"
  },
  {
   "cell_type": "code",
   "execution_count": 122,
   "outputs": [],
   "source": [
    "class Decoder(Layer):\n",
    "    def __init__(self, vocab_size, sequence_length, h, d_k, d_v, d_model, d_ff, n, rate,**kwargs):\n",
    "        super().__init__(**kwargs)\n",
    "        self.pos_encoding = PositionEmbeddingFixedWeights(sequence_length, vocab_size,d_model)\n",
    "        self.dropout = Dropout(rate)\n",
    "        self.decoder_layer = [DecoderLayer(sequence_length,h, d_k, d_v, d_model, d_ff, rate) for _ in range(n)]\n",
    "        \n",
    "    \n",
    "    def call(self, output_target, encoder_output, lookahead_mask, padding_mask, training):\n",
    "        # Generate the positional encoding\n",
    "        pos_encoding_output = self.pos_encoding(output_target)\n",
    "        # Expected output shape = (number of sentences, sequence_length, d_model)\n",
    "        # Add in a dropout layer\n",
    "        x = self.dropout(pos_encoding_output, training=training)\n",
    "        # Pass on the positional encoded values to each encoder layer\n",
    "        for i, layer in enumerate(self.decoder_layer):\n",
    "            x = layer(x, encoder_output, lookahead_mask, padding_mask, training)\n",
    "        return x"
   ],
   "metadata": {
    "collapsed": false,
    "ExecuteTime": {
     "end_time": "2025-01-22T04:02:46.079853Z",
     "start_time": "2025-01-22T04:02:46.045123Z"
    }
   },
   "id": "1bf09e842149c38d"
  },
  {
   "cell_type": "markdown",
   "source": [
    "### Creating the transformer by joining the Encoder and Decoder"
   ],
   "metadata": {
    "collapsed": false
   },
   "id": "fe7d2bcb004c1122"
  },
  {
   "cell_type": "code",
   "execution_count": 123,
   "outputs": [],
   "source": [
    "class TransformerModel(Model):\n",
    "    def __init__(self, enc_vocab_size, dec_vocab_size, enc_seq_length, dec_seq_length, h, d_k, d_v, d_model, d_ff_inner, n, rate, **kwargs):\n",
    "        super().__init__(**kwargs)\n",
    "        # Set up the encoder\n",
    "        self.encoder = Encoder(enc_vocab_size, enc_seq_length, h, d_k, d_v,d_model, d_ff_inner, n, rate)\n",
    "        \n",
    "        # Set up the decoder\n",
    "        self.decoder = Decoder(dec_vocab_size, dec_seq_length, h, d_k, d_v,d_model, d_ff_inner, n, rate)\n",
    "        \n",
    "        # Define the final dense layer\n",
    "        self.model_last_layer = Dense(dec_vocab_size)\n",
    "    \n",
    "    def padding_mask(self, input):\n",
    "        # Create mask which marks the zero padding values in the input by a 1.0\n",
    "        mask = math.equal(input, 0)\n",
    "        mask = cast(mask, float32)\n",
    "        # The shape of the mask should be broadcastable to the shape\n",
    "        # of the attention weights that it will be masking later on\n",
    "        return mask[:, newaxis, newaxis, :]\n",
    "\n",
    "    def lookahead_mask(self,shape):\n",
    "        # Mask out future entries by marking them with a 1.0\n",
    "        mask = 1 - linalg.band_part(ones((shape, shape)), -1, 0)\n",
    "        return mask\n",
    "\n",
    "    def call(self, encoder_input, decoder_input, training):\n",
    "        # Create padding mask to mask the encoder inputs and the encoder\n",
    "        # outputs in the decoder\n",
    "        enc_padding_mask = self.padding_mask(encoder_input)\n",
    "        \n",
    "        # Create and combine padding and look-ahead masks to be fed into the decoder\n",
    "        dec_in_padding_mask = self.padding_mask(decoder_input)\n",
    "        dec_in_lookahead_mask = self.lookahead_mask(decoder_input.shape[1])\n",
    "        dec_in_lookahead_mask = maximum(dec_in_padding_mask, dec_in_lookahead_mask)\n",
    "        \n",
    "        # Feed the input into the encoder\n",
    "        encoder_output = self.encoder(encoder_input, enc_padding_mask, training)\n",
    "        \n",
    "        # Feed the encoder output into the decoder\n",
    "        decoder_output = self.decoder(decoder_input, encoder_output,dec_in_lookahead_mask, enc_padding_mask, training)\n",
    "        \n",
    "        # Pass the decoder output through a final dense layer\n",
    "        model_output = self.model_last_layer(decoder_output)\n",
    "        \n",
    "        return model_output\n"
   ],
   "metadata": {
    "collapsed": false,
    "ExecuteTime": {
     "end_time": "2025-01-22T04:02:46.079953Z",
     "start_time": "2025-01-22T04:02:46.049539Z"
    }
   },
   "id": "3b46159c5d10595"
  },
  {
   "cell_type": "code",
   "execution_count": 124,
   "outputs": [],
   "source": [
    "# Define model parameters\n",
    "h = 8 # Number of self-attention heads\n",
    "d_k = 64 # Dimensionality of the linearly projected queries and keys\n",
    "d_v = 64 # Dimensionality of the linearly projected values\n",
    "d_ff = 2048 # Dimensionality of the inner fully connected layer\n",
    "d_model = 512 # Dimensionality of the model sub-layers' outputs\n",
    "n = 6 # Number of layers in the encoder and decoder stack\n",
    "\n",
    "\n",
    "# Defining the training parameters\n",
    "epochs = 20\n",
    "batch_size = 64\n",
    "beta_1 = 0.9\n",
    "beta_2 = 0.98\n",
    "epsilon = 1e-9\n",
    "dropout_rate = 0.1 "
   ],
   "metadata": {
    "collapsed": false,
    "ExecuteTime": {
     "end_time": "2025-01-22T04:02:46.080016Z",
     "start_time": "2025-01-22T04:02:46.052006Z"
    }
   },
   "id": "b618cbf808dfc90c"
  },
  {
   "cell_type": "markdown",
   "source": [
    "We also need to implement a learning rate scheduler that initially increases the learning\n",
    "rate linearly for the first warmup_steps and then decreases it proportionally to the inverse\n",
    "square root of the step number."
   ],
   "metadata": {
    "collapsed": false
   },
   "id": "324bac2d0e74e3d8"
  },
  {
   "cell_type": "code",
   "execution_count": 125,
   "outputs": [],
   "source": [
    "# Implementing a learning rate scheduler\n",
    "class LRScheduler(LearningRateSchedule):\n",
    "    def __init__(self, d_model, warmup_steps=4000, **kwargs):\n",
    "        super().__init__(**kwargs)\n",
    "        self.d_model = cast(d_model, float32)\n",
    "        self.warmup_steps = warmup_steps\n",
    "    def __call__(self, step_num):\n",
    "        # Linearly increasing the learning rate for the first warmup_steps, and\n",
    "        # decreasing it thereafter\n",
    "        \n",
    "        step_num = cast(step_num, float32)  # Cast step_num to float32\n",
    "        arg1 = step_num ** -0.5\n",
    "        arg2 = step_num * (self.warmup_steps ** -1.5)\n",
    "        return (self.d_model ** -0.5) * math.minimum(arg1, arg2)\n",
    "    "
   ],
   "metadata": {
    "collapsed": false,
    "ExecuteTime": {
     "end_time": "2025-01-22T04:02:46.080350Z",
     "start_time": "2025-01-22T04:02:46.055839Z"
    }
   },
   "id": "2268910917ec9499"
  },
  {
   "cell_type": "code",
   "execution_count": 126,
   "outputs": [
    {
     "name": "stderr",
     "output_type": "stream",
     "text": [
      "WARNING:absl:At this time, the v2.11+ optimizer `tf.keras.optimizers.Adam` runs slowly on M1/M2 Macs, please use the legacy Keras optimizer instead, located at `tf.keras.optimizers.legacy.Adam`.\n"
     ]
    }
   ],
   "source": [
    "# Instantiate an Adam optimizer\n",
    "optimizer = Adam(LRScheduler(d_model), beta_1, beta_2, epsilon)\n",
    "# Prepare the training data\n",
    "dataset = PrepareDataset()\n",
    "trainX, trainY,valX,valY, train_orig,val_orig, enc_seq_length, dec_seq_length, enc_vocab_size, dec_vocab_size = dataset('english-german-both.pkl')\n",
    "\n",
    "# Prepare the dataset batches\n",
    "train_dataset = data.Dataset.from_tensor_slices((trainX, trainY))\n",
    "train_dataset = train_dataset.batch(batch_size)\n",
    "\n",
    "# Prepare the validation dataset batches\n",
    "val_dataset = data.Dataset.from_tensor_slices((valX, valY))\n",
    "val_dataset = val_dataset.batch(batch_size)\n",
    "\n",
    "# Create model\n",
    "training_model = TransformerModel(enc_vocab_size, dec_vocab_size, enc_seq_length,dec_seq_length, h, d_k, d_v, d_model, d_ff, n, dropout_rate)"
   ],
   "metadata": {
    "collapsed": false,
    "ExecuteTime": {
     "end_time": "2025-01-22T04:02:49.543426Z",
     "start_time": "2025-01-22T04:02:46.058443Z"
    }
   },
   "id": "dd3116102d060254"
  },
  {
   "cell_type": "code",
   "execution_count": 127,
   "outputs": [],
   "source": [
    "def loss_fcn(target, prediction):\n",
    "    \n",
    "    # Create mask so that the zero padding values are not included in the\n",
    "    # computation of loss\n",
    "    mask = math.logical_not(equal(target, 0))\n",
    "    mask = cast(mask, float32)\n",
    "    # Compute a sparse categorical cross-entropy loss on the unmasked values\n",
    "    loss = sparse_categorical_crossentropy(target, prediction, from_logits=True) * mask\n",
    "    # Compute the mean loss over the unmasked values\n",
    "    return reduce_sum(loss) / reduce_sum(mask)"
   ],
   "metadata": {
    "collapsed": false,
    "ExecuteTime": {
     "end_time": "2025-01-22T04:02:49.545336Z",
     "start_time": "2025-01-22T04:02:49.542843Z"
    }
   },
   "id": "699c522c6aac326d"
  },
  {
   "cell_type": "code",
   "execution_count": 128,
   "outputs": [],
   "source": [
    "def accuracy_fcn(target, prediction):\n",
    "    # Create mask so that the zero padding values are not included in the\n",
    "    # computation of accuracy\n",
    "    mask = math.logical_not(math.equal(target, 0))\n",
    "    # Find equal prediction and target values, and apply the padding mask\n",
    "    accuracy = equal(target, argmax(prediction, axis=2))\n",
    "    accuracy = math.logical_and(mask, accuracy)\n",
    "    # Cast the True/False values to 32-bit-precision floating-point numbers\n",
    "    mask = cast(mask, float32)\n",
    "    accuracy = cast(accuracy, float32)\n",
    "    # Compute the mean accuracy over the unmasked values\n",
    "    return reduce_sum(accuracy) / reduce_sum(mask)"
   ],
   "metadata": {
    "collapsed": false,
    "ExecuteTime": {
     "end_time": "2025-01-22T04:02:49.547666Z",
     "start_time": "2025-01-22T04:02:49.545560Z"
    }
   },
   "id": "e7966d92e9dfd498"
  },
  {
   "cell_type": "code",
   "execution_count": 129,
   "outputs": [],
   "source": [
    "# Include metrics monitoring\n",
    "train_loss = Mean(name='train_loss')\n",
    "train_accuracy = Mean(name='train_accuracy')\n",
    "val_loss = Mean(name='val_loss')"
   ],
   "metadata": {
    "collapsed": false,
    "ExecuteTime": {
     "end_time": "2025-01-22T04:02:49.559877Z",
     "start_time": "2025-01-22T04:02:49.549628Z"
    }
   },
   "id": "e9b1ed51a0234701"
  },
  {
   "cell_type": "code",
   "execution_count": 130,
   "outputs": [],
   "source": [
    "# Create a checkpoint object and manager to manage multiple checkpoints\n",
    "ckpt = train.Checkpoint(model=training_model, optimizer=optimizer)\n",
    "ckpt_manager = train.CheckpointManager(ckpt, \"./checkpoints\", max_to_keep=3)"
   ],
   "metadata": {
    "collapsed": false,
    "ExecuteTime": {
     "end_time": "2025-01-22T04:02:49.581643Z",
     "start_time": "2025-01-22T04:02:49.561207Z"
    }
   },
   "id": "f30c3537b6b9cd00"
  },
  {
   "cell_type": "code",
   "execution_count": 131,
   "outputs": [],
   "source": [
    "# Initialise dictionaries to store the training and validation losses\n",
    "train_loss_dict = {}\n",
    "val_loss_dict = {}"
   ],
   "metadata": {
    "collapsed": false,
    "ExecuteTime": {
     "end_time": "2025-01-22T04:02:49.582730Z",
     "start_time": "2025-01-22T04:02:49.571053Z"
    }
   },
   "id": "5bb73deb2abf20d7"
  },
  {
   "cell_type": "code",
   "execution_count": 132,
   "outputs": [],
   "source": [
    "# Speeding up the training process\n",
    "@function\n",
    "def train_step(encoder_input, decoder_input, decoder_output):\n",
    "    with GradientTape() as tape:\n",
    "        # Run the forward pass of the model to generate a prediction\n",
    "        prediction = training_model(encoder_input, decoder_input, training=True)\n",
    "        # Compute the training loss\n",
    "        loss = loss_fcn(decoder_output, prediction)\n",
    "        # Compute the training accuracy\n",
    "        accuracy = accuracy_fcn(decoder_output, prediction)\n",
    "    # Retrieve gradients of the trainable variables with respect to the training loss\n",
    "    gradients = tape.gradient(loss, training_model.trainable_weights)\n",
    "    # Update the values of the trainable variables by gradient descent\n",
    "    optimizer.apply_gradients(zip(gradients, training_model.trainable_weights))\n",
    "    train_loss(loss)\n",
    "    train_accuracy(accuracy)"
   ],
   "metadata": {
    "collapsed": false,
    "ExecuteTime": {
     "end_time": "2025-01-22T04:02:50.298286Z",
     "start_time": "2025-01-22T04:02:50.297231Z"
    }
   },
   "id": "525b6fd616e9c0a7"
  },
  {
   "cell_type": "code",
   "execution_count": 133,
   "outputs": [
    {
     "name": "stdout",
     "output_type": "stream",
     "text": [
      "\n",
      "Start of epoch 1\n"
     ]
    },
    {
     "name": "stderr",
     "output_type": "stream",
     "text": [
      "2025-01-22 09:32:56.885537: E tensorflow/core/grappler/optimizers/meta_optimizer.cc:961] model_pruner failed: INVALID_ARGUMENT: Graph does not contain terminal node Adam/AssignAddVariableOp.\n"
     ]
    },
    {
     "name": "stdout",
     "output_type": "stream",
     "text": [
      "Epoch 1 Step 0 Loss 8.2049Accuracy 0.0000\n",
      "Epoch 1 Step 50 Loss 7.4772Accuracy 0.1461\n",
      "Epoch 1 Step 100 Loss 6.8976Accuracy 0.1830\n",
      "Epoch 1: Training Loss 6.6855, Training Accuracy 0.1986, Validation Loss 5.4345\n",
      "Saved checkpoint at epoch 1\n",
      "\n",
      "Start of epoch 2\n",
      "Epoch 2 Step 0 Loss 5.6240Accuracy 0.2947\n",
      "Epoch 2 Step 50 Loss 5.4802Accuracy 0.2790\n",
      "Epoch 2 Step 100 Loss 5.2994Accuracy 0.2873\n",
      "Epoch 2: Training Loss 5.2045, Training Accuracy 0.2925, Validation Loss 4.5735\n",
      "Saved checkpoint at epoch 2\n",
      "\n",
      "Start of epoch 3\n",
      "Epoch 3 Step 0 Loss 4.6632Accuracy 0.3298\n",
      "Epoch 3 Step 50 Loss 4.6694Accuracy 0.3296\n",
      "Epoch 3 Step 100 Loss 4.5363Accuracy 0.3450\n",
      "Epoch 3: Training Loss 4.4632, Training Accuracy 0.3541, Validation Loss 4.0538\n",
      "Saved checkpoint at epoch 3\n",
      "\n",
      "Start of epoch 4\n",
      "Epoch 4 Step 0 Loss 4.0822Accuracy 0.4211\n",
      "Epoch 4 Step 50 Loss 4.1306Accuracy 0.3878\n",
      "Epoch 4 Step 100 Loss 4.0237Accuracy 0.3974\n",
      "Epoch 4: Training Loss 3.9567, Training Accuracy 0.4062, Validation Loss 3.7577\n",
      "Saved checkpoint at epoch 4\n",
      "\n",
      "Start of epoch 5\n",
      "Epoch 5 Step 0 Loss 3.6365Accuracy 0.4596\n",
      "Epoch 5 Step 50 Loss 3.6998Accuracy 0.4275\n",
      "Epoch 5 Step 100 Loss 3.5979Accuracy 0.4399\n",
      "Epoch 5: Training Loss 3.5390, Training Accuracy 0.4474, Validation Loss 3.5812\n",
      "Saved checkpoint at epoch 5\n",
      "\n",
      "Start of epoch 6\n",
      "Epoch 6 Step 0 Loss 3.2963Accuracy 0.4842\n",
      "Epoch 6 Step 50 Loss 3.3610Accuracy 0.4645\n",
      "Epoch 6 Step 100 Loss 3.2687Accuracy 0.4746\n",
      "Epoch 6: Training Loss 3.2212, Training Accuracy 0.4809, Validation Loss 3.4642\n",
      "Saved checkpoint at epoch 6\n",
      "\n",
      "Start of epoch 7\n",
      "Epoch 7 Step 0 Loss 3.0430Accuracy 0.4807\n",
      "Epoch 7 Step 50 Loss 3.0337Accuracy 0.5009\n",
      "Epoch 7 Step 100 Loss 2.9419Accuracy 0.5093\n",
      "Epoch 7: Training Loss 2.9110, Training Accuracy 0.5129, Validation Loss 3.2690\n",
      "Saved checkpoint at epoch 7\n",
      "\n",
      "Start of epoch 8\n",
      "Epoch 8 Step 0 Loss 2.6468Accuracy 0.5860\n",
      "Epoch 8 Step 50 Loss 2.7118Accuracy 0.5343\n",
      "Epoch 8 Step 100 Loss 2.6402Accuracy 0.5398\n",
      "Epoch 8: Training Loss 2.6171, Training Accuracy 0.5437, Validation Loss 3.1059\n",
      "Saved checkpoint at epoch 8\n",
      "\n",
      "Start of epoch 9\n",
      "Epoch 9 Step 0 Loss 2.3974Accuracy 0.5825\n",
      "Epoch 9 Step 50 Loss 2.4261Accuracy 0.5659\n",
      "Epoch 9 Step 100 Loss 2.3640Accuracy 0.5729\n",
      "Epoch 9: Training Loss 2.3425, Training Accuracy 0.5759, Validation Loss 3.0701\n",
      "Saved checkpoint at epoch 9\n",
      "\n",
      "Start of epoch 10\n",
      "Epoch 10 Step 0 Loss 2.2345Accuracy 0.5965\n",
      "Epoch 10 Step 50 Loss 2.1378Accuracy 0.6009\n",
      "Epoch 10 Step 100 Loss 2.0841Accuracy 0.6092\n",
      "Epoch 10: Training Loss 2.0638, Training Accuracy 0.6114, Validation Loss 3.0135\n",
      "Saved checkpoint at epoch 10\n",
      "\n",
      "Start of epoch 11\n",
      "Epoch 11 Step 0 Loss 1.9114Accuracy 0.6526\n",
      "Epoch 11 Step 50 Loss 1.8420Accuracy 0.6449\n",
      "Epoch 11 Step 100 Loss 1.7775Accuracy 0.6574\n",
      "Epoch 11: Training Loss 1.7661, Training Accuracy 0.6594, Validation Loss 3.0383\n",
      "Saved checkpoint at epoch 11\n",
      "\n",
      "Start of epoch 12\n",
      "Epoch 12 Step 0 Loss 1.5912Accuracy 0.7018\n",
      "Epoch 12 Step 50 Loss 1.6120Accuracy 0.6825\n",
      "Epoch 12 Step 100 Loss 1.5435Accuracy 0.6948\n",
      "Epoch 12: Training Loss 1.5095, Training Accuracy 0.7011, Validation Loss 2.9139\n",
      "Saved checkpoint at epoch 12\n",
      "\n",
      "Start of epoch 13\n",
      "Epoch 13 Step 0 Loss 1.4166Accuracy 0.6842\n",
      "Epoch 13 Step 50 Loss 1.3075Accuracy 0.7434\n",
      "Epoch 13 Step 100 Loss 1.2402Accuracy 0.7563\n",
      "Epoch 13: Training Loss 1.2015, Training Accuracy 0.7652, Validation Loss 2.8551\n",
      "Saved checkpoint at epoch 13\n",
      "\n",
      "Start of epoch 14\n",
      "Epoch 14 Step 0 Loss 1.0508Accuracy 0.7544\n",
      "Epoch 14 Step 50 Loss 1.0424Accuracy 0.7981\n",
      "Epoch 14 Step 100 Loss 0.9709Accuracy 0.8146\n",
      "Epoch 14: Training Loss 0.9405, Training Accuracy 0.8211, Validation Loss 2.8540\n",
      "Saved checkpoint at epoch 14\n",
      "\n",
      "Start of epoch 15\n",
      "Epoch 15 Step 0 Loss 0.7211Accuracy 0.8632\n",
      "Epoch 15 Step 50 Loss 0.8590Accuracy 0.8352\n",
      "Epoch 15 Step 100 Loss 0.7872Accuracy 0.8526\n",
      "Epoch 15: Training Loss 0.7618, Training Accuracy 0.8581, Validation Loss 2.9492\n",
      "Saved checkpoint at epoch 15\n",
      "\n",
      "Start of epoch 16\n",
      "Epoch 16 Step 0 Loss 0.6483Accuracy 0.9018\n",
      "Epoch 16 Step 50 Loss 0.6783Accuracy 0.8732\n",
      "Epoch 16 Step 100 Loss 0.6253Accuracy 0.8840\n",
      "Epoch 16: Training Loss 0.6014, Training Accuracy 0.8896, Validation Loss 2.8945\n",
      "Saved checkpoint at epoch 16\n",
      "\n",
      "Start of epoch 17\n",
      "Epoch 17 Step 0 Loss 0.4766Accuracy 0.9158\n",
      "Epoch 17 Step 50 Loss 0.4890Accuracy 0.9153\n",
      "Epoch 17 Step 100 Loss 0.4625Accuracy 0.9184\n",
      "Epoch 17: Training Loss 0.4492, Training Accuracy 0.9209, Validation Loss 2.8930\n",
      "Saved checkpoint at epoch 17\n",
      "\n",
      "Start of epoch 18\n",
      "Epoch 18 Step 0 Loss 0.3377Accuracy 0.9439\n",
      "Epoch 18 Step 50 Loss 0.3750Accuracy 0.9294\n",
      "Epoch 18 Step 100 Loss 0.3451Accuracy 0.9352\n",
      "Epoch 18: Training Loss 0.3402, Training Accuracy 0.9358, Validation Loss 2.9857\n",
      "Saved checkpoint at epoch 18\n",
      "\n",
      "Start of epoch 19\n",
      "Epoch 19 Step 0 Loss 0.2962Accuracy 0.9228\n",
      "Epoch 19 Step 50 Loss 0.3122Accuracy 0.9345\n",
      "Epoch 19 Step 100 Loss 0.2716Accuracy 0.9446\n",
      "Epoch 19: Training Loss 0.2702, Training Accuracy 0.9446, Validation Loss 3.2212\n",
      "Saved checkpoint at epoch 19\n",
      "\n",
      "Start of epoch 20\n",
      "Epoch 20 Step 0 Loss 0.2886Accuracy 0.9333\n",
      "Epoch 20 Step 50 Loss 0.2695Accuracy 0.9419\n",
      "Epoch 20 Step 100 Loss 0.2447Accuracy 0.9474\n",
      "Epoch 20: Training Loss 0.2396, Training Accuracy 0.9484, Validation Loss 3.1535\n",
      "Saved checkpoint at epoch 20\n",
      "Total time taken: 19.41s\n"
     ]
    }
   ],
   "source": [
    "for epoch in range(epochs):\n",
    "    train_loss.reset_states()\n",
    "    train_accuracy.reset_states()\n",
    "    val_loss.reset_states()\n",
    "    print(\"\\nStart of epoch %d\" % (epoch + 1))\n",
    "    \n",
    "    start_time = time()\n",
    "    # Iterate over the dataset batches\n",
    "    for step, (train_batchX, train_batchY) in enumerate(train_dataset):\n",
    "        # Define the encoder and decoder inputs, and the decoder output\n",
    "        encoder_input = train_batchX[:, 1:]\n",
    "        decoder_input = train_batchY[:, :-1]\n",
    "        decoder_output = train_batchY[:, 1:]\n",
    "        \n",
    "        train_step(encoder_input, decoder_input, decoder_output)\n",
    "        \n",
    "        if step % 50 == 0:\n",
    "            print(f\"Epoch {epoch+1} Step {step} Loss {train_loss.result():.4f}\" + f\"Accuracy {train_accuracy.result():.4f}\")\n",
    "    \n",
    "    \n",
    "    # Run a validation step after every epoch of training\n",
    "    for val_batchX, val_batchY in val_dataset:\n",
    "    # Define the encoder and decoder inputs, and the decoder output\n",
    "        encoder_input = val_batchX[:, 1:]\n",
    "        decoder_input = val_batchY[:, :-1]\n",
    "        decoder_output = val_batchY[:, 1:]\n",
    "        # Generate a prediction\n",
    "        prediction = training_model(encoder_input, decoder_input, training=False)\n",
    "        # Compute the validation loss\n",
    "        loss = loss_fcn(decoder_output, prediction)\n",
    "        val_loss(loss)\n",
    "            \n",
    "    # Print epoch number and loss value at the end of every epoch\n",
    "    print(f\"Epoch {epoch+1}: Training Loss {train_loss.result():.4f}, \" + f\"Training Accuracy {train_accuracy.result():.4f}, \" + f\"Validation Loss {val_loss.result():.4f}\")\n",
    "    \n",
    "    # Save a checkpoint after every epoch\n",
    "    if (epoch + 1) % 1 == 0:\n",
    "        save_path = ckpt_manager.save()\n",
    "        print(f\"Saved checkpoint at epoch {epoch+1}\")\n",
    "        \n",
    "        # Save the trained model weights\n",
    "        training_model.save_weights(\"weights/wghts\" + str(epoch + 1) + \".ckpt\")\n",
    "        train_loss_dict[epoch] = train_loss.result()\n",
    "        \n",
    "        val_loss_dict[epoch] = val_loss.result()\n",
    "# Save the training loss values\n",
    "with open('./train_loss.pkl', 'wb') as file:\n",
    "    dump(train_loss_dict, file)\n",
    "# Save the validation loss values\n",
    "with open('./val_loss.pkl', 'wb') as file:\n",
    "    dump(val_loss_dict, file)\n",
    "print(\"Total time taken: %.2fs\" % (time() - start_time))"
   ],
   "metadata": {
    "collapsed": false,
    "ExecuteTime": {
     "end_time": "2025-01-22T04:08:32.703852Z",
     "start_time": "2025-01-22T04:02:50.307171Z"
    }
   },
   "id": "2140778ff65839d6"
  },
  {
   "cell_type": "markdown",
   "source": [
    "### Plotting the training and validation loss curves"
   ],
   "metadata": {
    "collapsed": false
   },
   "id": "b3d8217878a4481e"
  },
  {
   "cell_type": "code",
   "execution_count": 134,
   "outputs": [],
   "source": [
    "from matplotlib.pylab import plt\n",
    "from numpy import arange"
   ],
   "metadata": {
    "collapsed": false,
    "ExecuteTime": {
     "end_time": "2025-01-22T04:08:32.709571Z",
     "start_time": "2025-01-22T04:08:32.704687Z"
    }
   },
   "id": "957c1406271ba5e7"
  },
  {
   "cell_type": "code",
   "execution_count": 135,
   "outputs": [
    {
     "data": {
      "text/plain": "<Figure size 640x480 with 1 Axes>",
      "image/png": "[encoded data removed]"
     },
     "metadata": {},
     "output_type": "display_data"
    }
   ],
   "source": [
    "# Load the training and validation loss dictionaries\n",
    "train_loss = load(open('train_loss.pkl', 'rb'))\n",
    "val_loss = load(open('val_loss.pkl', 'rb'))\n",
    "\n",
    "# Retrieve each dictionary's values\n",
    "train_values = train_loss.values()\n",
    "val_values = val_loss.values()\n",
    "\n",
    "# Generate a sequence of integers to represent the epoch numbers\n",
    "epochs = range(1, 21)\n",
    "\n",
    "\n",
    "# Plot and label the training and validation loss values\n",
    "plt.plot(epochs, train_values, label='Training Loss')\n",
    "plt.plot(epochs, val_values, label='Validation Loss')\n",
    "\n",
    "\n",
    "# Add in a title and axes labels\n",
    "plt.title('Training and Validation Loss')\n",
    "plt.xlabel('Epochs')\n",
    "plt.ylabel('Loss')\n",
    "\n",
    "# Set the tick locations\n",
    "plt.xticks(arange(0, 21, 2))\n",
    "\n",
    "# Display the plot\n",
    "plt.legend(loc='best')\n",
    "plt.show()"
   ],
   "metadata": {
    "collapsed": false,
    "ExecuteTime": {
     "end_time": "2025-01-22T04:08:32.826387Z",
     "start_time": "2025-01-22T04:08:32.708973Z"
    }
   },
   "id": "a93e98c314ae4c49"
  },
  {
   "cell_type": "code",
   "execution_count": 136,
   "outputs": [
    {
     "data": {
      "text/plain": "{0: <tf.Tensor: shape=(), dtype=float32, numpy=6.6854577>,\n 1: <tf.Tensor: shape=(), dtype=float32, numpy=5.2045183>,\n 2: <tf.Tensor: shape=(), dtype=float32, numpy=4.4632397>,\n 3: <tf.Tensor: shape=(), dtype=float32, numpy=3.9566977>,\n 4: <tf.Tensor: shape=(), dtype=float32, numpy=3.5390325>,\n 5: <tf.Tensor: shape=(), dtype=float32, numpy=3.2211778>,\n 6: <tf.Tensor: shape=(), dtype=float32, numpy=2.911011>,\n 7: <tf.Tensor: shape=(), dtype=float32, numpy=2.6170697>,\n 8: <tf.Tensor: shape=(), dtype=float32, numpy=2.3425>,\n 9: <tf.Tensor: shape=(), dtype=float32, numpy=2.063792>,\n 10: <tf.Tensor: shape=(), dtype=float32, numpy=1.7661085>,\n 11: <tf.Tensor: shape=(), dtype=float32, numpy=1.5094538>,\n 12: <tf.Tensor: shape=(), dtype=float32, numpy=1.2014846>,\n 13: <tf.Tensor: shape=(), dtype=float32, numpy=0.94053984>,\n 14: <tf.Tensor: shape=(), dtype=float32, numpy=0.7618492>,\n 15: <tf.Tensor: shape=(), dtype=float32, numpy=0.6013766>,\n 16: <tf.Tensor: shape=(), dtype=float32, numpy=0.44922185>,\n 17: <tf.Tensor: shape=(), dtype=float32, numpy=0.34024557>,\n 18: <tf.Tensor: shape=(), dtype=float32, numpy=0.2702483>,\n 19: <tf.Tensor: shape=(), dtype=float32, numpy=0.2395866>}"
     },
     "execution_count": 136,
     "metadata": {},
     "output_type": "execute_result"
    }
   ],
   "source": [
    "train_loss"
   ],
   "metadata": {
    "collapsed": false,
    "ExecuteTime": {
     "end_time": "2025-01-22T04:08:32.830172Z",
     "start_time": "2025-01-22T04:08:32.826488Z"
    }
   },
   "id": "800dcd00f513c978"
  },
  {
   "cell_type": "code",
   "execution_count": 137,
   "outputs": [
    {
     "data": {
      "text/plain": "dict_values([<tf.Tensor: shape=(), dtype=float32, numpy=6.6854577>, <tf.Tensor: shape=(), dtype=float32, numpy=5.2045183>, <tf.Tensor: shape=(), dtype=float32, numpy=4.4632397>, <tf.Tensor: shape=(), dtype=float32, numpy=3.9566977>, <tf.Tensor: shape=(), dtype=float32, numpy=3.5390325>, <tf.Tensor: shape=(), dtype=float32, numpy=3.2211778>, <tf.Tensor: shape=(), dtype=float32, numpy=2.911011>, <tf.Tensor: shape=(), dtype=float32, numpy=2.6170697>, <tf.Tensor: shape=(), dtype=float32, numpy=2.3425>, <tf.Tensor: shape=(), dtype=float32, numpy=2.063792>, <tf.Tensor: shape=(), dtype=float32, numpy=1.7661085>, <tf.Tensor: shape=(), dtype=float32, numpy=1.5094538>, <tf.Tensor: shape=(), dtype=float32, numpy=1.2014846>, <tf.Tensor: shape=(), dtype=float32, numpy=0.94053984>, <tf.Tensor: shape=(), dtype=float32, numpy=0.7618492>, <tf.Tensor: shape=(), dtype=float32, numpy=0.6013766>, <tf.Tensor: shape=(), dtype=float32, numpy=0.44922185>, <tf.Tensor: shape=(), dtype=float32, numpy=0.34024557>, <tf.Tensor: shape=(), dtype=float32, numpy=0.2702483>, <tf.Tensor: shape=(), dtype=float32, numpy=0.2395866>])"
     },
     "execution_count": 137,
     "metadata": {},
     "output_type": "execute_result"
    }
   ],
   "source": [
    "train_values"
   ],
   "metadata": {
    "collapsed": false,
    "ExecuteTime": {
     "end_time": "2025-01-22T04:08:32.834606Z",
     "start_time": "2025-01-22T04:08:32.830608Z"
    }
   },
   "id": "ae31b781685c55e9"
  },
  {
   "cell_type": "markdown",
   "source": [
    "### Inferencing the transformer model"
   ],
   "metadata": {
    "collapsed": false
   },
   "id": "b077f3758ff4d7e2"
  },
  {
   "cell_type": "code",
   "execution_count": 232,
   "outputs": [],
   "source": [
    "# Define the model parameters\n",
    "h = 8 # Number of self-attention heads\n",
    "d_k = 64 # Dimensionality of the linearly projected queries and keys\n",
    "d_v = 64 # Dimensionality of the linearly projected values\n",
    "d_model = 512 # Dimensionality of model layers' outputs\n",
    "d_ff = 2048 # Dimensionality of the inner fully connected layer\n",
    "n = 6 # Number of layers in the encoder stack\n",
    "\n",
    "# Define the dataset parameters\n",
    "enc_seq_length = 7 # Encoder sequence length\n",
    "dec_seq_length = 10 # Decoder sequence length\n",
    "enc_vocab_size = 2195 # Encoder vocabulary size\n",
    "dec_vocab_size = 3466 # Decoder vocabulary size\n",
    "\n"
   ],
   "metadata": {
    "collapsed": false,
    "ExecuteTime": {
     "end_time": "2025-01-22T04:57:59.445272Z",
     "start_time": "2025-01-22T04:57:59.435446Z"
    }
   },
   "id": "62f3624355a9ce25"
  },
  {
   "cell_type": "code",
   "execution_count": 233,
   "outputs": [],
   "source": [
    "# Create model\n",
    "inferencing_model = TransformerModel(enc_vocab_size, dec_vocab_size, enc_seq_length,dec_seq_length, h, d_k, d_v, d_model, d_ff, n, 0)"
   ],
   "metadata": {
    "collapsed": false,
    "ExecuteTime": {
     "end_time": "2025-01-22T04:58:02.969445Z",
     "start_time": "2025-01-22T04:57:59.829964Z"
    }
   },
   "id": "afccf36b790a0dd"
  },
  {
   "cell_type": "code",
   "execution_count": 234,
   "outputs": [],
   "source": [
    "class Translate(Module):\n",
    "    def __init__(self, inferencing_model, **kwargs):\n",
    "       super().__init__(**kwargs)\n",
    "       self.transformer = inferencing_model\n",
    "    \n",
    "    def load_tokenizer(self, name):\n",
    "        with open(name, 'rb') as handle:\n",
    "            return load(handle)\n",
    "        \n",
    "    def __call__(self, sentence):\n",
    "        # Append start and end of string tokens to the input sentence\n",
    "        sentence[0] = \"<START> \" + sentence[0] + \" <EOS>\"\n",
    "        \n",
    "        # Load encoder and decoder tokenizers\n",
    "        enc_tokenizer = self.load_tokenizer('enc_tokenizer.pkl')\n",
    "        dec_tokenizer = self.load_tokenizer('dec_tokenizer.pkl')\n",
    "        \n",
    "        # Prepare the input sentence by tokenizing, padding and converting to tensor\n",
    "        encoder_input = enc_tokenizer.texts_to_sequences(sentence)\n",
    "        encoder_input = pad_sequences(encoder_input,maxlen=enc_seq_length, padding='post')\n",
    "        encoder_input = convert_to_tensor(encoder_input, dtype=int64)\n",
    "        \n",
    "        # Prepare the output <START> token by tokenizing, and converting to tensor\n",
    "        output_start = dec_tokenizer.texts_to_sequences([\"<START>\"])\n",
    "        output_start = convert_to_tensor(output_start[0], dtype=int64)\n",
    "        \n",
    "        # Prepare the output <EOS> token by tokenizing, and converting to tensor\n",
    "        output_end = dec_tokenizer.texts_to_sequences([\"<EOS>\"])\n",
    "        output_end = convert_to_tensor(output_end[0], dtype=int64)\n",
    "        \n",
    "        # Prepare the output array of dynamic size\n",
    "        decoder_output = TensorArray(dtype=int64, size=0, dynamic_size=True)\n",
    "        decoder_output = decoder_output.write(0, output_start)\n",
    "        \n",
    "        for i in range(dec_seq_length):\n",
    "            # Predict an output token\n",
    "            prediction = self.transformer(encoder_input,transpose(decoder_output.stack()),training=False)\n",
    "            prediction = prediction[:, -1, :]\n",
    "            \n",
    "            # Select the prediction with the highest score\n",
    "            predicted_id = argmax(prediction, axis=-1)\n",
    "            predicted_id = predicted_id[0][newaxis]\n",
    "            \n",
    "            # Write the selected prediction to the output array at the next\n",
    "            # available index\n",
    "            decoder_output = decoder_output.write(i + 1, predicted_id)\n",
    "            \n",
    "            # Break if an <EOS> token is predicted\n",
    "            if predicted_id == output_end:\n",
    "                break\n",
    "                \n",
    "        output = transpose(decoder_output.stack())[0]\n",
    "        output = output.numpy()\n",
    "        output_str = []\n",
    "        \n",
    "        # Decode the predicted tokens into an output string\n",
    "        for i in range(output.shape[0]):\n",
    "            key = output[i]\n",
    "            output_str.append(dec_tokenizer.index_word[key])\n",
    "        \n",
    "        return output_str\n",
    "        "
   ],
   "metadata": {
    "collapsed": false,
    "ExecuteTime": {
     "end_time": "2025-01-22T04:58:02.975149Z",
     "start_time": "2025-01-22T04:58:02.972964Z"
    }
   },
   "id": "3a81d603ae0df15f"
  },
  {
   "cell_type": "code",
   "execution_count": 246,
   "outputs": [],
   "source": [
    "# Sentence to translate\n",
    "sentence = ['cat sat on the mat']"
   ],
   "metadata": {
    "collapsed": false,
    "ExecuteTime": {
     "end_time": "2025-01-22T06:57:40.124098Z",
     "start_time": "2025-01-22T06:57:40.119937Z"
    }
   },
   "id": "ee78134a66e769de"
  },
  {
   "cell_type": "code",
   "execution_count": 247,
   "outputs": [
    {
     "data": {
      "text/plain": "<tensorflow.python.checkpoint.checkpoint.CheckpointLoadStatus at 0x167971ea0>"
     },
     "execution_count": 247,
     "metadata": {},
     "output_type": "execute_result"
    }
   ],
   "source": [
    "# Load the trained model's weights at the specified epoch\n",
    "inferencing_model.load_weights('weights/wghts18.ckpt')"
   ],
   "metadata": {
    "collapsed": false,
    "ExecuteTime": {
     "end_time": "2025-01-22T06:57:41.888585Z",
     "start_time": "2025-01-22T06:57:41.341582Z"
    }
   },
   "id": "7dc9635bd7d81b2b"
  },
  {
   "cell_type": "code",
   "execution_count": 248,
   "outputs": [],
   "source": [
    "# Create a new instance of the 'Translate' class\n",
    "translator = Translate(inferencing_model)"
   ],
   "metadata": {
    "collapsed": false,
    "ExecuteTime": {
     "end_time": "2025-01-22T06:57:42.714595Z",
     "start_time": "2025-01-22T06:57:42.707162Z"
    }
   },
   "id": "b5c819ace40f8d9c"
  },
  {
   "cell_type": "code",
   "execution_count": 249,
   "outputs": [
    {
     "name": "stdout",
     "output_type": "stream",
     "text": [
      "['start', 'ich', 'bin', 'mir', 'kommen', 'mir', 'ihnen', 'eos']\n"
     ]
    }
   ],
   "source": [
    "print(translator(sentence))"
   ],
   "metadata": {
    "collapsed": false,
    "ExecuteTime": {
     "end_time": "2025-01-22T06:57:45.329490Z",
     "start_time": "2025-01-22T06:57:43.348414Z"
    }
   },
   "id": "b5a9896c3f68be4a"
  },
  {
   "cell_type": "code",
   "execution_count": null,
   "outputs": [],
   "source": [],
   "metadata": {
    "collapsed": false
   },
   "id": "ac5bb415afc92c5b"
  }
 ],
 "metadata": {
  "kernelspec": {
   "display_name": "Python 3",
   "language": "python",
   "name": "python3"
  },
  "language_info": {
   "codemirror_mode": {
    "name": "ipython",
    "version": 2
   },
   "file_extension": ".py",
   "mimetype": "text/x-python",
   "name": "python",
   "nbconvert_exporter": "python",
   "pygments_lexer": "ipython2",
   "version": "2.7.6"
  }
 },
 "nbformat": 4,
 "nbformat_minor": 5
}
